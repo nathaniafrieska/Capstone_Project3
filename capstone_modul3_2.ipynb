{
 "cells": [
  {
   "cell_type": "markdown",
   "metadata": {},
   "source": [
    "# **`HOTEL BOOKING DEMAND`**"
   ]
  },
  {
   "cell_type": "markdown",
   "metadata": {},
   "source": [
    "## Business Problem Understanding"
   ]
  },
  {
   "cell_type": "markdown",
   "metadata": {},
   "source": [
    "**Context**  \n",
    "Sebuah hotel bintang 5 merekrut Data Scientist yang mempunyai kemampuan dibidang Machine Learning untuk memprediksi apakah seorang customer akan membatalkan pesanan mereka atau tidak. Banyak orang melakukan booking di hotel mereka, akan tetapi hotel sering mengalami kerugian karena customer yang tiba-tiba membatalkan pemesanan sehingga tidak dapat ditempati oleh pelanggan lain. \n",
    "\n",
    "Target :\n",
    "- 0 : Tidak akan cancel\n",
    "- 1 : Cancel"
   ]
  },
  {
   "attachments": {},
   "cell_type": "markdown",
   "metadata": {},
   "source": [
    "**Problem Statement :**\n",
    "\n",
    "Bagaimana kita dapat memprediksi dan meminimalkan pembatalan oleh customer sehingga dapat mengurangi kerugian dari orang-orang yang tiba-tiba membatalkan kamar.\n",
    "\n",
    "\n",
    "**Goals :**\n",
    "\n",
    "Maka berdasarkan permasalahan tersebut, pihak hotel ingin memiliki kemampuan untuk memprediksi kemungkinan seorang calon customer akan melakukan cancel booking pada hotel tersebut atau tidak, sehingga dapat memfokuskan pemberian kamar pada calon customer yang tidak akan me-cancel booking-an kamar mereka.\n",
    "\n",
    "\n",
    "**Analytic Approach :**\n",
    "\n",
    "Jadi yang akan kita lakukan adalah menganalisis data untuk menemukan pola yang membedakan calon customer yang akan melakukan pembatalan booking dengan yang tidak. Kemudian kita akan membangun model klasifikasi yang akan membantu pihak hotel untuk dapat memprediksi probabilitas seorang customer akan melakukan pembatalan booking pada hotel tersebut atau tidak."
   ]
  },
  {
   "cell_type": "markdown",
   "metadata": {},
   "source": [
    "**Metric Evaluation :**\n",
    "1. True Positif: Kita memprediksi customer akan me-cancel dan nyatanya customer tersebut benar me-cancel\n",
    "- Impact: Bisa memaksimalkan keuntungan dengan mengisi seluruh kamar \n",
    "\n",
    "2. False Positif: Kita memprediksi customer akan me-cancel tapi ternyata customer tersebut tidak me-cancel \n",
    "- Impact: Bisa kehilangan customer, akan tetapi jika hotel ramai maka tidak akan ada kamar kosong karna kasus ini karna dapat diambil dari waiting list\n",
    "\n",
    "3. True Negatif: Kita memprediksi customer tidak akan membatalkan booking dan nyatanya customer benar tidak membatalkan booking\n",
    "- Impact: Tidak ada, sesuai dengan sistem booking hotel\n",
    "\n",
    "4. False Negatif: Kita memprediksi customer tidak akan membatalkan booking tapi nyatanya customer membatalkan booking \n",
    "- Impact: Bisa menyebabkan kerugian, karena kamar yang awalnya diprediksi akan terisi, malah kosong. \n",
    "\n",
    "Jadi kita ingin sebanyak mungkin prediksi kelas negatif yang benar, dengan sesedikit mungkin prediksi false negatif."
   ]
  },
  {
   "cell_type": "code",
   "execution_count": 243,
   "metadata": {},
   "outputs": [],
   "source": [
    "# Library\n",
    "\n",
    "import pandas as pd\n",
    "import numpy as np\n",
    "\n",
    "# Visualization\n",
    "import matplotlib.pyplot as plt\n",
    "import seaborn as sns\n",
    "from IPython.display import display\n",
    "\n",
    "# Feature Engineering\n",
    "from sklearn.pipeline import Pipeline\n",
    "from sklearn.impute import SimpleImputer\n",
    "from sklearn.preprocessing import StandardScaler, PolynomialFeatures, MinMaxScaler, RobustScaler\n",
    "from sklearn.preprocessing import OneHotEncoder, LabelEncoder, OrdinalEncoder\n",
    "from sklearn.compose import ColumnTransformer\n",
    "import category_encoders as ce\n",
    "\n",
    "# Model Selection\n",
    "from sklearn.linear_model import LogisticRegression\n",
    "from sklearn.tree import DecisionTreeClassifier\n",
    "from sklearn.model_selection import RandomizedSearchCV,StratifiedKFold,train_test_split, cross_val_score\n",
    "from sklearn.metrics import classification_report, confusion_matrix\n",
    "from sklearn.neighbors import KNeighborsClassifier\n",
    "from sklearn.ensemble import RandomForestClassifier\n",
    "from sklearn.metrics import accuracy_score, recall_score, precision_score\n",
    "from sklearn.ensemble import AdaBoostClassifier\n",
    "from sklearn.ensemble import GradientBoostingClassifier\n",
    "from xgboost.sklearn import XGBClassifier\n",
    "\n",
    "# Imbalance Dataset\n",
    "from imblearn.pipeline import Pipeline\n",
    "from imblearn.over_sampling import RandomOverSampler, SMOTE\n",
    "from imblearn.under_sampling import RandomUnderSampler, NearMiss\n",
    "\n",
    "# Ignore Warning\n",
    "import sys\n",
    "import warnings\n",
    "if not sys.warnoptions:\n",
    "    warnings.simplefilter(\"ignore\")\n",
    "\n",
    "# Set max columns\n",
    "pd.set_option('display.max_columns', None)"
   ]
  },
  {
   "cell_type": "markdown",
   "metadata": {},
   "source": [
    "# LOAD DATASET"
   ]
  },
  {
   "attachments": {},
   "cell_type": "markdown",
   "metadata": {},
   "source": [
    "This data set contains booking information for a hotel located in Portugal, and includes information regarding room reservation for respective customers.\n",
    "Dataset bersumber dari Kaggle: \n",
    "- Pembuat data: JESSE MOSTIPAK \n",
    "- Tanggal : 7-10-2017"
   ]
  },
  {
   "cell_type": "code",
   "execution_count": 268,
   "metadata": {},
   "outputs": [
    {
     "data": {
      "text/html": [
       "<div>\n",
       "<style scoped>\n",
       "    .dataframe tbody tr th:only-of-type {\n",
       "        vertical-align: middle;\n",
       "    }\n",
       "\n",
       "    .dataframe tbody tr th {\n",
       "        vertical-align: top;\n",
       "    }\n",
       "\n",
       "    .dataframe thead th {\n",
       "        text-align: right;\n",
       "    }\n",
       "</style>\n",
       "<table border=\"1\" class=\"dataframe\">\n",
       "  <thead>\n",
       "    <tr style=\"text-align: right;\">\n",
       "      <th></th>\n",
       "      <th>country</th>\n",
       "      <th>market_segment</th>\n",
       "      <th>previous_cancellations</th>\n",
       "      <th>booking_changes</th>\n",
       "      <th>deposit_type</th>\n",
       "      <th>days_in_waiting_list</th>\n",
       "      <th>customer_type</th>\n",
       "      <th>reserved_room_type</th>\n",
       "      <th>required_car_parking_spaces</th>\n",
       "      <th>total_of_special_requests</th>\n",
       "      <th>is_canceled</th>\n",
       "    </tr>\n",
       "  </thead>\n",
       "  <tbody>\n",
       "    <tr>\n",
       "      <th>0</th>\n",
       "      <td>IRL</td>\n",
       "      <td>Offline TA/TO</td>\n",
       "      <td>0</td>\n",
       "      <td>0</td>\n",
       "      <td>No Deposit</td>\n",
       "      <td>0</td>\n",
       "      <td>Transient-Party</td>\n",
       "      <td>A</td>\n",
       "      <td>0</td>\n",
       "      <td>0</td>\n",
       "      <td>0</td>\n",
       "    </tr>\n",
       "    <tr>\n",
       "      <th>1</th>\n",
       "      <td>FRA</td>\n",
       "      <td>Online TA</td>\n",
       "      <td>0</td>\n",
       "      <td>0</td>\n",
       "      <td>No Deposit</td>\n",
       "      <td>0</td>\n",
       "      <td>Transient</td>\n",
       "      <td>A</td>\n",
       "      <td>0</td>\n",
       "      <td>2</td>\n",
       "      <td>0</td>\n",
       "    </tr>\n",
       "    <tr>\n",
       "      <th>2</th>\n",
       "      <td>PRT</td>\n",
       "      <td>Online TA</td>\n",
       "      <td>0</td>\n",
       "      <td>1</td>\n",
       "      <td>No Deposit</td>\n",
       "      <td>0</td>\n",
       "      <td>Transient</td>\n",
       "      <td>A</td>\n",
       "      <td>0</td>\n",
       "      <td>2</td>\n",
       "      <td>0</td>\n",
       "    </tr>\n",
       "    <tr>\n",
       "      <th>3</th>\n",
       "      <td>NLD</td>\n",
       "      <td>Online TA</td>\n",
       "      <td>0</td>\n",
       "      <td>0</td>\n",
       "      <td>No Deposit</td>\n",
       "      <td>0</td>\n",
       "      <td>Transient</td>\n",
       "      <td>A</td>\n",
       "      <td>0</td>\n",
       "      <td>1</td>\n",
       "      <td>1</td>\n",
       "    </tr>\n",
       "    <tr>\n",
       "      <th>4</th>\n",
       "      <td>PRT</td>\n",
       "      <td>Online TA</td>\n",
       "      <td>0</td>\n",
       "      <td>2</td>\n",
       "      <td>No Deposit</td>\n",
       "      <td>0</td>\n",
       "      <td>Transient</td>\n",
       "      <td>A</td>\n",
       "      <td>0</td>\n",
       "      <td>2</td>\n",
       "      <td>0</td>\n",
       "    </tr>\n",
       "  </tbody>\n",
       "</table>\n",
       "</div>"
      ],
      "text/plain": [
       "  country market_segment  previous_cancellations  booking_changes  \\\n",
       "0     IRL  Offline TA/TO                       0                0   \n",
       "1     FRA      Online TA                       0                0   \n",
       "2     PRT      Online TA                       0                1   \n",
       "3     NLD      Online TA                       0                0   \n",
       "4     PRT      Online TA                       0                2   \n",
       "\n",
       "  deposit_type  days_in_waiting_list    customer_type reserved_room_type  \\\n",
       "0   No Deposit                     0  Transient-Party                  A   \n",
       "1   No Deposit                     0        Transient                  A   \n",
       "2   No Deposit                     0        Transient                  A   \n",
       "3   No Deposit                     0        Transient                  A   \n",
       "4   No Deposit                     0        Transient                  A   \n",
       "\n",
       "   required_car_parking_spaces  total_of_special_requests  is_canceled  \n",
       "0                            0                          0            0  \n",
       "1                            0                          2            0  \n",
       "2                            0                          2            0  \n",
       "3                            0                          1            1  \n",
       "4                            0                          2            0  "
      ]
     },
     "execution_count": 268,
     "metadata": {},
     "output_type": "execute_result"
    }
   ],
   "source": [
    "df = pd.read_csv('data_hotel_booking_demand.csv')\n",
    "df.head()"
   ]
  },
  {
   "attachments": {},
   "cell_type": "markdown",
   "metadata": {},
   "source": [
    "## Data Understanding dan Cleaning"
   ]
  },
  {
   "cell_type": "markdown",
   "metadata": {},
   "source": [
    "### Attribute Information\n",
    "\n",
    "| Attribute | Data Type, Length | Description |\n",
    "| --- | --- | --- |\n",
    "| Country | Text | Country of origin |\n",
    "| market_segment | Text | Market segment designation |\n",
    "| previous_cancellations | int64 | Number of previous bookings that were cancelled by the customer prior to the current booking |\n",
    "| booking_changes | int64 | Number of changes/amendments made to the booking from the moment the booking was entered on the PMS until the moment of check-in or cancellation |\n",
    "| deposit_types | Text | Indication on if the customer made a deposit to guarantee the booking |\n",
    "| days_in_waiting_list | int64 | Number of days the booking was in the waiting list before it was confirmed to the customer |\n",
    "| customer_type | Text | Type of booking |\n",
    "| reserved_room_type | Text | Code of room type reserved. Code is presented instead of designation for anonymity reasons |\n",
    "| required_car_parking_space | int64 | Number of car parking spaces required by the customer |\n",
    "| total_of_special_request | int64 | Number of special requests made by the customer (e.g. twin bed or high floor) |\n",
    "| is_canceled | int64 | Value indicating if the booking was canceled (1) or not (0) |"
   ]
  },
  {
   "cell_type": "code",
   "execution_count": 3,
   "metadata": {},
   "outputs": [
    {
     "name": "stdout",
     "output_type": "stream",
     "text": [
      "<class 'pandas.core.frame.DataFrame'>\n",
      "RangeIndex: 83573 entries, 0 to 83572\n",
      "Data columns (total 11 columns):\n",
      " #   Column                       Non-Null Count  Dtype \n",
      "---  ------                       --------------  ----- \n",
      " 0   country                      83222 non-null  object\n",
      " 1   market_segment               83573 non-null  object\n",
      " 2   previous_cancellations       83573 non-null  int64 \n",
      " 3   booking_changes              83573 non-null  int64 \n",
      " 4   deposit_type                 83573 non-null  object\n",
      " 5   days_in_waiting_list         83573 non-null  int64 \n",
      " 6   customer_type                83573 non-null  object\n",
      " 7   reserved_room_type           83573 non-null  object\n",
      " 8   required_car_parking_spaces  83573 non-null  int64 \n",
      " 9   total_of_special_requests    83573 non-null  int64 \n",
      " 10  is_canceled                  83573 non-null  int64 \n",
      "dtypes: int64(6), object(5)\n",
      "memory usage: 7.0+ MB\n"
     ]
    }
   ],
   "source": [
    "# check type data \n",
    "df.info()"
   ]
  },
  {
   "cell_type": "code",
   "execution_count": 4,
   "metadata": {},
   "outputs": [
    {
     "data": {
      "text/plain": [
       "country                        351\n",
       "market_segment                   0\n",
       "previous_cancellations           0\n",
       "booking_changes                  0\n",
       "deposit_type                     0\n",
       "days_in_waiting_list             0\n",
       "customer_type                    0\n",
       "reserved_room_type               0\n",
       "required_car_parking_spaces      0\n",
       "total_of_special_requests        0\n",
       "is_canceled                      0\n",
       "dtype: int64"
      ]
     },
     "execution_count": 4,
     "metadata": {},
     "output_type": "execute_result"
    }
   ],
   "source": [
    "# check data kosong ada berapa banyak\n",
    "df.isna().sum()"
   ]
  },
  {
   "attachments": {},
   "cell_type": "markdown",
   "metadata": {},
   "source": [
    "### Preprocessing\n",
    "Preprocessing atau pra-pemrosesan data adalah proses persiapan data sebelum dilakukan analisis atau pengolahan lebih lanjut. Preprocessing penting untuk mendapatkan hasil yang akurat dan bermakna dari analisis data.\n",
    "\n",
    "Beberapa tahapan dalam preprocessing data antara lain:\n",
    "- Data Cleaning: Menghilangkan data yang tidak valid, data yang hilang, atau outlier dari data mentah.\n",
    "- Data Integration: Menggabungkan beberapa sumber data menjadi satu data yang terintegrasi.\n",
    "- Data Transformation: Mengubah data mentah menjadi format yang lebih mudah dipahami dan diolah, seperti mengubah variabel menjadi skala yang sama, menormalkan data, dan mengubah format data.\n",
    "- Data Reduction: Mengurangi jumlah variabel atau instance data dengan cara menghapus data yang tidak relevan atau tidak penting."
   ]
  },
  {
   "attachments": {},
   "cell_type": "markdown",
   "metadata": {},
   "source": [
    "### Missing Value"
   ]
  },
  {
   "cell_type": "code",
   "execution_count": 5,
   "metadata": {},
   "outputs": [
    {
     "name": "stdout",
     "output_type": "stream",
     "text": [
      "Number of missing value in Country column :  351\n",
      "Proportion of missing value (%) :  0.42\n"
     ]
    }
   ],
   "source": [
    "# Show Number of Missing Value and Proportion to Dataset\n",
    "print('Number of missing value in Country column : ', df['country'].isna().sum())\n",
    "print('Proportion of missing value (%) : ', ((df['country'].isna().sum() / len(df)) *100).round(2))"
   ]
  },
  {
   "cell_type": "markdown",
   "metadata": {},
   "source": [
    "Terdapat data kosong pada kolom country dengan jumlah data kosong sebanyak 351 data, setara dengan 0.42% dari total data di dataset. \n",
    "Untuk missing value pada kolom country dengan 'Other'."
   ]
  },
  {
   "cell_type": "code",
   "execution_count": 6,
   "metadata": {},
   "outputs": [],
   "source": [
    "# handling missing value\n",
    "df['country'] = df['country'].fillna('Other')"
   ]
  },
  {
   "attachments": {},
   "cell_type": "markdown",
   "metadata": {},
   "source": [
    "### Duplicated Data"
   ]
  },
  {
   "cell_type": "code",
   "execution_count": 7,
   "metadata": {},
   "outputs": [
    {
     "data": {
      "text/plain": [
       "73371"
      ]
     },
     "execution_count": 7,
     "metadata": {},
     "output_type": "execute_result"
    }
   ],
   "source": [
    "# Check duplicated data\n",
    "df.duplicated().sum()"
   ]
  },
  {
   "cell_type": "code",
   "execution_count": 8,
   "metadata": {},
   "outputs": [
    {
     "data": {
      "text/html": [
       "<div>\n",
       "<style scoped>\n",
       "    .dataframe tbody tr th:only-of-type {\n",
       "        vertical-align: middle;\n",
       "    }\n",
       "\n",
       "    .dataframe tbody tr th {\n",
       "        vertical-align: top;\n",
       "    }\n",
       "\n",
       "    .dataframe thead th {\n",
       "        text-align: right;\n",
       "    }\n",
       "</style>\n",
       "<table border=\"1\" class=\"dataframe\">\n",
       "  <thead>\n",
       "    <tr style=\"text-align: right;\">\n",
       "      <th></th>\n",
       "      <th>country</th>\n",
       "      <th>market_segment</th>\n",
       "      <th>previous_cancellations</th>\n",
       "      <th>booking_changes</th>\n",
       "      <th>deposit_type</th>\n",
       "      <th>days_in_waiting_list</th>\n",
       "      <th>customer_type</th>\n",
       "      <th>reserved_room_type</th>\n",
       "      <th>required_car_parking_spaces</th>\n",
       "      <th>total_of_special_requests</th>\n",
       "      <th>is_canceled</th>\n",
       "    </tr>\n",
       "  </thead>\n",
       "  <tbody>\n",
       "    <tr>\n",
       "      <th>7</th>\n",
       "      <td>PRT</td>\n",
       "      <td>Groups</td>\n",
       "      <td>0</td>\n",
       "      <td>0</td>\n",
       "      <td>Non Refund</td>\n",
       "      <td>0</td>\n",
       "      <td>Transient</td>\n",
       "      <td>A</td>\n",
       "      <td>0</td>\n",
       "      <td>0</td>\n",
       "      <td>1</td>\n",
       "    </tr>\n",
       "    <tr>\n",
       "      <th>22</th>\n",
       "      <td>PRT</td>\n",
       "      <td>Groups</td>\n",
       "      <td>0</td>\n",
       "      <td>0</td>\n",
       "      <td>Non Refund</td>\n",
       "      <td>0</td>\n",
       "      <td>Transient</td>\n",
       "      <td>A</td>\n",
       "      <td>0</td>\n",
       "      <td>0</td>\n",
       "      <td>1</td>\n",
       "    </tr>\n",
       "    <tr>\n",
       "      <th>29</th>\n",
       "      <td>PRT</td>\n",
       "      <td>Online TA</td>\n",
       "      <td>0</td>\n",
       "      <td>0</td>\n",
       "      <td>No Deposit</td>\n",
       "      <td>0</td>\n",
       "      <td>Transient</td>\n",
       "      <td>A</td>\n",
       "      <td>0</td>\n",
       "      <td>1</td>\n",
       "      <td>0</td>\n",
       "    </tr>\n",
       "    <tr>\n",
       "      <th>34</th>\n",
       "      <td>PRT</td>\n",
       "      <td>Groups</td>\n",
       "      <td>0</td>\n",
       "      <td>0</td>\n",
       "      <td>Non Refund</td>\n",
       "      <td>0</td>\n",
       "      <td>Transient</td>\n",
       "      <td>A</td>\n",
       "      <td>0</td>\n",
       "      <td>0</td>\n",
       "      <td>1</td>\n",
       "    </tr>\n",
       "    <tr>\n",
       "      <th>44</th>\n",
       "      <td>PRT</td>\n",
       "      <td>Groups</td>\n",
       "      <td>0</td>\n",
       "      <td>0</td>\n",
       "      <td>Non Refund</td>\n",
       "      <td>0</td>\n",
       "      <td>Transient</td>\n",
       "      <td>A</td>\n",
       "      <td>0</td>\n",
       "      <td>0</td>\n",
       "      <td>1</td>\n",
       "    </tr>\n",
       "    <tr>\n",
       "      <th>...</th>\n",
       "      <td>...</td>\n",
       "      <td>...</td>\n",
       "      <td>...</td>\n",
       "      <td>...</td>\n",
       "      <td>...</td>\n",
       "      <td>...</td>\n",
       "      <td>...</td>\n",
       "      <td>...</td>\n",
       "      <td>...</td>\n",
       "      <td>...</td>\n",
       "      <td>...</td>\n",
       "    </tr>\n",
       "    <tr>\n",
       "      <th>83568</th>\n",
       "      <td>PRT</td>\n",
       "      <td>Online TA</td>\n",
       "      <td>0</td>\n",
       "      <td>0</td>\n",
       "      <td>No Deposit</td>\n",
       "      <td>0</td>\n",
       "      <td>Contract</td>\n",
       "      <td>A</td>\n",
       "      <td>0</td>\n",
       "      <td>3</td>\n",
       "      <td>1</td>\n",
       "    </tr>\n",
       "    <tr>\n",
       "      <th>83569</th>\n",
       "      <td>FRA</td>\n",
       "      <td>Online TA</td>\n",
       "      <td>0</td>\n",
       "      <td>0</td>\n",
       "      <td>No Deposit</td>\n",
       "      <td>0</td>\n",
       "      <td>Transient</td>\n",
       "      <td>D</td>\n",
       "      <td>0</td>\n",
       "      <td>2</td>\n",
       "      <td>0</td>\n",
       "    </tr>\n",
       "    <tr>\n",
       "      <th>83570</th>\n",
       "      <td>PRT</td>\n",
       "      <td>Online TA</td>\n",
       "      <td>0</td>\n",
       "      <td>1</td>\n",
       "      <td>No Deposit</td>\n",
       "      <td>0</td>\n",
       "      <td>Transient</td>\n",
       "      <td>D</td>\n",
       "      <td>0</td>\n",
       "      <td>3</td>\n",
       "      <td>0</td>\n",
       "    </tr>\n",
       "    <tr>\n",
       "      <th>83571</th>\n",
       "      <td>CN</td>\n",
       "      <td>Offline TA/TO</td>\n",
       "      <td>0</td>\n",
       "      <td>0</td>\n",
       "      <td>No Deposit</td>\n",
       "      <td>0</td>\n",
       "      <td>Transient-Party</td>\n",
       "      <td>A</td>\n",
       "      <td>0</td>\n",
       "      <td>0</td>\n",
       "      <td>0</td>\n",
       "    </tr>\n",
       "    <tr>\n",
       "      <th>83572</th>\n",
       "      <td>PRT</td>\n",
       "      <td>Groups</td>\n",
       "      <td>0</td>\n",
       "      <td>0</td>\n",
       "      <td>Non Refund</td>\n",
       "      <td>0</td>\n",
       "      <td>Transient</td>\n",
       "      <td>A</td>\n",
       "      <td>0</td>\n",
       "      <td>0</td>\n",
       "      <td>1</td>\n",
       "    </tr>\n",
       "  </tbody>\n",
       "</table>\n",
       "<p>73371 rows × 11 columns</p>\n",
       "</div>"
      ],
      "text/plain": [
       "      country market_segment  previous_cancellations  booking_changes  \\\n",
       "7         PRT         Groups                       0                0   \n",
       "22        PRT         Groups                       0                0   \n",
       "29        PRT      Online TA                       0                0   \n",
       "34        PRT         Groups                       0                0   \n",
       "44        PRT         Groups                       0                0   \n",
       "...       ...            ...                     ...              ...   \n",
       "83568     PRT      Online TA                       0                0   \n",
       "83569     FRA      Online TA                       0                0   \n",
       "83570     PRT      Online TA                       0                1   \n",
       "83571      CN  Offline TA/TO                       0                0   \n",
       "83572     PRT         Groups                       0                0   \n",
       "\n",
       "      deposit_type  days_in_waiting_list    customer_type reserved_room_type  \\\n",
       "7       Non Refund                     0        Transient                  A   \n",
       "22      Non Refund                     0        Transient                  A   \n",
       "29      No Deposit                     0        Transient                  A   \n",
       "34      Non Refund                     0        Transient                  A   \n",
       "44      Non Refund                     0        Transient                  A   \n",
       "...            ...                   ...              ...                ...   \n",
       "83568   No Deposit                     0         Contract                  A   \n",
       "83569   No Deposit                     0        Transient                  D   \n",
       "83570   No Deposit                     0        Transient                  D   \n",
       "83571   No Deposit                     0  Transient-Party                  A   \n",
       "83572   Non Refund                     0        Transient                  A   \n",
       "\n",
       "       required_car_parking_spaces  total_of_special_requests  is_canceled  \n",
       "7                                0                          0            1  \n",
       "22                               0                          0            1  \n",
       "29                               0                          1            0  \n",
       "34                               0                          0            1  \n",
       "44                               0                          0            1  \n",
       "...                            ...                        ...          ...  \n",
       "83568                            0                          3            1  \n",
       "83569                            0                          2            0  \n",
       "83570                            0                          3            0  \n",
       "83571                            0                          0            0  \n",
       "83572                            0                          0            1  \n",
       "\n",
       "[73371 rows x 11 columns]"
      ]
     },
     "execution_count": 8,
     "metadata": {},
     "output_type": "execute_result"
    }
   ],
   "source": [
    "# show duplicate data\n",
    "df[df.duplicated() == True]"
   ]
  },
  {
   "attachments": {},
   "cell_type": "markdown",
   "metadata": {},
   "source": [
    "Terdapat sebanyak 73371 duplicate data pada dataset ini, namun tidak ada informasi unik seperti tanggal atau id number yang dapat membedakan satu data dengan lainnya. Oleh karena itu, saya tidak akan menghapus data duplicate ini lebih lanjut karena pada data ini mungkin terjadi duplicate data karna tidak adanya informasi unik yang dirujuk."
   ]
  },
  {
   "attachments": {},
   "cell_type": "markdown",
   "metadata": {},
   "source": [
    "### Column Details"
   ]
  },
  {
   "cell_type": "code",
   "execution_count": 9,
   "metadata": {},
   "outputs": [
    {
     "data": {
      "text/html": [
       "<div>\n",
       "<style scoped>\n",
       "    .dataframe tbody tr th:only-of-type {\n",
       "        vertical-align: middle;\n",
       "    }\n",
       "\n",
       "    .dataframe tbody tr th {\n",
       "        vertical-align: top;\n",
       "    }\n",
       "\n",
       "    .dataframe thead th {\n",
       "        text-align: right;\n",
       "    }\n",
       "</style>\n",
       "<table border=\"1\" class=\"dataframe\">\n",
       "  <thead>\n",
       "    <tr style=\"text-align: right;\">\n",
       "      <th></th>\n",
       "      <th>dataFeatures</th>\n",
       "      <th>dataType</th>\n",
       "      <th>null</th>\n",
       "      <th>nullPct</th>\n",
       "      <th>unique</th>\n",
       "      <th>uniqueSample</th>\n",
       "    </tr>\n",
       "  </thead>\n",
       "  <tbody>\n",
       "    <tr>\n",
       "      <th>0</th>\n",
       "      <td>country</td>\n",
       "      <td>object</td>\n",
       "      <td>0</td>\n",
       "      <td>0.0</td>\n",
       "      <td>163</td>\n",
       "      <td>[IRL, FRA, PRT, NLD, ESP, UMI, CN, LUX, BRA, B...</td>\n",
       "    </tr>\n",
       "    <tr>\n",
       "      <th>1</th>\n",
       "      <td>market_segment</td>\n",
       "      <td>object</td>\n",
       "      <td>0</td>\n",
       "      <td>0.0</td>\n",
       "      <td>8</td>\n",
       "      <td>[Offline TA/TO, Online TA, Direct, Groups, Cor...</td>\n",
       "    </tr>\n",
       "    <tr>\n",
       "      <th>2</th>\n",
       "      <td>previous_cancellations</td>\n",
       "      <td>int64</td>\n",
       "      <td>0</td>\n",
       "      <td>0.0</td>\n",
       "      <td>15</td>\n",
       "      <td>[0, 1, 25, 2, 3, 11, 24, 13, 6, 26, 14, 4, 19,...</td>\n",
       "    </tr>\n",
       "    <tr>\n",
       "      <th>3</th>\n",
       "      <td>booking_changes</td>\n",
       "      <td>int64</td>\n",
       "      <td>0</td>\n",
       "      <td>0.0</td>\n",
       "      <td>19</td>\n",
       "      <td>[0, 1, 2, 5, 3, 4, 6, 7, 9, 8, 17, 10, 13, 12,...</td>\n",
       "    </tr>\n",
       "    <tr>\n",
       "      <th>4</th>\n",
       "      <td>deposit_type</td>\n",
       "      <td>object</td>\n",
       "      <td>0</td>\n",
       "      <td>0.0</td>\n",
       "      <td>3</td>\n",
       "      <td>[No Deposit, Non Refund, Refundable]</td>\n",
       "    </tr>\n",
       "    <tr>\n",
       "      <th>5</th>\n",
       "      <td>days_in_waiting_list</td>\n",
       "      <td>int64</td>\n",
       "      <td>0</td>\n",
       "      <td>0.0</td>\n",
       "      <td>115</td>\n",
       "      <td>[0, 3, 39, 87, 77, 215, 97, 162, 46, 79, 4, 31...</td>\n",
       "    </tr>\n",
       "    <tr>\n",
       "      <th>6</th>\n",
       "      <td>customer_type</td>\n",
       "      <td>object</td>\n",
       "      <td>0</td>\n",
       "      <td>0.0</td>\n",
       "      <td>4</td>\n",
       "      <td>[Transient-Party, Transient, Contract, Group]</td>\n",
       "    </tr>\n",
       "    <tr>\n",
       "      <th>7</th>\n",
       "      <td>reserved_room_type</td>\n",
       "      <td>object</td>\n",
       "      <td>0</td>\n",
       "      <td>0.0</td>\n",
       "      <td>10</td>\n",
       "      <td>[A, E, D, F, B, G, C, H, L, P]</td>\n",
       "    </tr>\n",
       "    <tr>\n",
       "      <th>8</th>\n",
       "      <td>required_car_parking_spaces</td>\n",
       "      <td>int64</td>\n",
       "      <td>0</td>\n",
       "      <td>0.0</td>\n",
       "      <td>5</td>\n",
       "      <td>[0, 1, 2, 8, 3]</td>\n",
       "    </tr>\n",
       "    <tr>\n",
       "      <th>9</th>\n",
       "      <td>total_of_special_requests</td>\n",
       "      <td>int64</td>\n",
       "      <td>0</td>\n",
       "      <td>0.0</td>\n",
       "      <td>6</td>\n",
       "      <td>[0, 2, 1, 3, 4, 5]</td>\n",
       "    </tr>\n",
       "    <tr>\n",
       "      <th>10</th>\n",
       "      <td>is_canceled</td>\n",
       "      <td>int64</td>\n",
       "      <td>0</td>\n",
       "      <td>0.0</td>\n",
       "      <td>2</td>\n",
       "      <td>[0, 1]</td>\n",
       "    </tr>\n",
       "  </tbody>\n",
       "</table>\n",
       "</div>"
      ],
      "text/plain": [
       "                   dataFeatures dataType  null  nullPct  unique  \\\n",
       "0                       country   object     0      0.0     163   \n",
       "1                market_segment   object     0      0.0       8   \n",
       "2        previous_cancellations    int64     0      0.0      15   \n",
       "3               booking_changes    int64     0      0.0      19   \n",
       "4                  deposit_type   object     0      0.0       3   \n",
       "5          days_in_waiting_list    int64     0      0.0     115   \n",
       "6                 customer_type   object     0      0.0       4   \n",
       "7            reserved_room_type   object     0      0.0      10   \n",
       "8   required_car_parking_spaces    int64     0      0.0       5   \n",
       "9     total_of_special_requests    int64     0      0.0       6   \n",
       "10                  is_canceled    int64     0      0.0       2   \n",
       "\n",
       "                                         uniqueSample  \n",
       "0   [IRL, FRA, PRT, NLD, ESP, UMI, CN, LUX, BRA, B...  \n",
       "1   [Offline TA/TO, Online TA, Direct, Groups, Cor...  \n",
       "2   [0, 1, 25, 2, 3, 11, 24, 13, 6, 26, 14, 4, 19,...  \n",
       "3   [0, 1, 2, 5, 3, 4, 6, 7, 9, 8, 17, 10, 13, 12,...  \n",
       "4                [No Deposit, Non Refund, Refundable]  \n",
       "5   [0, 3, 39, 87, 77, 215, 97, 162, 46, 79, 4, 31...  \n",
       "6       [Transient-Party, Transient, Contract, Group]  \n",
       "7                      [A, E, D, F, B, G, C, H, L, P]  \n",
       "8                                     [0, 1, 2, 8, 3]  \n",
       "9                                  [0, 2, 1, 3, 4, 5]  \n",
       "10                                             [0, 1]  "
      ]
     },
     "execution_count": 9,
     "metadata": {},
     "output_type": "execute_result"
    }
   ],
   "source": [
    "# Check column details\n",
    "listItem = []\n",
    "for col in df.columns :\n",
    "    listItem.append([col, df[col].dtype, df[col].isna().sum(), round((df[col].isna().sum()/len(df[col])) * 100,2),\n",
    "                    df[col].nunique(), list(df[col].drop_duplicates().values)]);\n",
    "\n",
    "# input data into DataFrame and show details of every column\n",
    "dfDesc = pd.DataFrame(columns=['dataFeatures', 'dataType', 'null', 'nullPct', 'unique', 'uniqueSample'],\n",
    "                     data=listItem)\n",
    "dfDesc"
   ]
  },
  {
   "cell_type": "code",
   "execution_count": 10,
   "metadata": {},
   "outputs": [
    {
     "name": "stdout",
     "output_type": "stream",
     "text": [
      "['IRL' 'FRA' 'PRT' 'NLD' 'ESP' 'UMI' 'CN' 'LUX' 'BRA' 'BEL' 'JPN' 'DEU'\n",
      " 'ITA' 'CHE' 'GBR' 'AGO' 'SRB' 'COL' 'CHN' 'SWE' 'AUT' 'CIV' 'CZE' 'POL'\n",
      " 'USA' 'SGP' 'RUS' 'ROU' 'DNK' 'IND' 'MAR' 'PHL' 'ARG' 'ISL' 'ZAF' 'LBN'\n",
      " 'MOZ' 'TUR' 'BGD' 'MEX' 'CAF' 'NOR' 'FIN' 'UKR' 'EGY' 'ISR' 'Other' 'KOR'\n",
      " 'AZE' 'HUN' 'AUS' 'EST' 'CHL' 'SVN' 'PRY' 'ABW' 'ALB' 'LTU' 'ARE' 'HRV'\n",
      " 'SAU' 'NZL' 'LVA' 'ATA' 'KAZ' 'DZA' 'TWN' 'CRI' 'BIH' 'BGR' 'IRQ' 'OMN'\n",
      " 'VEN' 'IDN' 'GEO' 'MLT' 'IRN' 'BLR' 'URY' 'LBY' 'TUN' 'BEN' 'MYS' 'MWI'\n",
      " 'GRC' 'CYP' 'CPV' 'HKG' 'PRI' 'MKD' 'MUS' 'IMN' 'PAN' 'NGA' 'GLP' 'KHM'\n",
      " 'PER' 'QAT' 'SEN' 'MAC' 'SVK' 'BHR' 'ECU' 'SYC' 'BOL' 'TJK' 'LCA' 'MDV'\n",
      " 'SYR' 'ZMB' 'LIE' 'THA' 'MNE' 'BRB' 'CMR' 'JEY' 'GTM' 'LKA' 'JOR' 'TZA'\n",
      " 'AND' 'ARM' 'GIB' 'VNM' 'PAK' 'JAM' 'DOM' 'KWT' 'LAO' 'RWA' 'FRO' 'GAB'\n",
      " 'ETH' 'CUB' 'COM' 'GNB' 'GGY' 'NIC' 'TGO' 'TMP' 'CYM' 'GHA' 'SLE' 'BWA'\n",
      " 'NCL' 'UZB' 'SUR' 'SDN' 'PLW' 'MLI' 'MMR' 'BFA' 'SLV' 'BDI' 'ZWE' 'UGA'\n",
      " 'DMA' 'VGB' 'KIR' 'KEN' 'MYT' 'KNA' 'AIA']\n",
      "['Offline TA/TO' 'Online TA' 'Direct' 'Groups' 'Corporate' 'Complementary'\n",
      " 'Aviation' 'Undefined']\n",
      "[ 0  1 25  2  3 11 24 13  6 26 14  4 19  5 21]\n",
      "[ 0  1  2  5  3  4  6  7  9  8 17 10 13 12 14 21 16 20 15]\n",
      "['No Deposit' 'Non Refund' 'Refundable']\n",
      "[  0   3  39  87  77 215  97 162  46  79   4  31 122  34  57 259  50  17\n",
      "  32  43  75  69  44  22 113  58  38  65  48 236 176  25 108  91  19 160\n",
      "  68  28  63  35  42  59  24   8 183 187  21 111  56  98 101  15  16  47\n",
      "  93  45  14  70  10  49 178  99  60  40  85 223   6  33 391  20   1  41\n",
      " 147  55  80 379 150  61 330 174 107  96  18  62  13  30 120  27 207  71\n",
      "   2  76 125   5   9 224  53  83  84  12  73 100  92  23  11 105  26 193\n",
      "   7 165  74 121  36  64 185]\n",
      "['Transient-Party' 'Transient' 'Contract' 'Group']\n",
      "['A' 'E' 'D' 'F' 'B' 'G' 'C' 'H' 'L' 'P']\n",
      "[0 1 2 8 3]\n",
      "[0 2 1 3 4 5]\n",
      "[0 1]\n"
     ]
    }
   ],
   "source": [
    "# menampilkan data unique masing-masing kolom\n",
    "for col in df.columns :\n",
    "    print(df[col].unique())"
   ]
  },
  {
   "attachments": {},
   "cell_type": "markdown",
   "metadata": {},
   "source": [
    "### Cleaning"
   ]
  },
  {
   "cell_type": "markdown",
   "metadata": {},
   "source": [
    "Pada market_segment terdapat data Undefined 1 baris, sehingga saya memutuskan untuk menghapus saja data tersebut."
   ]
  },
  {
   "cell_type": "code",
   "execution_count": 11,
   "metadata": {},
   "outputs": [],
   "source": [
    "df = df[~(df['market_segment']=='Undefined')].reset_index(drop=True)"
   ]
  },
  {
   "attachments": {},
   "cell_type": "markdown",
   "metadata": {},
   "source": [
    "Pada reserved_room_type dan country, karna terdapat beberapa data yang sedikit dan hal ini akan mengakibatkan data sulit untuk dipelajari, sehingga saya mengganti data yang sedikit itu (kurang dari 10) dengan 'other' "
   ]
  },
  {
   "cell_type": "code",
   "execution_count": 13,
   "metadata": {},
   "outputs": [
    {
     "data": {
      "text/plain": [
       "Index(['P', 'L'], dtype='object')"
      ]
     },
     "execution_count": 13,
     "metadata": {},
     "output_type": "execute_result"
    }
   ],
   "source": [
    "# mencari index dari reserved_room_type yang memiliki data sedikit \n",
    "val_reserved = df['reserved_room_type'].value_counts() \n",
    "list_reserved_drop = val_reserved[val_reserved<10].index\n",
    "list_reserved_drop"
   ]
  },
  {
   "cell_type": "code",
   "execution_count": 14,
   "metadata": {},
   "outputs": [],
   "source": [
    "#mengganti data yang telah ditentukan dengan 'other' \n",
    "r = pd.Series(np.where(df['reserved_room_type'].isin(list_reserved_drop), 'Other', df['reserved_room_type']))\n",
    "\n",
    "# memasukkannya kedalam dataframe\n",
    "df['reserved_room_type'] = r"
   ]
  },
  {
   "cell_type": "code",
   "execution_count": 15,
   "metadata": {},
   "outputs": [
    {
     "data": {
      "text/plain": [
       "Index(['ETH', 'MUS', 'GHA', 'KEN', 'CIV', 'GAB', 'GTM', 'PRY', 'CAF', 'ZWE',\n",
       "       'SYR', 'TGO', 'TMP', 'COM', 'SLV', 'UZB', 'SUR', 'GGY', 'BRB', 'KHM',\n",
       "       'IMN', 'MNE', 'LIE', 'MWI', 'ABW', 'LAO', 'PLW', 'MMR', 'BFA', 'MYT',\n",
       "       'UGA', 'BDI', 'KIR', 'VGB', 'DMA', 'KNA', 'MLI', 'BEN', 'SDN', 'NCL',\n",
       "       'BWA', 'SLE', 'CYM', 'NIC', 'RWA', 'ZMB', 'LCA', 'SYC', 'GLP', 'ATA',\n",
       "       'UMI', 'AIA'],\n",
       "      dtype='object')"
      ]
     },
     "execution_count": 15,
     "metadata": {},
     "output_type": "execute_result"
    }
   ],
   "source": [
    "# mencari index dari country yang memiliki data sedikit (kurng dari 4)\n",
    "country = df['country'].value_counts()\n",
    "list_country_drop = country[country<=3].index\n",
    "list_country_drop"
   ]
  },
  {
   "cell_type": "code",
   "execution_count": 16,
   "metadata": {},
   "outputs": [],
   "source": [
    "# mengganti data yang telah ditentukan indexnya dengan 'other'\n",
    "c = pd.Series(np.where(df['country'].isin(list_country_drop), 'Other', df['country']))\n",
    "\n",
    "# dan memasukkan kedalam dataframe\n",
    "df['country'] = c"
   ]
  },
  {
   "attachments": {},
   "cell_type": "markdown",
   "metadata": {},
   "source": [
    "### Outliers"
   ]
  },
  {
   "cell_type": "code",
   "execution_count": 107,
   "metadata": {},
   "outputs": [
    {
     "data": {
      "text/plain": [
       "['country',\n",
       " 'market_segment',\n",
       " 'deposit_type',\n",
       " 'customer_type',\n",
       " 'reserved_room_type']"
      ]
     },
     "execution_count": 107,
     "metadata": {},
     "output_type": "execute_result"
    }
   ],
   "source": [
    "# kolom dengan data kategorikal\n",
    "cat_features = [feature for feature in df.columns if (df[feature].dtypes == 'O')]\n",
    "cat_features"
   ]
  },
  {
   "cell_type": "code",
   "execution_count": 108,
   "metadata": {},
   "outputs": [
    {
     "data": {
      "text/plain": [
       "['previous_cancellations',\n",
       " 'booking_changes',\n",
       " 'days_in_waiting_list',\n",
       " 'required_car_parking_spaces',\n",
       " 'total_of_special_requests']"
      ]
     },
     "execution_count": 108,
     "metadata": {},
     "output_type": "execute_result"
    }
   ],
   "source": [
    "# kolom dengan data numerical\n",
    "num_features = [feature for feature in df.columns if ((df[feature].dtypes != 'O') & (feature not in ['is_canceled']))]\n",
    "num_features"
   ]
  },
  {
   "cell_type": "code",
   "execution_count": 105,
   "metadata": {},
   "outputs": [
    {
     "data": {
      "image/png": "[encoded data removed]",
      "text/plain": [
       "<Figure size 1600x600 with 5 Axes>"
      ]
     },
     "metadata": {},
     "output_type": "display_data"
    }
   ],
   "source": [
    "col_names = num_features\n",
    "plotnumber = 1\n",
    "plt.figure(figsize=(16,6))\n",
    "\n",
    "for kolom in col_names:\n",
    "    plt.subplot(2,3, plotnumber)\n",
    "    sns.boxplot(data=df, x=kolom, color='pink')\n",
    "    plt.title(kolom)\n",
    "    plt.tight_layout()\n",
    "\n",
    "    plotnumber += 1"
   ]
  },
  {
   "attachments": {},
   "cell_type": "markdown",
   "metadata": {},
   "source": [
    "Sudah tidak ada missing value. Dataset ini terdiri dari informasi setiap reservasi yang dilakukan ke hotel, sehingga setiap baris terdiri dari satu transaksi reservasi. Terdapat outliers pada data ini, akan tetapi karena outliers ini dianggap sebagai data berbeda, agar machine dapat belajar dari banyak data, sehingga saya memutuskan untuk tidak menghapus outliers pada data ini. Sekarang data yang kita miliki sudah bersih, mari sekarang kita lanjut ke tahap analisa datanya untuk keperluan masalah kita."
   ]
  },
  {
   "attachments": {},
   "cell_type": "markdown",
   "metadata": {},
   "source": [
    "### Feature Column"
   ]
  },
  {
   "cell_type": "code",
   "execution_count": 17,
   "metadata": {},
   "outputs": [
    {
     "name": "stdout",
     "output_type": "stream",
     "text": [
      "0    52795\n",
      "1    30777\n",
      "Name: is_canceled, dtype: int64\n",
      "\n",
      "0    63.173072\n",
      "1    36.826928\n",
      "Name: is_canceled, dtype: float64\n"
     ]
    }
   ],
   "source": [
    "# mild imbalance : cek apakah data imbalance atau balance \n",
    "print(df['is_canceled'].value_counts())\n",
    "print()\n",
    "print(df['is_canceled'].value_counts()/len(df['is_canceled'])*100)\n",
    "\n",
    "# dari hasil terlihat bahwa datanya timpang, solusi dari masalah ini bisa dari feature engineering, resampling atau penggunaan model tertentu"
   ]
  },
  {
   "attachments": {},
   "cell_type": "markdown",
   "metadata": {},
   "source": [
    "### Define X and y\n",
    "Kita mendefinisikan feature dan target sebagai X dan y "
   ]
  },
  {
   "cell_type": "code",
   "execution_count": 18,
   "metadata": {},
   "outputs": [],
   "source": [
    "X = df.drop(columns='is_canceled')\n",
    "\n",
    "y = df['is_canceled']"
   ]
  },
  {
   "attachments": {},
   "cell_type": "markdown",
   "metadata": {},
   "source": [
    "### Data Splitting\n",
    "Melakukan splitting data menjadi 80% untuk data train dan split data menjadi 20% untuk data test.\n",
    "\n",
    "Data splitting adalah proses memisahkan dataset menjadi dua atau lebih subset yang berbeda untuk tujuan pengujian dan evaluasi model. Dataset awal biasanya dibagi menjadi subset pelatihan(train) dan subset pengujian (test). Subset pelatihan digunakan untuk melatih model, sedangkan subset pengujian digunakan untuk menguji kinerja model yang dilatih.\n",
    "\n",
    "Tujuan dari data splitting adalah untuk mengevaluasi kinerja model pada data yang belum pernah dilihat sebelumnya, sehingga dapat menghindari overfitting atau overgeneralization pada data pelatihan. Dengan membagi dataset menjadi subset pelatihan dan pengujian, model dapat diuji pada data yang independen, sehingga memastikan bahwa model tidak hanya menghafal data pelatihan tetapi juga dapat menggeneralisasikan dengan baik pada data baru."
   ]
  },
  {
   "cell_type": "code",
   "execution_count": 106,
   "metadata": {},
   "outputs": [],
   "source": [
    "# Split\n",
    "X_train, X_test, y_train, y_test = train_test_split(\n",
    "    X, \n",
    "    y,\n",
    "    stratify=y,  \n",
    "    test_size=0.2,\n",
    "    random_state=0\n",
    ")\n",
    "\n",
    "# Stratified = data dibagi menjadi subset pelatihan dan pengujian dengan mempertahankan distribusi proporsi kelas yang sama pada kedua subset. \n",
    "# Metode ini digunakan ketika dataset memiliki kelas yang tidak seimbang."
   ]
  },
  {
   "attachments": {},
   "cell_type": "markdown",
   "metadata": {},
   "source": [
    "Beberapa teknik preprocessing data yang sering digunakan antara lain:\n",
    "\n",
    "- Imputasi: Teknik untuk mengisi nilai yang hilang pada dataset.\n",
    "- Pengkodean atau encoding: Mengubah variabel kategorikal menjadi numerik.\n",
    "- Transformasi: Mengubah skala data, seperti log transform, dan normalisasi.\n",
    "- Pengurutan dan pengelompokkan: Mengurutkan dan mengelompokkan data ke dalam kategori-kategori tertentu.\n",
    "- Pemilihan fitur: Memilih variabel yang paling relevan untuk analisis data."
   ]
  },
  {
   "attachments": {},
   "cell_type": "markdown",
   "metadata": {},
   "source": [
    "- Scaling: 'previous_cancellations','booking_changes','days_in_waiting_list','required_car_parking_spaces','total_of_special_requests'\n",
    "- Encoding: \n",
    "    - onehot: 'market_segment', 'deposit_type', 'customer_type', 'reserved_room_type' --> karna hanya memiliki sedikit unique value\n",
    "    - binary: 'country' --> karna memiliki terlalu banyak unique value"
   ]
  },
  {
   "cell_type": "code",
   "execution_count": 23,
   "metadata": {},
   "outputs": [
    {
     "data": {
      "text/html": [
       "<style>#sk-container-id-1 {color: black;background-color: white;}#sk-container-id-1 pre{padding: 0;}#sk-container-id-1 div.sk-toggleable {background-color: white;}#sk-container-id-1 label.sk-toggleable__label {cursor: pointer;display: block;width: 100%;margin-bottom: 0;padding: 0.3em;box-sizing: border-box;text-align: center;}#sk-container-id-1 label.sk-toggleable__label-arrow:before {content: \"▸\";float: left;margin-right: 0.25em;color: #696969;}#sk-container-id-1 label.sk-toggleable__label-arrow:hover:before {color: black;}#sk-container-id-1 div.sk-estimator:hover label.sk-toggleable__label-arrow:before {color: black;}#sk-container-id-1 div.sk-toggleable__content {max-height: 0;max-width: 0;overflow: hidden;text-align: left;background-color: #f0f8ff;}#sk-container-id-1 div.sk-toggleable__content pre {margin: 0.2em;color: black;border-radius: 0.25em;background-color: #f0f8ff;}#sk-container-id-1 input.sk-toggleable__control:checked~div.sk-toggleable__content {max-height: 200px;max-width: 100%;overflow: auto;}#sk-container-id-1 input.sk-toggleable__control:checked~label.sk-toggleable__label-arrow:before {content: \"▾\";}#sk-container-id-1 div.sk-estimator input.sk-toggleable__control:checked~label.sk-toggleable__label {background-color: #d4ebff;}#sk-container-id-1 div.sk-label input.sk-toggleable__control:checked~label.sk-toggleable__label {background-color: #d4ebff;}#sk-container-id-1 input.sk-hidden--visually {border: 0;clip: rect(1px 1px 1px 1px);clip: rect(1px, 1px, 1px, 1px);height: 1px;margin: -1px;overflow: hidden;padding: 0;position: absolute;width: 1px;}#sk-container-id-1 div.sk-estimator {font-family: monospace;background-color: #f0f8ff;border: 1px dotted black;border-radius: 0.25em;box-sizing: border-box;margin-bottom: 0.5em;}#sk-container-id-1 div.sk-estimator:hover {background-color: #d4ebff;}#sk-container-id-1 div.sk-parallel-item::after {content: \"\";width: 100%;border-bottom: 1px solid gray;flex-grow: 1;}#sk-container-id-1 div.sk-label:hover label.sk-toggleable__label {background-color: #d4ebff;}#sk-container-id-1 div.sk-serial::before {content: \"\";position: absolute;border-left: 1px solid gray;box-sizing: border-box;top: 0;bottom: 0;left: 50%;z-index: 0;}#sk-container-id-1 div.sk-serial {display: flex;flex-direction: column;align-items: center;background-color: white;padding-right: 0.2em;padding-left: 0.2em;position: relative;}#sk-container-id-1 div.sk-item {position: relative;z-index: 1;}#sk-container-id-1 div.sk-parallel {display: flex;align-items: stretch;justify-content: center;background-color: white;position: relative;}#sk-container-id-1 div.sk-item::before, #sk-container-id-1 div.sk-parallel-item::before {content: \"\";position: absolute;border-left: 1px solid gray;box-sizing: border-box;top: 0;bottom: 0;left: 50%;z-index: -1;}#sk-container-id-1 div.sk-parallel-item {display: flex;flex-direction: column;z-index: 1;position: relative;background-color: white;}#sk-container-id-1 div.sk-parallel-item:first-child::after {align-self: flex-end;width: 50%;}#sk-container-id-1 div.sk-parallel-item:last-child::after {align-self: flex-start;width: 50%;}#sk-container-id-1 div.sk-parallel-item:only-child::after {width: 0;}#sk-container-id-1 div.sk-dashed-wrapped {border: 1px dashed gray;margin: 0 0.4em 0.5em 0.4em;box-sizing: border-box;padding-bottom: 0.4em;background-color: white;}#sk-container-id-1 div.sk-label label {font-family: monospace;font-weight: bold;display: inline-block;line-height: 1.2em;}#sk-container-id-1 div.sk-label-container {text-align: center;}#sk-container-id-1 div.sk-container {/* jupyter's `normalize.less` sets `[hidden] { display: none; }` but bootstrap.min.css set `[hidden] { display: none !important; }` so we also need the `!important` here to be able to override the default hidden behavior on the sphinx rendered scikit-learn.org. See: https://github.com/scikit-learn/scikit-learn/issues/21755 */display: inline-block !important;position: relative;}#sk-container-id-1 div.sk-text-repr-fallback {display: none;}</style><div id=\"sk-container-id-1\" class=\"sk-top-container\"><div class=\"sk-text-repr-fallback\"><pre>ColumnTransformer(remainder=&#x27;passthrough&#x27;,\n",
       "                  transformers=[(&#x27;pipe_poly_scaling&#x27;,\n",
       "                                 Pipeline(steps=[(&#x27;poly&#x27;,\n",
       "                                                  PolynomialFeatures(degree=1)),\n",
       "                                                 (&#x27;scaling&#x27;, RobustScaler())]),\n",
       "                                 [&#x27;previous_cancellations&#x27;, &#x27;booking_changes&#x27;,\n",
       "                                  &#x27;days_in_waiting_list&#x27;,\n",
       "                                  &#x27;required_car_parking_spaces&#x27;,\n",
       "                                  &#x27;total_of_special_requests&#x27;]),\n",
       "                                (&#x27;onehot&#x27;, OneHotEncoder(drop=&#x27;first&#x27;),\n",
       "                                 [&#x27;market_segment&#x27;, &#x27;deposit_type&#x27;,\n",
       "                                  &#x27;customer_type&#x27;, &#x27;reserved_room_type&#x27;]),\n",
       "                                (&#x27;binary&#x27;, BinaryEncoder(), [&#x27;country&#x27;])])</pre><b>In a Jupyter environment, please rerun this cell to show the HTML representation or trust the notebook. <br />On GitHub, the HTML representation is unable to render, please try loading this page with nbviewer.org.</b></div><div class=\"sk-container\" hidden><div class=\"sk-item sk-dashed-wrapped\"><div class=\"sk-label-container\"><div class=\"sk-label sk-toggleable\"><input class=\"sk-toggleable__control sk-hidden--visually\" id=\"sk-estimator-id-1\" type=\"checkbox\" ><label for=\"sk-estimator-id-1\" class=\"sk-toggleable__label sk-toggleable__label-arrow\">ColumnTransformer</label><div class=\"sk-toggleable__content\"><pre>ColumnTransformer(remainder=&#x27;passthrough&#x27;,\n",
       "                  transformers=[(&#x27;pipe_poly_scaling&#x27;,\n",
       "                                 Pipeline(steps=[(&#x27;poly&#x27;,\n",
       "                                                  PolynomialFeatures(degree=1)),\n",
       "                                                 (&#x27;scaling&#x27;, RobustScaler())]),\n",
       "                                 [&#x27;previous_cancellations&#x27;, &#x27;booking_changes&#x27;,\n",
       "                                  &#x27;days_in_waiting_list&#x27;,\n",
       "                                  &#x27;required_car_parking_spaces&#x27;,\n",
       "                                  &#x27;total_of_special_requests&#x27;]),\n",
       "                                (&#x27;onehot&#x27;, OneHotEncoder(drop=&#x27;first&#x27;),\n",
       "                                 [&#x27;market_segment&#x27;, &#x27;deposit_type&#x27;,\n",
       "                                  &#x27;customer_type&#x27;, &#x27;reserved_room_type&#x27;]),\n",
       "                                (&#x27;binary&#x27;, BinaryEncoder(), [&#x27;country&#x27;])])</pre></div></div></div><div class=\"sk-parallel\"><div class=\"sk-parallel-item\"><div class=\"sk-item\"><div class=\"sk-label-container\"><div class=\"sk-label sk-toggleable\"><input class=\"sk-toggleable__control sk-hidden--visually\" id=\"sk-estimator-id-2\" type=\"checkbox\" ><label for=\"sk-estimator-id-2\" class=\"sk-toggleable__label sk-toggleable__label-arrow\">pipe_poly_scaling</label><div class=\"sk-toggleable__content\"><pre>[&#x27;previous_cancellations&#x27;, &#x27;booking_changes&#x27;, &#x27;days_in_waiting_list&#x27;, &#x27;required_car_parking_spaces&#x27;, &#x27;total_of_special_requests&#x27;]</pre></div></div></div><div class=\"sk-serial\"><div class=\"sk-item\"><div class=\"sk-serial\"><div class=\"sk-item\"><div class=\"sk-estimator sk-toggleable\"><input class=\"sk-toggleable__control sk-hidden--visually\" id=\"sk-estimator-id-3\" type=\"checkbox\" ><label for=\"sk-estimator-id-3\" class=\"sk-toggleable__label sk-toggleable__label-arrow\">PolynomialFeatures</label><div class=\"sk-toggleable__content\"><pre>PolynomialFeatures(degree=1)</pre></div></div></div><div class=\"sk-item\"><div class=\"sk-estimator sk-toggleable\"><input class=\"sk-toggleable__control sk-hidden--visually\" id=\"sk-estimator-id-4\" type=\"checkbox\" ><label for=\"sk-estimator-id-4\" class=\"sk-toggleable__label sk-toggleable__label-arrow\">RobustScaler</label><div class=\"sk-toggleable__content\"><pre>RobustScaler()</pre></div></div></div></div></div></div></div></div><div class=\"sk-parallel-item\"><div class=\"sk-item\"><div class=\"sk-label-container\"><div class=\"sk-label sk-toggleable\"><input class=\"sk-toggleable__control sk-hidden--visually\" id=\"sk-estimator-id-5\" type=\"checkbox\" ><label for=\"sk-estimator-id-5\" class=\"sk-toggleable__label sk-toggleable__label-arrow\">onehot</label><div class=\"sk-toggleable__content\"><pre>[&#x27;market_segment&#x27;, &#x27;deposit_type&#x27;, &#x27;customer_type&#x27;, &#x27;reserved_room_type&#x27;]</pre></div></div></div><div class=\"sk-serial\"><div class=\"sk-item\"><div class=\"sk-estimator sk-toggleable\"><input class=\"sk-toggleable__control sk-hidden--visually\" id=\"sk-estimator-id-6\" type=\"checkbox\" ><label for=\"sk-estimator-id-6\" class=\"sk-toggleable__label sk-toggleable__label-arrow\">OneHotEncoder</label><div class=\"sk-toggleable__content\"><pre>OneHotEncoder(drop=&#x27;first&#x27;)</pre></div></div></div></div></div></div><div class=\"sk-parallel-item\"><div class=\"sk-item\"><div class=\"sk-label-container\"><div class=\"sk-label sk-toggleable\"><input class=\"sk-toggleable__control sk-hidden--visually\" id=\"sk-estimator-id-7\" type=\"checkbox\" ><label for=\"sk-estimator-id-7\" class=\"sk-toggleable__label sk-toggleable__label-arrow\">binary</label><div class=\"sk-toggleable__content\"><pre>[&#x27;country&#x27;]</pre></div></div></div><div class=\"sk-serial\"><div class=\"sk-item\"><div class=\"sk-estimator sk-toggleable\"><input class=\"sk-toggleable__control sk-hidden--visually\" id=\"sk-estimator-id-8\" type=\"checkbox\" ><label for=\"sk-estimator-id-8\" class=\"sk-toggleable__label sk-toggleable__label-arrow\">BinaryEncoder</label><div class=\"sk-toggleable__content\"><pre>BinaryEncoder()</pre></div></div></div></div></div></div><div class=\"sk-parallel-item\"><div class=\"sk-item\"><div class=\"sk-label-container\"><div class=\"sk-label sk-toggleable\"><input class=\"sk-toggleable__control sk-hidden--visually\" id=\"sk-estimator-id-9\" type=\"checkbox\" ><label for=\"sk-estimator-id-9\" class=\"sk-toggleable__label sk-toggleable__label-arrow\">remainder</label><div class=\"sk-toggleable__content\"><pre></pre></div></div></div><div class=\"sk-serial\"><div class=\"sk-item\"><div class=\"sk-estimator sk-toggleable\"><input class=\"sk-toggleable__control sk-hidden--visually\" id=\"sk-estimator-id-10\" type=\"checkbox\" ><label for=\"sk-estimator-id-10\" class=\"sk-toggleable__label sk-toggleable__label-arrow\">passthrough</label><div class=\"sk-toggleable__content\"><pre>passthrough</pre></div></div></div></div></div></div></div></div></div></div>"
      ],
      "text/plain": [
       "ColumnTransformer(remainder='passthrough',\n",
       "                  transformers=[('pipe_poly_scaling',\n",
       "                                 Pipeline(steps=[('poly',\n",
       "                                                  PolynomialFeatures(degree=1)),\n",
       "                                                 ('scaling', RobustScaler())]),\n",
       "                                 ['previous_cancellations', 'booking_changes',\n",
       "                                  'days_in_waiting_list',\n",
       "                                  'required_car_parking_spaces',\n",
       "                                  'total_of_special_requests']),\n",
       "                                ('onehot', OneHotEncoder(drop='first'),\n",
       "                                 ['market_segment', 'deposit_type',\n",
       "                                  'customer_type', 'reserved_room_type']),\n",
       "                                ('binary', BinaryEncoder(), ['country'])])"
      ]
     },
     "execution_count": 23,
     "metadata": {},
     "output_type": "execute_result"
    }
   ],
   "source": [
    "pipe_poly_scaling = Pipeline([\n",
    "    ('poly',PolynomialFeatures(degree=1)),\n",
    "    ('scaling',RobustScaler())\n",
    "])\n",
    "\n",
    "# Transformer scheme\n",
    "transformer = ColumnTransformer([\n",
    "    ('pipe_poly_scaling', pipe_poly_scaling, ['previous_cancellations','booking_changes','days_in_waiting_list','required_car_parking_spaces','total_of_special_requests']),\n",
    "    ('onehot', OneHotEncoder(drop='first'), ['market_segment', 'deposit_type', 'customer_type', 'reserved_room_type']),\n",
    "    ('binary', ce.BinaryEncoder(), ['country'])\n",
    "], remainder='passthrough')\n",
    "transformer"
   ]
  },
  {
   "attachments": {},
   "cell_type": "markdown",
   "metadata": {},
   "source": [
    "### Benchmark Model\n",
    "Cross Validation untuk menemukan best benchmark modelnya"
   ]
  },
  {
   "cell_type": "code",
   "execution_count": 24,
   "metadata": {},
   "outputs": [],
   "source": [
    "logreg = LogisticRegression(random_state=0, class_weight='balanced')\n",
    "knn = KNeighborsClassifier()\n",
    "tree = DecisionTreeClassifier(random_state=0, class_weight='balanced') \n",
    "rf = RandomForestClassifier(random_state=0, class_weight='balanced') \n",
    "ada = AdaBoostClassifier(tree, random_state=0)\n",
    "gbc = GradientBoostingClassifier(random_state=0)\n",
    "xgbc = XGBClassifier(random_state=0, verbosity=0, class_weight='balanced')"
   ]
  },
  {
   "cell_type": "code",
   "execution_count": 25,
   "metadata": {},
   "outputs": [],
   "source": [
    "# resampling\n",
    "smote = SMOTE(random_state=0)\n",
    "nearmiss = NearMiss()\n",
    "rus = RandomUnderSampler(random_state=0)\n",
    "ros = RandomOverSampler(random_state=0)"
   ]
  },
  {
   "cell_type": "code",
   "execution_count": 26,
   "metadata": {},
   "outputs": [],
   "source": [
    "# Define imbalanced treatment method\n",
    "models = [logreg, knn, tree, rf, ada, gbc, xgbc]\n",
    "nilai_all = []\n",
    "nilai_mean = []\n",
    "nilai_std = []\n",
    "\n",
    "for i in models:\n",
    "    pipe_model = Pipeline([\n",
    "        ('transformer', transformer),\n",
    "        ('sampling', rus),\n",
    "        ('model', i)\n",
    "    ])\n",
    "\n",
    "    model_cv = cross_val_score(\n",
    "        estimator= pipe_model,\n",
    "        X= X_train,\n",
    "        y= y_train,\n",
    "        cv = 5, \n",
    "        scoring= 'recall'\n",
    "    )\n",
    "\n",
    "    nilai_all.append(model_cv.round(4))\n",
    "    nilai_mean.append(model_cv.mean())\n",
    "    nilai_std.append(model_cv.std())"
   ]
  },
  {
   "cell_type": "code",
   "execution_count": 27,
   "metadata": {},
   "outputs": [
    {
     "data": {
      "text/html": [
       "<div>\n",
       "<style scoped>\n",
       "    .dataframe tbody tr th:only-of-type {\n",
       "        vertical-align: middle;\n",
       "    }\n",
       "\n",
       "    .dataframe tbody tr th {\n",
       "        vertical-align: top;\n",
       "    }\n",
       "\n",
       "    .dataframe thead th {\n",
       "        text-align: right;\n",
       "    }\n",
       "</style>\n",
       "<table border=\"1\" class=\"dataframe\">\n",
       "  <thead>\n",
       "    <tr style=\"text-align: right;\">\n",
       "      <th></th>\n",
       "      <th>algo</th>\n",
       "      <th>mean</th>\n",
       "      <th>std</th>\n",
       "      <th>all</th>\n",
       "    </tr>\n",
       "  </thead>\n",
       "  <tbody>\n",
       "    <tr>\n",
       "      <th>0</th>\n",
       "      <td>LogisticRegression(class_weight='balanced', ra...</td>\n",
       "      <td>0.688315</td>\n",
       "      <td>0.005954</td>\n",
       "      <td>[0.6907, 0.6912, 0.6773, 0.6877, 0.6948]</td>\n",
       "    </tr>\n",
       "    <tr>\n",
       "      <th>1</th>\n",
       "      <td>KNeighborsClassifier()</td>\n",
       "      <td>0.414321</td>\n",
       "      <td>0.007757</td>\n",
       "      <td>[0.4145, 0.4126, 0.4027, 0.4147, 0.4271]</td>\n",
       "    </tr>\n",
       "    <tr>\n",
       "      <th>2</th>\n",
       "      <td>DecisionTreeClassifier(class_weight='balanced'...</td>\n",
       "      <td>0.803095</td>\n",
       "      <td>0.007398</td>\n",
       "      <td>[0.8008, 0.8104, 0.7947, 0.7965, 0.8132]</td>\n",
       "    </tr>\n",
       "    <tr>\n",
       "      <th>3</th>\n",
       "      <td>RandomForestClassifier(class_weight='balanced'...</td>\n",
       "      <td>0.811218</td>\n",
       "      <td>0.005953</td>\n",
       "      <td>[0.8093, 0.8187, 0.8069, 0.8036, 0.8176]</td>\n",
       "    </tr>\n",
       "    <tr>\n",
       "      <th>4</th>\n",
       "      <td>AdaBoostClassifier(estimator=DecisionTreeClass...</td>\n",
       "      <td>0.803216</td>\n",
       "      <td>0.007431</td>\n",
       "      <td>[0.8008, 0.811, 0.7947, 0.7967, 0.813]</td>\n",
       "    </tr>\n",
       "    <tr>\n",
       "      <th>5</th>\n",
       "      <td>GradientBoostingClassifier(random_state=0)</td>\n",
       "      <td>0.748062</td>\n",
       "      <td>0.019438</td>\n",
       "      <td>[0.7593, 0.7111, 0.7463, 0.7591, 0.7644]</td>\n",
       "    </tr>\n",
       "    <tr>\n",
       "      <th>6</th>\n",
       "      <td>XGBClassifier(base_score=None, booster=None, c...</td>\n",
       "      <td>0.796799</td>\n",
       "      <td>0.005392</td>\n",
       "      <td>[0.804, 0.8006, 0.7888, 0.7931, 0.7975]</td>\n",
       "    </tr>\n",
       "  </tbody>\n",
       "</table>\n",
       "</div>"
      ],
      "text/plain": [
       "                                                algo      mean       std  \\\n",
       "0  LogisticRegression(class_weight='balanced', ra...  0.688315  0.005954   \n",
       "1                             KNeighborsClassifier()  0.414321  0.007757   \n",
       "2  DecisionTreeClassifier(class_weight='balanced'...  0.803095  0.007398   \n",
       "3  RandomForestClassifier(class_weight='balanced'...  0.811218  0.005953   \n",
       "4  AdaBoostClassifier(estimator=DecisionTreeClass...  0.803216  0.007431   \n",
       "5         GradientBoostingClassifier(random_state=0)  0.748062  0.019438   \n",
       "6  XGBClassifier(base_score=None, booster=None, c...  0.796799  0.005392   \n",
       "\n",
       "                                        all  \n",
       "0  [0.6907, 0.6912, 0.6773, 0.6877, 0.6948]  \n",
       "1  [0.4145, 0.4126, 0.4027, 0.4147, 0.4271]  \n",
       "2  [0.8008, 0.8104, 0.7947, 0.7965, 0.8132]  \n",
       "3  [0.8093, 0.8187, 0.8069, 0.8036, 0.8176]  \n",
       "4    [0.8008, 0.811, 0.7947, 0.7967, 0.813]  \n",
       "5  [0.7593, 0.7111, 0.7463, 0.7591, 0.7644]  \n",
       "6   [0.804, 0.8006, 0.7888, 0.7931, 0.7975]  "
      ]
     },
     "execution_count": 27,
     "metadata": {},
     "output_type": "execute_result"
    }
   ],
   "source": [
    "# dataframe dari hasil cross validation sehingga lebih mudah dibaca\n",
    "df_cv = pd.DataFrame({\n",
    "    'algo':models,\n",
    "    'mean' : nilai_mean,\n",
    "    'std' : nilai_std,\n",
    "    'all':nilai_all\n",
    "})\n",
    "df_cv"
   ]
  },
  {
   "attachments": {},
   "cell_type": "markdown",
   "metadata": {},
   "source": [
    "Model RandomForestClassifier dan DecisionTreeClassifier dipilih menjadi 2 model paling optimal karna memiliki nilai mean paling tinggi dan paling stabil karna memiliki standar deviasi yang kecil. Selanjutnya akan dilakukan hyperparameter tuning untuk kedua model ini."
   ]
  },
  {
   "cell_type": "markdown",
   "metadata": {},
   "source": [
    "### Hyperparameter Tuning\n",
    "`DecisionTreeClassifier`"
   ]
  },
  {
   "attachments": {},
   "cell_type": "markdown",
   "metadata": {},
   "source": [
    "Hyperparameter tuning adalah proses untuk mencari parameter terbaik yang dapat meningkatkan kinerja model machine learning. Hyperparameter adalah parameter yang tidak dapat dipelajari oleh model, tetapi dapat diatur sebelum melatih model. Contoh dari hyperparameter pada model machine learning seperti learning rate, jumlah epoch, jumlah hidden layer, dan banyak lagi.\n",
    "\n",
    "Tujuan dari hyperparameter tuning adalah untuk menemukan set hyperparameter terbaik yang mengoptimalkan kinerja model pada dataset tertentu. Hal ini dapat dilakukan dengan beberapa metode, di antaranya:\n",
    "- Grid search: mencari set hyperparameter terbaik dengan melakukan iterasi pada setiap kombinasi hyperparameter yang diinginkan.\n",
    "- Random search: mencari set hyperparameter terbaik dengan mengambil sampel acak dari ruang hyperparameter yang mungkin.\n",
    "- Bayesian optimization: mencari set hyperparameter terbaik dengan memanfaatkan algoritma probabilistik untuk memilih hyperparameter berikutnya berdasarkan hasil evaluasi model sebelumnya.\n",
    "Proses hyperparameter tuning harus dilakukan setelah melakukan preprocessing data dan memilih algoritma machine learning yang tepat. Hal ini dapat membantu meningkatkan kinerja model dan mencegah overfitting atau underfitting. Oleh karena itu, penting untuk melakukan hyperparameter tuning secara cermat dan hati-hati untuk memastikan bahwa model machine learning yang dihasilkan optimal dan sesuai dengan dataset yang digunakan."
   ]
  },
  {
   "attachments": {},
   "cell_type": "markdown",
   "metadata": {},
   "source": [
    "Tuning pertama untuk algorithm DecisionTreeClassifier"
   ]
  },
  {
   "cell_type": "code",
   "execution_count": 115,
   "metadata": {},
   "outputs": [],
   "source": [
    "criterion = [\"gini\", \"entropy\", \"log_loss\"]\n",
    "max_depth = list(np.arange(3,50,1))               # kedalaman pohon\n",
    "min_samples_leaf = list(np.arange(2,100,2))\n",
    "min_samples_split = list(np.arange(2,100,2) )\n",
    "max_features = list(np.arange(1,len(X.columns),1))            # jumlah feature yang digunakan untuk pertimbangan splitting (% dari total kolom train set)\n",
    "\n",
    "# Hyperparameter space DecisionTreeClassifier\n",
    "hyperparam_space_dtc = {\n",
    "    'resampler':[smote, rus, ros, nearmiss, None],\n",
    "    'model__criterion': criterion,\n",
    "    'model__max_depth':max_depth,\n",
    "    'model__min_samples_leaf':min_samples_leaf,\n",
    "    'model__min_samples_split': min_samples_split,\n",
    "    'model__max_features':max_features,\n",
    "    'model__random_state':[0]\n",
    "}\n",
    "\n",
    "# Benchmark model 1\n",
    "dtc = tree\n",
    "\n",
    "# Create the algorithm chains\n",
    "estimator_dtc = Pipeline([\n",
    "    ('tansformer', transformer),\n",
    "    ('resampler', rus), \n",
    "    ('model', dtc)\n",
    "    ])\n",
    "\n",
    "# Hyperparameter tuning\n",
    "random_dtc = RandomizedSearchCV(    # karna jumlah data yang sangat banyak (83.573) saya memutuskan menggunakan randomizedsearch \n",
    "    estimator = estimator_dtc, \n",
    "    param_distributions = hyperparam_space_dtc, \n",
    "    cv = 5, \n",
    "    scoring = 'recall', \n",
    "    n_jobs = -1, \n",
    "    random_state=0,\n",
    "    n_iter=500\n",
    ")"
   ]
  },
  {
   "attachments": {},
   "cell_type": "markdown",
   "metadata": {},
   "source": [
    "Randomized search dan grid search adalah dua teknik yang umum digunakan dalam hyperparameter tuning pada machine learning.\n",
    "\n",
    "Grid search melakukan pencarian sistematis pada seluruh kombinasi dari beberapa hyperparameter. Hyperparameter tuning menggunakan grid search bisa memakan waktu yang lama terutama ketika jumlah hyperparameter atau nilai hyperparameter yang harus ditelusuri sangat besar.\n",
    "\n",
    "Randomized search pada dasarnya sama dengan grid search, namun, ia tidak mengevaluasi seluruh kombinasi hyperparameter, melainkan hanya beberapa kombinasi hyperparameter yang dipilih secara acak. Randomized search biasanya lebih efisien karena hanya memeriksa kombinasi hyperparameter tertentu, yang dapat menghasilkan kinerja model yang lebih baik dengan waktu yang lebih sedikit.\n",
    "\n",
    "Kelebihan grid search adalah bahwa ia dapat menemukan kombinasi hyperparameter yang terbaik secara akurat, terutama ketika parameter tidak saling terkait. Namun, jika hyperparameter saling terkait atau jumlah hyperparameter yang tinggi, grid search bisa memakan waktu yang lama dan kurang efisien.\n",
    "\n",
    "Kelebihan randomized search adalah lebih cepat dan lebih efisien, terutama ketika jumlah hyperparameter yang besar atau hyperparameter saling terkait. Namun, randomized search mungkin tidak mengeksplorasi seluruh ruang hyperparameter dan tidak menjamin menemukan solusi yang optimal.\n",
    "\n",
    "Oleh karena itu, pemilihan antara randomized search atau grid search tergantung pada kompleksitas masalah dan sumber daya yang tersedia. Untuk kasus-kasus di mana waktu adalah faktor kritis, randomized search adalah pilihan yang lebih baik karena biasanya lebih cepat. Namun, jika waktu bukan masalah dan kita ingin memastikan bahwa kita mengeksplorasi seluruh ruang hyperparameter, grid search mungkin lebih tepat."
   ]
  },
  {
   "cell_type": "code",
   "execution_count": 36,
   "metadata": {},
   "outputs": [
    {
     "data": {
      "text/html": [
       "<style>#sk-container-id-2 {color: black;background-color: white;}#sk-container-id-2 pre{padding: 0;}#sk-container-id-2 div.sk-toggleable {background-color: white;}#sk-container-id-2 label.sk-toggleable__label {cursor: pointer;display: block;width: 100%;margin-bottom: 0;padding: 0.3em;box-sizing: border-box;text-align: center;}#sk-container-id-2 label.sk-toggleable__label-arrow:before {content: \"▸\";float: left;margin-right: 0.25em;color: #696969;}#sk-container-id-2 label.sk-toggleable__label-arrow:hover:before {color: black;}#sk-container-id-2 div.sk-estimator:hover label.sk-toggleable__label-arrow:before {color: black;}#sk-container-id-2 div.sk-toggleable__content {max-height: 0;max-width: 0;overflow: hidden;text-align: left;background-color: #f0f8ff;}#sk-container-id-2 div.sk-toggleable__content pre {margin: 0.2em;color: black;border-radius: 0.25em;background-color: #f0f8ff;}#sk-container-id-2 input.sk-toggleable__control:checked~div.sk-toggleable__content {max-height: 200px;max-width: 100%;overflow: auto;}#sk-container-id-2 input.sk-toggleable__control:checked~label.sk-toggleable__label-arrow:before {content: \"▾\";}#sk-container-id-2 div.sk-estimator input.sk-toggleable__control:checked~label.sk-toggleable__label {background-color: #d4ebff;}#sk-container-id-2 div.sk-label input.sk-toggleable__control:checked~label.sk-toggleable__label {background-color: #d4ebff;}#sk-container-id-2 input.sk-hidden--visually {border: 0;clip: rect(1px 1px 1px 1px);clip: rect(1px, 1px, 1px, 1px);height: 1px;margin: -1px;overflow: hidden;padding: 0;position: absolute;width: 1px;}#sk-container-id-2 div.sk-estimator {font-family: monospace;background-color: #f0f8ff;border: 1px dotted black;border-radius: 0.25em;box-sizing: border-box;margin-bottom: 0.5em;}#sk-container-id-2 div.sk-estimator:hover {background-color: #d4ebff;}#sk-container-id-2 div.sk-parallel-item::after {content: \"\";width: 100%;border-bottom: 1px solid gray;flex-grow: 1;}#sk-container-id-2 div.sk-label:hover label.sk-toggleable__label {background-color: #d4ebff;}#sk-container-id-2 div.sk-serial::before {content: \"\";position: absolute;border-left: 1px solid gray;box-sizing: border-box;top: 0;bottom: 0;left: 50%;z-index: 0;}#sk-container-id-2 div.sk-serial {display: flex;flex-direction: column;align-items: center;background-color: white;padding-right: 0.2em;padding-left: 0.2em;position: relative;}#sk-container-id-2 div.sk-item {position: relative;z-index: 1;}#sk-container-id-2 div.sk-parallel {display: flex;align-items: stretch;justify-content: center;background-color: white;position: relative;}#sk-container-id-2 div.sk-item::before, #sk-container-id-2 div.sk-parallel-item::before {content: \"\";position: absolute;border-left: 1px solid gray;box-sizing: border-box;top: 0;bottom: 0;left: 50%;z-index: -1;}#sk-container-id-2 div.sk-parallel-item {display: flex;flex-direction: column;z-index: 1;position: relative;background-color: white;}#sk-container-id-2 div.sk-parallel-item:first-child::after {align-self: flex-end;width: 50%;}#sk-container-id-2 div.sk-parallel-item:last-child::after {align-self: flex-start;width: 50%;}#sk-container-id-2 div.sk-parallel-item:only-child::after {width: 0;}#sk-container-id-2 div.sk-dashed-wrapped {border: 1px dashed gray;margin: 0 0.4em 0.5em 0.4em;box-sizing: border-box;padding-bottom: 0.4em;background-color: white;}#sk-container-id-2 div.sk-label label {font-family: monospace;font-weight: bold;display: inline-block;line-height: 1.2em;}#sk-container-id-2 div.sk-label-container {text-align: center;}#sk-container-id-2 div.sk-container {/* jupyter's `normalize.less` sets `[hidden] { display: none; }` but bootstrap.min.css set `[hidden] { display: none !important; }` so we also need the `!important` here to be able to override the default hidden behavior on the sphinx rendered scikit-learn.org. See: https://github.com/scikit-learn/scikit-learn/issues/21755 */display: inline-block !important;position: relative;}#sk-container-id-2 div.sk-text-repr-fallback {display: none;}</style><div id=\"sk-container-id-2\" class=\"sk-top-container\"><div class=\"sk-text-repr-fallback\"><pre>RandomizedSearchCV(cv=5,\n",
       "                   estimator=Pipeline(steps=[(&#x27;tansformer&#x27;,\n",
       "                                              ColumnTransformer(remainder=&#x27;passthrough&#x27;,\n",
       "                                                                transformers=[(&#x27;pipe_poly_scaling&#x27;,\n",
       "                                                                               Pipeline(steps=[(&#x27;poly&#x27;,\n",
       "                                                                                                PolynomialFeatures(degree=1)),\n",
       "                                                                                               (&#x27;scaling&#x27;,\n",
       "                                                                                                RobustScaler())]),\n",
       "                                                                               [&#x27;previous_cancellations&#x27;,\n",
       "                                                                                &#x27;booking_changes&#x27;,\n",
       "                                                                                &#x27;days_in_waiting_list&#x27;,\n",
       "                                                                                &#x27;required_car_parking_spaces&#x27;,\n",
       "                                                                                &#x27;total_of_special_requests&#x27;])...\n",
       "                                                                    28, 30, 32,\n",
       "                                                                    34, 36, 38,\n",
       "                                                                    40, 42, 44,\n",
       "                                                                    46, 48, 50,\n",
       "                                                                    52, 54, 56,\n",
       "                                                                    58, 60, ...],\n",
       "                                        &#x27;model__min_samples_split&#x27;: [2, 4, 6, 8,\n",
       "                                                                     10, 12, 14,\n",
       "                                                                     16, 18, 20,\n",
       "                                                                     22, 24, 26,\n",
       "                                                                     28, 30, 32,\n",
       "                                                                     34, 36, 38,\n",
       "                                                                     40, 42, 44,\n",
       "                                                                     46, 48, 50,\n",
       "                                                                     52, 54, 56,\n",
       "                                                                     58, 60, ...],\n",
       "                                        &#x27;model__random_state&#x27;: [0],\n",
       "                                        &#x27;resampler&#x27;: [SMOTE(random_state=0),\n",
       "                                                      RandomUnderSampler(random_state=0),\n",
       "                                                      RandomOverSampler(random_state=0),\n",
       "                                                      NearMiss(), None]},\n",
       "                   random_state=0, scoring=&#x27;recall&#x27;)</pre><b>In a Jupyter environment, please rerun this cell to show the HTML representation or trust the notebook. <br />On GitHub, the HTML representation is unable to render, please try loading this page with nbviewer.org.</b></div><div class=\"sk-container\" hidden><div class=\"sk-item sk-dashed-wrapped\"><div class=\"sk-label-container\"><div class=\"sk-label sk-toggleable\"><input class=\"sk-toggleable__control sk-hidden--visually\" id=\"sk-estimator-id-11\" type=\"checkbox\" ><label for=\"sk-estimator-id-11\" class=\"sk-toggleable__label sk-toggleable__label-arrow\">RandomizedSearchCV</label><div class=\"sk-toggleable__content\"><pre>RandomizedSearchCV(cv=5,\n",
       "                   estimator=Pipeline(steps=[(&#x27;tansformer&#x27;,\n",
       "                                              ColumnTransformer(remainder=&#x27;passthrough&#x27;,\n",
       "                                                                transformers=[(&#x27;pipe_poly_scaling&#x27;,\n",
       "                                                                               Pipeline(steps=[(&#x27;poly&#x27;,\n",
       "                                                                                                PolynomialFeatures(degree=1)),\n",
       "                                                                                               (&#x27;scaling&#x27;,\n",
       "                                                                                                RobustScaler())]),\n",
       "                                                                               [&#x27;previous_cancellations&#x27;,\n",
       "                                                                                &#x27;booking_changes&#x27;,\n",
       "                                                                                &#x27;days_in_waiting_list&#x27;,\n",
       "                                                                                &#x27;required_car_parking_spaces&#x27;,\n",
       "                                                                                &#x27;total_of_special_requests&#x27;])...\n",
       "                                                                    28, 30, 32,\n",
       "                                                                    34, 36, 38,\n",
       "                                                                    40, 42, 44,\n",
       "                                                                    46, 48, 50,\n",
       "                                                                    52, 54, 56,\n",
       "                                                                    58, 60, ...],\n",
       "                                        &#x27;model__min_samples_split&#x27;: [2, 4, 6, 8,\n",
       "                                                                     10, 12, 14,\n",
       "                                                                     16, 18, 20,\n",
       "                                                                     22, 24, 26,\n",
       "                                                                     28, 30, 32,\n",
       "                                                                     34, 36, 38,\n",
       "                                                                     40, 42, 44,\n",
       "                                                                     46, 48, 50,\n",
       "                                                                     52, 54, 56,\n",
       "                                                                     58, 60, ...],\n",
       "                                        &#x27;model__random_state&#x27;: [0],\n",
       "                                        &#x27;resampler&#x27;: [SMOTE(random_state=0),\n",
       "                                                      RandomUnderSampler(random_state=0),\n",
       "                                                      RandomOverSampler(random_state=0),\n",
       "                                                      NearMiss(), None]},\n",
       "                   random_state=0, scoring=&#x27;recall&#x27;)</pre></div></div></div><div class=\"sk-parallel\"><div class=\"sk-parallel-item\"><div class=\"sk-item\"><div class=\"sk-label-container\"><div class=\"sk-label sk-toggleable\"><input class=\"sk-toggleable__control sk-hidden--visually\" id=\"sk-estimator-id-12\" type=\"checkbox\" ><label for=\"sk-estimator-id-12\" class=\"sk-toggleable__label sk-toggleable__label-arrow\">estimator: Pipeline</label><div class=\"sk-toggleable__content\"><pre>Pipeline(steps=[(&#x27;tansformer&#x27;,\n",
       "                 ColumnTransformer(remainder=&#x27;passthrough&#x27;,\n",
       "                                   transformers=[(&#x27;pipe_poly_scaling&#x27;,\n",
       "                                                  Pipeline(steps=[(&#x27;poly&#x27;,\n",
       "                                                                   PolynomialFeatures(degree=1)),\n",
       "                                                                  (&#x27;scaling&#x27;,\n",
       "                                                                   RobustScaler())]),\n",
       "                                                  [&#x27;previous_cancellations&#x27;,\n",
       "                                                   &#x27;booking_changes&#x27;,\n",
       "                                                   &#x27;days_in_waiting_list&#x27;,\n",
       "                                                   &#x27;required_car_parking_spaces&#x27;,\n",
       "                                                   &#x27;total_of_special_requests&#x27;]),\n",
       "                                                 (&#x27;onehot&#x27;,\n",
       "                                                  OneHotEncoder(drop=&#x27;first&#x27;),\n",
       "                                                  [&#x27;market_segment&#x27;,\n",
       "                                                   &#x27;deposit_type&#x27;,\n",
       "                                                   &#x27;customer_type&#x27;,\n",
       "                                                   &#x27;reserved_room_type&#x27;]),\n",
       "                                                 (&#x27;binary&#x27;, BinaryEncoder(),\n",
       "                                                  [&#x27;country&#x27;])])),\n",
       "                (&#x27;resampler&#x27;, RandomUnderSampler(random_state=0)),\n",
       "                (&#x27;model&#x27;, DecisionTreeClassifier(random_state=0))])</pre></div></div></div><div class=\"sk-serial\"><div class=\"sk-item\"><div class=\"sk-serial\"><div class=\"sk-item sk-dashed-wrapped\"><div class=\"sk-label-container\"><div class=\"sk-label sk-toggleable\"><input class=\"sk-toggleable__control sk-hidden--visually\" id=\"sk-estimator-id-13\" type=\"checkbox\" ><label for=\"sk-estimator-id-13\" class=\"sk-toggleable__label sk-toggleable__label-arrow\">tansformer: ColumnTransformer</label><div class=\"sk-toggleable__content\"><pre>ColumnTransformer(remainder=&#x27;passthrough&#x27;,\n",
       "                  transformers=[(&#x27;pipe_poly_scaling&#x27;,\n",
       "                                 Pipeline(steps=[(&#x27;poly&#x27;,\n",
       "                                                  PolynomialFeatures(degree=1)),\n",
       "                                                 (&#x27;scaling&#x27;, RobustScaler())]),\n",
       "                                 [&#x27;previous_cancellations&#x27;, &#x27;booking_changes&#x27;,\n",
       "                                  &#x27;days_in_waiting_list&#x27;,\n",
       "                                  &#x27;required_car_parking_spaces&#x27;,\n",
       "                                  &#x27;total_of_special_requests&#x27;]),\n",
       "                                (&#x27;onehot&#x27;, OneHotEncoder(drop=&#x27;first&#x27;),\n",
       "                                 [&#x27;market_segment&#x27;, &#x27;deposit_type&#x27;,\n",
       "                                  &#x27;customer_type&#x27;, &#x27;reserved_room_type&#x27;]),\n",
       "                                (&#x27;binary&#x27;, BinaryEncoder(), [&#x27;country&#x27;])])</pre></div></div></div><div class=\"sk-parallel\"><div class=\"sk-parallel-item\"><div class=\"sk-item\"><div class=\"sk-label-container\"><div class=\"sk-label sk-toggleable\"><input class=\"sk-toggleable__control sk-hidden--visually\" id=\"sk-estimator-id-14\" type=\"checkbox\" ><label for=\"sk-estimator-id-14\" class=\"sk-toggleable__label sk-toggleable__label-arrow\">pipe_poly_scaling</label><div class=\"sk-toggleable__content\"><pre>[&#x27;previous_cancellations&#x27;, &#x27;booking_changes&#x27;, &#x27;days_in_waiting_list&#x27;, &#x27;required_car_parking_spaces&#x27;, &#x27;total_of_special_requests&#x27;]</pre></div></div></div><div class=\"sk-serial\"><div class=\"sk-item\"><div class=\"sk-serial\"><div class=\"sk-item\"><div class=\"sk-estimator sk-toggleable\"><input class=\"sk-toggleable__control sk-hidden--visually\" id=\"sk-estimator-id-15\" type=\"checkbox\" ><label for=\"sk-estimator-id-15\" class=\"sk-toggleable__label sk-toggleable__label-arrow\">PolynomialFeatures</label><div class=\"sk-toggleable__content\"><pre>PolynomialFeatures(degree=1)</pre></div></div></div><div class=\"sk-item\"><div class=\"sk-estimator sk-toggleable\"><input class=\"sk-toggleable__control sk-hidden--visually\" id=\"sk-estimator-id-16\" type=\"checkbox\" ><label for=\"sk-estimator-id-16\" class=\"sk-toggleable__label sk-toggleable__label-arrow\">RobustScaler</label><div class=\"sk-toggleable__content\"><pre>RobustScaler()</pre></div></div></div></div></div></div></div></div><div class=\"sk-parallel-item\"><div class=\"sk-item\"><div class=\"sk-label-container\"><div class=\"sk-label sk-toggleable\"><input class=\"sk-toggleable__control sk-hidden--visually\" id=\"sk-estimator-id-17\" type=\"checkbox\" ><label for=\"sk-estimator-id-17\" class=\"sk-toggleable__label sk-toggleable__label-arrow\">onehot</label><div class=\"sk-toggleable__content\"><pre>[&#x27;market_segment&#x27;, &#x27;deposit_type&#x27;, &#x27;customer_type&#x27;, &#x27;reserved_room_type&#x27;]</pre></div></div></div><div class=\"sk-serial\"><div class=\"sk-item\"><div class=\"sk-estimator sk-toggleable\"><input class=\"sk-toggleable__control sk-hidden--visually\" id=\"sk-estimator-id-18\" type=\"checkbox\" ><label for=\"sk-estimator-id-18\" class=\"sk-toggleable__label sk-toggleable__label-arrow\">OneHotEncoder</label><div class=\"sk-toggleable__content\"><pre>OneHotEncoder(drop=&#x27;first&#x27;)</pre></div></div></div></div></div></div><div class=\"sk-parallel-item\"><div class=\"sk-item\"><div class=\"sk-label-container\"><div class=\"sk-label sk-toggleable\"><input class=\"sk-toggleable__control sk-hidden--visually\" id=\"sk-estimator-id-19\" type=\"checkbox\" ><label for=\"sk-estimator-id-19\" class=\"sk-toggleable__label sk-toggleable__label-arrow\">binary</label><div class=\"sk-toggleable__content\"><pre>[&#x27;country&#x27;]</pre></div></div></div><div class=\"sk-serial\"><div class=\"sk-item\"><div class=\"sk-estimator sk-toggleable\"><input class=\"sk-toggleable__control sk-hidden--visually\" id=\"sk-estimator-id-20\" type=\"checkbox\" ><label for=\"sk-estimator-id-20\" class=\"sk-toggleable__label sk-toggleable__label-arrow\">BinaryEncoder</label><div class=\"sk-toggleable__content\"><pre>BinaryEncoder()</pre></div></div></div></div></div></div><div class=\"sk-parallel-item\"><div class=\"sk-item\"><div class=\"sk-label-container\"><div class=\"sk-label sk-toggleable\"><input class=\"sk-toggleable__control sk-hidden--visually\" id=\"sk-estimator-id-21\" type=\"checkbox\" ><label for=\"sk-estimator-id-21\" class=\"sk-toggleable__label sk-toggleable__label-arrow\">remainder</label><div class=\"sk-toggleable__content\"><pre></pre></div></div></div><div class=\"sk-serial\"><div class=\"sk-item\"><div class=\"sk-estimator sk-toggleable\"><input class=\"sk-toggleable__control sk-hidden--visually\" id=\"sk-estimator-id-22\" type=\"checkbox\" ><label for=\"sk-estimator-id-22\" class=\"sk-toggleable__label sk-toggleable__label-arrow\">passthrough</label><div class=\"sk-toggleable__content\"><pre>passthrough</pre></div></div></div></div></div></div></div></div><div class=\"sk-item\"><div class=\"sk-estimator sk-toggleable\"><input class=\"sk-toggleable__control sk-hidden--visually\" id=\"sk-estimator-id-23\" type=\"checkbox\" ><label for=\"sk-estimator-id-23\" class=\"sk-toggleable__label sk-toggleable__label-arrow\">RandomUnderSampler</label><div class=\"sk-toggleable__content\"><pre>RandomUnderSampler(random_state=0)</pre></div></div></div><div class=\"sk-item\"><div class=\"sk-estimator sk-toggleable\"><input class=\"sk-toggleable__control sk-hidden--visually\" id=\"sk-estimator-id-24\" type=\"checkbox\" ><label for=\"sk-estimator-id-24\" class=\"sk-toggleable__label sk-toggleable__label-arrow\">DecisionTreeClassifier</label><div class=\"sk-toggleable__content\"><pre>DecisionTreeClassifier(random_state=0)</pre></div></div></div></div></div></div></div></div></div></div></div></div>"
      ],
      "text/plain": [
       "RandomizedSearchCV(cv=5,\n",
       "                   estimator=Pipeline(steps=[('tansformer',\n",
       "                                              ColumnTransformer(remainder='passthrough',\n",
       "                                                                transformers=[('pipe_poly_scaling',\n",
       "                                                                               Pipeline(steps=[('poly',\n",
       "                                                                                                PolynomialFeatures(degree=1)),\n",
       "                                                                                               ('scaling',\n",
       "                                                                                                RobustScaler())]),\n",
       "                                                                               ['previous_cancellations',\n",
       "                                                                                'booking_changes',\n",
       "                                                                                'days_in_waiting_list',\n",
       "                                                                                'required_car_parking_spaces',\n",
       "                                                                                'total_of_special_requests'])...\n",
       "                                                                    28, 30, 32,\n",
       "                                                                    34, 36, 38,\n",
       "                                                                    40, 42, 44,\n",
       "                                                                    46, 48, 50,\n",
       "                                                                    52, 54, 56,\n",
       "                                                                    58, 60, ...],\n",
       "                                        'model__min_samples_split': [2, 4, 6, 8,\n",
       "                                                                     10, 12, 14,\n",
       "                                                                     16, 18, 20,\n",
       "                                                                     22, 24, 26,\n",
       "                                                                     28, 30, 32,\n",
       "                                                                     34, 36, 38,\n",
       "                                                                     40, 42, 44,\n",
       "                                                                     46, 48, 50,\n",
       "                                                                     52, 54, 56,\n",
       "                                                                     58, 60, ...],\n",
       "                                        'model__random_state': [0],\n",
       "                                        'resampler': [SMOTE(random_state=0),\n",
       "                                                      RandomUnderSampler(random_state=0),\n",
       "                                                      RandomOverSampler(random_state=0),\n",
       "                                                      NearMiss(), None]},\n",
       "                   random_state=0, scoring='recall')"
      ]
     },
     "execution_count": 36,
     "metadata": {},
     "output_type": "execute_result"
    }
   ],
   "source": [
    "# fitting the randomsearch for DecisionTreeClassifier best params ke X_train, y_train\n",
    "random_dtc.fit(X_train, y_train)"
   ]
  },
  {
   "cell_type": "code",
   "execution_count": 37,
   "metadata": {},
   "outputs": [
    {
     "data": {
      "text/html": [
       "<div>\n",
       "<style scoped>\n",
       "    .dataframe tbody tr th:only-of-type {\n",
       "        vertical-align: middle;\n",
       "    }\n",
       "\n",
       "    .dataframe tbody tr th {\n",
       "        vertical-align: top;\n",
       "    }\n",
       "\n",
       "    .dataframe thead th {\n",
       "        text-align: right;\n",
       "    }\n",
       "</style>\n",
       "<table border=\"1\" class=\"dataframe\">\n",
       "  <thead>\n",
       "    <tr style=\"text-align: right;\">\n",
       "      <th></th>\n",
       "      <th>mean_fit_time</th>\n",
       "      <th>std_fit_time</th>\n",
       "      <th>mean_score_time</th>\n",
       "      <th>std_score_time</th>\n",
       "      <th>param_resampler</th>\n",
       "      <th>param_model__random_state</th>\n",
       "      <th>param_model__min_samples_split</th>\n",
       "      <th>param_model__min_samples_leaf</th>\n",
       "      <th>param_model__max_features</th>\n",
       "      <th>param_model__max_depth</th>\n",
       "      <th>param_model__criterion</th>\n",
       "      <th>params</th>\n",
       "      <th>split0_test_score</th>\n",
       "      <th>split1_test_score</th>\n",
       "      <th>split2_test_score</th>\n",
       "      <th>split3_test_score</th>\n",
       "      <th>split4_test_score</th>\n",
       "      <th>mean_test_score</th>\n",
       "      <th>std_test_score</th>\n",
       "      <th>rank_test_score</th>\n",
       "    </tr>\n",
       "  </thead>\n",
       "  <tbody>\n",
       "    <tr>\n",
       "      <th>495</th>\n",
       "      <td>5.084421</td>\n",
       "      <td>0.022727</td>\n",
       "      <td>0.075255</td>\n",
       "      <td>0.010262</td>\n",
       "      <td>SMOTE(random_state=0)</td>\n",
       "      <td>0</td>\n",
       "      <td>32</td>\n",
       "      <td>80</td>\n",
       "      <td>9</td>\n",
       "      <td>6</td>\n",
       "      <td>gini</td>\n",
       "      <td>{'resampler': SMOTE(random_state=0), 'model__r...</td>\n",
       "      <td>0.859261</td>\n",
       "      <td>0.930964</td>\n",
       "      <td>0.879366</td>\n",
       "      <td>0.930950</td>\n",
       "      <td>0.932169</td>\n",
       "      <td>0.906542</td>\n",
       "      <td>0.031058</td>\n",
       "      <td>1</td>\n",
       "    </tr>\n",
       "    <tr>\n",
       "      <th>331</th>\n",
       "      <td>0.380098</td>\n",
       "      <td>0.018457</td>\n",
       "      <td>0.076203</td>\n",
       "      <td>0.012181</td>\n",
       "      <td>RandomUnderSampler(random_state=0)</td>\n",
       "      <td>0</td>\n",
       "      <td>94</td>\n",
       "      <td>40</td>\n",
       "      <td>1</td>\n",
       "      <td>4</td>\n",
       "      <td>gini</td>\n",
       "      <td>{'resampler': RandomUnderSampler(random_state=...</td>\n",
       "      <td>0.858448</td>\n",
       "      <td>0.826802</td>\n",
       "      <td>0.845857</td>\n",
       "      <td>0.843826</td>\n",
       "      <td>0.848903</td>\n",
       "      <td>0.844767</td>\n",
       "      <td>0.010287</td>\n",
       "      <td>2</td>\n",
       "    </tr>\n",
       "    <tr>\n",
       "      <th>496</th>\n",
       "      <td>5.027058</td>\n",
       "      <td>0.030544</td>\n",
       "      <td>0.073689</td>\n",
       "      <td>0.008758</td>\n",
       "      <td>SMOTE(random_state=0)</td>\n",
       "      <td>0</td>\n",
       "      <td>42</td>\n",
       "      <td>88</td>\n",
       "      <td>2</td>\n",
       "      <td>6</td>\n",
       "      <td>gini</td>\n",
       "      <td>{'resampler': SMOTE(random_state=0), 'model__r...</td>\n",
       "      <td>0.770106</td>\n",
       "      <td>0.760000</td>\n",
       "      <td>0.882413</td>\n",
       "      <td>0.828595</td>\n",
       "      <td>0.756702</td>\n",
       "      <td>0.799563</td>\n",
       "      <td>0.048943</td>\n",
       "      <td>3</td>\n",
       "    </tr>\n",
       "    <tr>\n",
       "      <th>87</th>\n",
       "      <td>5.973232</td>\n",
       "      <td>0.107880</td>\n",
       "      <td>0.090847</td>\n",
       "      <td>0.015761</td>\n",
       "      <td>SMOTE(random_state=0)</td>\n",
       "      <td>0</td>\n",
       "      <td>54</td>\n",
       "      <td>2</td>\n",
       "      <td>9</td>\n",
       "      <td>49</td>\n",
       "      <td>entropy</td>\n",
       "      <td>{'resampler': SMOTE(random_state=0), 'model__r...</td>\n",
       "      <td>0.796304</td>\n",
       "      <td>0.799594</td>\n",
       "      <td>0.786353</td>\n",
       "      <td>0.798132</td>\n",
       "      <td>0.805240</td>\n",
       "      <td>0.797124</td>\n",
       "      <td>0.006159</td>\n",
       "      <td>4</td>\n",
       "    </tr>\n",
       "    <tr>\n",
       "      <th>188</th>\n",
       "      <td>0.467760</td>\n",
       "      <td>0.057022</td>\n",
       "      <td>0.083999</td>\n",
       "      <td>0.018649</td>\n",
       "      <td>RandomUnderSampler(random_state=0)</td>\n",
       "      <td>0</td>\n",
       "      <td>82</td>\n",
       "      <td>2</td>\n",
       "      <td>6</td>\n",
       "      <td>35</td>\n",
       "      <td>gini</td>\n",
       "      <td>{'resampler': RandomUnderSampler(random_state=...</td>\n",
       "      <td>0.813769</td>\n",
       "      <td>0.783553</td>\n",
       "      <td>0.788383</td>\n",
       "      <td>0.798132</td>\n",
       "      <td>0.801381</td>\n",
       "      <td>0.797044</td>\n",
       "      <td>0.010552</td>\n",
       "      <td>5</td>\n",
       "    </tr>\n",
       "  </tbody>\n",
       "</table>\n",
       "</div>"
      ],
      "text/plain": [
       "     mean_fit_time  std_fit_time  mean_score_time  std_score_time  \\\n",
       "495       5.084421      0.022727         0.075255        0.010262   \n",
       "331       0.380098      0.018457         0.076203        0.012181   \n",
       "496       5.027058      0.030544         0.073689        0.008758   \n",
       "87        5.973232      0.107880         0.090847        0.015761   \n",
       "188       0.467760      0.057022         0.083999        0.018649   \n",
       "\n",
       "                        param_resampler param_model__random_state  \\\n",
       "495               SMOTE(random_state=0)                         0   \n",
       "331  RandomUnderSampler(random_state=0)                         0   \n",
       "496               SMOTE(random_state=0)                         0   \n",
       "87                SMOTE(random_state=0)                         0   \n",
       "188  RandomUnderSampler(random_state=0)                         0   \n",
       "\n",
       "    param_model__min_samples_split param_model__min_samples_leaf  \\\n",
       "495                             32                            80   \n",
       "331                             94                            40   \n",
       "496                             42                            88   \n",
       "87                              54                             2   \n",
       "188                             82                             2   \n",
       "\n",
       "    param_model__max_features param_model__max_depth param_model__criterion  \\\n",
       "495                         9                      6                   gini   \n",
       "331                         1                      4                   gini   \n",
       "496                         2                      6                   gini   \n",
       "87                          9                     49                entropy   \n",
       "188                         6                     35                   gini   \n",
       "\n",
       "                                                params  split0_test_score  \\\n",
       "495  {'resampler': SMOTE(random_state=0), 'model__r...           0.859261   \n",
       "331  {'resampler': RandomUnderSampler(random_state=...           0.858448   \n",
       "496  {'resampler': SMOTE(random_state=0), 'model__r...           0.770106   \n",
       "87   {'resampler': SMOTE(random_state=0), 'model__r...           0.796304   \n",
       "188  {'resampler': RandomUnderSampler(random_state=...           0.813769   \n",
       "\n",
       "     split1_test_score  split2_test_score  split3_test_score  \\\n",
       "495           0.930964           0.879366           0.930950   \n",
       "331           0.826802           0.845857           0.843826   \n",
       "496           0.760000           0.882413           0.828595   \n",
       "87            0.799594           0.786353           0.798132   \n",
       "188           0.783553           0.788383           0.798132   \n",
       "\n",
       "     split4_test_score  mean_test_score  std_test_score  rank_test_score  \n",
       "495           0.932169         0.906542        0.031058                1  \n",
       "331           0.848903         0.844767        0.010287                2  \n",
       "496           0.756702         0.799563        0.048943                3  \n",
       "87            0.805240         0.797124        0.006159                4  \n",
       "188           0.801381         0.797044        0.010552                5  "
      ]
     },
     "execution_count": 37,
     "metadata": {},
     "output_type": "execute_result"
    }
   ],
   "source": [
    "# menampilkan 5 parameter terbaik untuk DecisionTreeClassifier setelah tuning pertama \n",
    "pd.DataFrame(random_dtc.cv_results_).sort_values(by='rank_test_score').head()"
   ]
  },
  {
   "cell_type": "code",
   "execution_count": 109,
   "metadata": {},
   "outputs": [
    {
     "name": "stdout",
     "output_type": "stream",
     "text": [
      "DecisionTreeClassifier\n",
      "Best_score: 0.9065422029054832\n",
      "Best_params: {'resampler': SMOTE(random_state=0), 'model__random_state': 0, 'model__min_samples_split': 32, 'model__min_samples_leaf': 80, 'model__max_features': 9, 'model__max_depth': 6, 'model__criterion': 'gini'}\n"
     ]
    }
   ],
   "source": [
    "# menampilkan best score untuk DecisionTreeClassifier setelah tuning 1\n",
    "print('DecisionTreeClassifier')\n",
    "print('Best_score:', random_dtc.best_score_)\n",
    "print('Best_params:', random_dtc.best_params_)"
   ]
  },
  {
   "cell_type": "markdown",
   "metadata": {},
   "source": [
    "### Hyperparameter Tuning ke-2\n",
    "`DecisionTreeClassifier`"
   ]
  },
  {
   "attachments": {},
   "cell_type": "markdown",
   "metadata": {},
   "source": [
    "**saya akan mempersempit rentang parameter yang telah didapat dari bestparameter pada tuning pertama**\n",
    "- 'resampler': SMOTE(random_state=0), \n",
    "- 'model__random_state': 0, \n",
    "- 'model__min_samples_split': 32, \n",
    "- 'model__min_samples_leaf': 80, \n",
    "- 'model__max_features': 9, \n",
    "- 'model__max_depth': 6, \n",
    "- 'model__criterion': 'gini'}"
   ]
  },
  {
   "cell_type": "code",
   "execution_count": 44,
   "metadata": {},
   "outputs": [],
   "source": [
    "criterion = [\"gini\"]\n",
    "max_depth = list(np.arange(3,20,1))               # kedalaman pohon\n",
    "min_samples_leaf = list(np.arange(60,100,1))\n",
    "min_samples_split = list(np.arange(30,100,1) )\n",
    "max_features = list(np.arange(1,len(X.columns),1))            # jumlah feature yang digunakan untuk pertimbangan splitting (% dari total kolom train set)\n",
    "\n",
    "# Hyperparameter space DecisionTreeClassifier\n",
    "hyperparam_space_dtc = {\n",
    "    'resampler':[smote, rus],\n",
    "    'model__criterion': criterion,\n",
    "    'model__max_depth':max_depth,\n",
    "    'model__min_samples_leaf':min_samples_leaf,\n",
    "    'model__min_samples_split': min_samples_split,\n",
    "    'model__max_features':max_features,\n",
    "    'model__random_state':[0]\n",
    "}\n",
    "\n",
    "# Benchmark model 1\n",
    "dtc = tree\n",
    "\n",
    "# Create the algorithm chains\n",
    "estimator_dtc = Pipeline([\n",
    "    ('tansformer', transformer),\n",
    "    ('resampler', rus), \n",
    "    ('model', dtc)\n",
    "    ])\n",
    "\n",
    "# Hyperparameter tuning\n",
    "random_dtc_2 = RandomizedSearchCV(\n",
    "    estimator = estimator_dtc, \n",
    "    param_distributions = hyperparam_space_dtc, \n",
    "    cv = 5, \n",
    "    scoring = 'recall', \n",
    "    n_jobs = -1, \n",
    "    random_state=0,\n",
    "    n_iter=500\n",
    ")"
   ]
  },
  {
   "cell_type": "code",
   "execution_count": 45,
   "metadata": {},
   "outputs": [
    {
     "data": {
      "text/html": [
       "<style>#sk-container-id-4 {color: black;background-color: white;}#sk-container-id-4 pre{padding: 0;}#sk-container-id-4 div.sk-toggleable {background-color: white;}#sk-container-id-4 label.sk-toggleable__label {cursor: pointer;display: block;width: 100%;margin-bottom: 0;padding: 0.3em;box-sizing: border-box;text-align: center;}#sk-container-id-4 label.sk-toggleable__label-arrow:before {content: \"▸\";float: left;margin-right: 0.25em;color: #696969;}#sk-container-id-4 label.sk-toggleable__label-arrow:hover:before {color: black;}#sk-container-id-4 div.sk-estimator:hover label.sk-toggleable__label-arrow:before {color: black;}#sk-container-id-4 div.sk-toggleable__content {max-height: 0;max-width: 0;overflow: hidden;text-align: left;background-color: #f0f8ff;}#sk-container-id-4 div.sk-toggleable__content pre {margin: 0.2em;color: black;border-radius: 0.25em;background-color: #f0f8ff;}#sk-container-id-4 input.sk-toggleable__control:checked~div.sk-toggleable__content {max-height: 200px;max-width: 100%;overflow: auto;}#sk-container-id-4 input.sk-toggleable__control:checked~label.sk-toggleable__label-arrow:before {content: \"▾\";}#sk-container-id-4 div.sk-estimator input.sk-toggleable__control:checked~label.sk-toggleable__label {background-color: #d4ebff;}#sk-container-id-4 div.sk-label input.sk-toggleable__control:checked~label.sk-toggleable__label {background-color: #d4ebff;}#sk-container-id-4 input.sk-hidden--visually {border: 0;clip: rect(1px 1px 1px 1px);clip: rect(1px, 1px, 1px, 1px);height: 1px;margin: -1px;overflow: hidden;padding: 0;position: absolute;width: 1px;}#sk-container-id-4 div.sk-estimator {font-family: monospace;background-color: #f0f8ff;border: 1px dotted black;border-radius: 0.25em;box-sizing: border-box;margin-bottom: 0.5em;}#sk-container-id-4 div.sk-estimator:hover {background-color: #d4ebff;}#sk-container-id-4 div.sk-parallel-item::after {content: \"\";width: 100%;border-bottom: 1px solid gray;flex-grow: 1;}#sk-container-id-4 div.sk-label:hover label.sk-toggleable__label {background-color: #d4ebff;}#sk-container-id-4 div.sk-serial::before {content: \"\";position: absolute;border-left: 1px solid gray;box-sizing: border-box;top: 0;bottom: 0;left: 50%;z-index: 0;}#sk-container-id-4 div.sk-serial {display: flex;flex-direction: column;align-items: center;background-color: white;padding-right: 0.2em;padding-left: 0.2em;position: relative;}#sk-container-id-4 div.sk-item {position: relative;z-index: 1;}#sk-container-id-4 div.sk-parallel {display: flex;align-items: stretch;justify-content: center;background-color: white;position: relative;}#sk-container-id-4 div.sk-item::before, #sk-container-id-4 div.sk-parallel-item::before {content: \"\";position: absolute;border-left: 1px solid gray;box-sizing: border-box;top: 0;bottom: 0;left: 50%;z-index: -1;}#sk-container-id-4 div.sk-parallel-item {display: flex;flex-direction: column;z-index: 1;position: relative;background-color: white;}#sk-container-id-4 div.sk-parallel-item:first-child::after {align-self: flex-end;width: 50%;}#sk-container-id-4 div.sk-parallel-item:last-child::after {align-self: flex-start;width: 50%;}#sk-container-id-4 div.sk-parallel-item:only-child::after {width: 0;}#sk-container-id-4 div.sk-dashed-wrapped {border: 1px dashed gray;margin: 0 0.4em 0.5em 0.4em;box-sizing: border-box;padding-bottom: 0.4em;background-color: white;}#sk-container-id-4 div.sk-label label {font-family: monospace;font-weight: bold;display: inline-block;line-height: 1.2em;}#sk-container-id-4 div.sk-label-container {text-align: center;}#sk-container-id-4 div.sk-container {/* jupyter's `normalize.less` sets `[hidden] { display: none; }` but bootstrap.min.css set `[hidden] { display: none !important; }` so we also need the `!important` here to be able to override the default hidden behavior on the sphinx rendered scikit-learn.org. See: https://github.com/scikit-learn/scikit-learn/issues/21755 */display: inline-block !important;position: relative;}#sk-container-id-4 div.sk-text-repr-fallback {display: none;}</style><div id=\"sk-container-id-4\" class=\"sk-top-container\"><div class=\"sk-text-repr-fallback\"><pre>RandomizedSearchCV(cv=5,\n",
       "                   estimator=Pipeline(steps=[(&#x27;tansformer&#x27;,\n",
       "                                              ColumnTransformer(remainder=&#x27;passthrough&#x27;,\n",
       "                                                                transformers=[(&#x27;pipe_poly_scaling&#x27;,\n",
       "                                                                               Pipeline(steps=[(&#x27;poly&#x27;,\n",
       "                                                                                                PolynomialFeatures(degree=1)),\n",
       "                                                                                               (&#x27;scaling&#x27;,\n",
       "                                                                                                RobustScaler())]),\n",
       "                                                                               [&#x27;previous_cancellations&#x27;,\n",
       "                                                                                &#x27;booking_changes&#x27;,\n",
       "                                                                                &#x27;days_in_waiting_list&#x27;,\n",
       "                                                                                &#x27;required_car_parking_spaces&#x27;,\n",
       "                                                                                &#x27;total_of_special_requests&#x27;])...\n",
       "                                        &#x27;model__min_samples_leaf&#x27;: [60, 61, 62,\n",
       "                                                                    63, 64, 65,\n",
       "                                                                    66, 67, 68,\n",
       "                                                                    69, 70, 71,\n",
       "                                                                    72, 73, 74,\n",
       "                                                                    75, 76, 77,\n",
       "                                                                    78, 79, 80,\n",
       "                                                                    81, 82, 83,\n",
       "                                                                    84, 85, 86,\n",
       "                                                                    87, 88, 89, ...],\n",
       "                                        &#x27;model__min_samples_split&#x27;: [30, 31, 32,\n",
       "                                                                     33, 34, 35,\n",
       "                                                                     36, 37, 38,\n",
       "                                                                     39, 40, 41,\n",
       "                                                                     42, 43, 44,\n",
       "                                                                     45, 46, 47,\n",
       "                                                                     48, 49, 50,\n",
       "                                                                     51, 52, 53,\n",
       "                                                                     54, 55, 56,\n",
       "                                                                     57, 58, 59, ...],\n",
       "                                        &#x27;model__random_state&#x27;: [0],\n",
       "                                        &#x27;resampler&#x27;: [SMOTE(random_state=0),\n",
       "                                                      RandomUnderSampler(random_state=0)]},\n",
       "                   random_state=0, scoring=&#x27;recall&#x27;)</pre><b>In a Jupyter environment, please rerun this cell to show the HTML representation or trust the notebook. <br />On GitHub, the HTML representation is unable to render, please try loading this page with nbviewer.org.</b></div><div class=\"sk-container\" hidden><div class=\"sk-item sk-dashed-wrapped\"><div class=\"sk-label-container\"><div class=\"sk-label sk-toggleable\"><input class=\"sk-toggleable__control sk-hidden--visually\" id=\"sk-estimator-id-39\" type=\"checkbox\" ><label for=\"sk-estimator-id-39\" class=\"sk-toggleable__label sk-toggleable__label-arrow\">RandomizedSearchCV</label><div class=\"sk-toggleable__content\"><pre>RandomizedSearchCV(cv=5,\n",
       "                   estimator=Pipeline(steps=[(&#x27;tansformer&#x27;,\n",
       "                                              ColumnTransformer(remainder=&#x27;passthrough&#x27;,\n",
       "                                                                transformers=[(&#x27;pipe_poly_scaling&#x27;,\n",
       "                                                                               Pipeline(steps=[(&#x27;poly&#x27;,\n",
       "                                                                                                PolynomialFeatures(degree=1)),\n",
       "                                                                                               (&#x27;scaling&#x27;,\n",
       "                                                                                                RobustScaler())]),\n",
       "                                                                               [&#x27;previous_cancellations&#x27;,\n",
       "                                                                                &#x27;booking_changes&#x27;,\n",
       "                                                                                &#x27;days_in_waiting_list&#x27;,\n",
       "                                                                                &#x27;required_car_parking_spaces&#x27;,\n",
       "                                                                                &#x27;total_of_special_requests&#x27;])...\n",
       "                                        &#x27;model__min_samples_leaf&#x27;: [60, 61, 62,\n",
       "                                                                    63, 64, 65,\n",
       "                                                                    66, 67, 68,\n",
       "                                                                    69, 70, 71,\n",
       "                                                                    72, 73, 74,\n",
       "                                                                    75, 76, 77,\n",
       "                                                                    78, 79, 80,\n",
       "                                                                    81, 82, 83,\n",
       "                                                                    84, 85, 86,\n",
       "                                                                    87, 88, 89, ...],\n",
       "                                        &#x27;model__min_samples_split&#x27;: [30, 31, 32,\n",
       "                                                                     33, 34, 35,\n",
       "                                                                     36, 37, 38,\n",
       "                                                                     39, 40, 41,\n",
       "                                                                     42, 43, 44,\n",
       "                                                                     45, 46, 47,\n",
       "                                                                     48, 49, 50,\n",
       "                                                                     51, 52, 53,\n",
       "                                                                     54, 55, 56,\n",
       "                                                                     57, 58, 59, ...],\n",
       "                                        &#x27;model__random_state&#x27;: [0],\n",
       "                                        &#x27;resampler&#x27;: [SMOTE(random_state=0),\n",
       "                                                      RandomUnderSampler(random_state=0)]},\n",
       "                   random_state=0, scoring=&#x27;recall&#x27;)</pre></div></div></div><div class=\"sk-parallel\"><div class=\"sk-parallel-item\"><div class=\"sk-item\"><div class=\"sk-label-container\"><div class=\"sk-label sk-toggleable\"><input class=\"sk-toggleable__control sk-hidden--visually\" id=\"sk-estimator-id-40\" type=\"checkbox\" ><label for=\"sk-estimator-id-40\" class=\"sk-toggleable__label sk-toggleable__label-arrow\">estimator: Pipeline</label><div class=\"sk-toggleable__content\"><pre>Pipeline(steps=[(&#x27;tansformer&#x27;,\n",
       "                 ColumnTransformer(remainder=&#x27;passthrough&#x27;,\n",
       "                                   transformers=[(&#x27;pipe_poly_scaling&#x27;,\n",
       "                                                  Pipeline(steps=[(&#x27;poly&#x27;,\n",
       "                                                                   PolynomialFeatures(degree=1)),\n",
       "                                                                  (&#x27;scaling&#x27;,\n",
       "                                                                   RobustScaler())]),\n",
       "                                                  [&#x27;previous_cancellations&#x27;,\n",
       "                                                   &#x27;booking_changes&#x27;,\n",
       "                                                   &#x27;days_in_waiting_list&#x27;,\n",
       "                                                   &#x27;required_car_parking_spaces&#x27;,\n",
       "                                                   &#x27;total_of_special_requests&#x27;]),\n",
       "                                                 (&#x27;onehot&#x27;,\n",
       "                                                  OneHotEncoder(drop=&#x27;first&#x27;),\n",
       "                                                  [&#x27;market_segment&#x27;,\n",
       "                                                   &#x27;deposit_type&#x27;,\n",
       "                                                   &#x27;customer_type&#x27;,\n",
       "                                                   &#x27;reserved_room_type&#x27;]),\n",
       "                                                 (&#x27;binary&#x27;, BinaryEncoder(),\n",
       "                                                  [&#x27;country&#x27;])])),\n",
       "                (&#x27;resampler&#x27;, RandomUnderSampler(random_state=0)),\n",
       "                (&#x27;model&#x27;,\n",
       "                 DecisionTreeClassifier(class_weight=&#x27;balanced&#x27;,\n",
       "                                        random_state=0))])</pre></div></div></div><div class=\"sk-serial\"><div class=\"sk-item\"><div class=\"sk-serial\"><div class=\"sk-item sk-dashed-wrapped\"><div class=\"sk-label-container\"><div class=\"sk-label sk-toggleable\"><input class=\"sk-toggleable__control sk-hidden--visually\" id=\"sk-estimator-id-41\" type=\"checkbox\" ><label for=\"sk-estimator-id-41\" class=\"sk-toggleable__label sk-toggleable__label-arrow\">tansformer: ColumnTransformer</label><div class=\"sk-toggleable__content\"><pre>ColumnTransformer(remainder=&#x27;passthrough&#x27;,\n",
       "                  transformers=[(&#x27;pipe_poly_scaling&#x27;,\n",
       "                                 Pipeline(steps=[(&#x27;poly&#x27;,\n",
       "                                                  PolynomialFeatures(degree=1)),\n",
       "                                                 (&#x27;scaling&#x27;, RobustScaler())]),\n",
       "                                 [&#x27;previous_cancellations&#x27;, &#x27;booking_changes&#x27;,\n",
       "                                  &#x27;days_in_waiting_list&#x27;,\n",
       "                                  &#x27;required_car_parking_spaces&#x27;,\n",
       "                                  &#x27;total_of_special_requests&#x27;]),\n",
       "                                (&#x27;onehot&#x27;, OneHotEncoder(drop=&#x27;first&#x27;),\n",
       "                                 [&#x27;market_segment&#x27;, &#x27;deposit_type&#x27;,\n",
       "                                  &#x27;customer_type&#x27;, &#x27;reserved_room_type&#x27;]),\n",
       "                                (&#x27;binary&#x27;, BinaryEncoder(), [&#x27;country&#x27;])])</pre></div></div></div><div class=\"sk-parallel\"><div class=\"sk-parallel-item\"><div class=\"sk-item\"><div class=\"sk-label-container\"><div class=\"sk-label sk-toggleable\"><input class=\"sk-toggleable__control sk-hidden--visually\" id=\"sk-estimator-id-42\" type=\"checkbox\" ><label for=\"sk-estimator-id-42\" class=\"sk-toggleable__label sk-toggleable__label-arrow\">pipe_poly_scaling</label><div class=\"sk-toggleable__content\"><pre>[&#x27;previous_cancellations&#x27;, &#x27;booking_changes&#x27;, &#x27;days_in_waiting_list&#x27;, &#x27;required_car_parking_spaces&#x27;, &#x27;total_of_special_requests&#x27;]</pre></div></div></div><div class=\"sk-serial\"><div class=\"sk-item\"><div class=\"sk-serial\"><div class=\"sk-item\"><div class=\"sk-estimator sk-toggleable\"><input class=\"sk-toggleable__control sk-hidden--visually\" id=\"sk-estimator-id-43\" type=\"checkbox\" ><label for=\"sk-estimator-id-43\" class=\"sk-toggleable__label sk-toggleable__label-arrow\">PolynomialFeatures</label><div class=\"sk-toggleable__content\"><pre>PolynomialFeatures(degree=1)</pre></div></div></div><div class=\"sk-item\"><div class=\"sk-estimator sk-toggleable\"><input class=\"sk-toggleable__control sk-hidden--visually\" id=\"sk-estimator-id-44\" type=\"checkbox\" ><label for=\"sk-estimator-id-44\" class=\"sk-toggleable__label sk-toggleable__label-arrow\">RobustScaler</label><div class=\"sk-toggleable__content\"><pre>RobustScaler()</pre></div></div></div></div></div></div></div></div><div class=\"sk-parallel-item\"><div class=\"sk-item\"><div class=\"sk-label-container\"><div class=\"sk-label sk-toggleable\"><input class=\"sk-toggleable__control sk-hidden--visually\" id=\"sk-estimator-id-45\" type=\"checkbox\" ><label for=\"sk-estimator-id-45\" class=\"sk-toggleable__label sk-toggleable__label-arrow\">onehot</label><div class=\"sk-toggleable__content\"><pre>[&#x27;market_segment&#x27;, &#x27;deposit_type&#x27;, &#x27;customer_type&#x27;, &#x27;reserved_room_type&#x27;]</pre></div></div></div><div class=\"sk-serial\"><div class=\"sk-item\"><div class=\"sk-estimator sk-toggleable\"><input class=\"sk-toggleable__control sk-hidden--visually\" id=\"sk-estimator-id-46\" type=\"checkbox\" ><label for=\"sk-estimator-id-46\" class=\"sk-toggleable__label sk-toggleable__label-arrow\">OneHotEncoder</label><div class=\"sk-toggleable__content\"><pre>OneHotEncoder(drop=&#x27;first&#x27;)</pre></div></div></div></div></div></div><div class=\"sk-parallel-item\"><div class=\"sk-item\"><div class=\"sk-label-container\"><div class=\"sk-label sk-toggleable\"><input class=\"sk-toggleable__control sk-hidden--visually\" id=\"sk-estimator-id-47\" type=\"checkbox\" ><label for=\"sk-estimator-id-47\" class=\"sk-toggleable__label sk-toggleable__label-arrow\">binary</label><div class=\"sk-toggleable__content\"><pre>[&#x27;country&#x27;]</pre></div></div></div><div class=\"sk-serial\"><div class=\"sk-item\"><div class=\"sk-estimator sk-toggleable\"><input class=\"sk-toggleable__control sk-hidden--visually\" id=\"sk-estimator-id-48\" type=\"checkbox\" ><label for=\"sk-estimator-id-48\" class=\"sk-toggleable__label sk-toggleable__label-arrow\">BinaryEncoder</label><div class=\"sk-toggleable__content\"><pre>BinaryEncoder()</pre></div></div></div></div></div></div><div class=\"sk-parallel-item\"><div class=\"sk-item\"><div class=\"sk-label-container\"><div class=\"sk-label sk-toggleable\"><input class=\"sk-toggleable__control sk-hidden--visually\" id=\"sk-estimator-id-49\" type=\"checkbox\" ><label for=\"sk-estimator-id-49\" class=\"sk-toggleable__label sk-toggleable__label-arrow\">remainder</label><div class=\"sk-toggleable__content\"><pre></pre></div></div></div><div class=\"sk-serial\"><div class=\"sk-item\"><div class=\"sk-estimator sk-toggleable\"><input class=\"sk-toggleable__control sk-hidden--visually\" id=\"sk-estimator-id-50\" type=\"checkbox\" ><label for=\"sk-estimator-id-50\" class=\"sk-toggleable__label sk-toggleable__label-arrow\">passthrough</label><div class=\"sk-toggleable__content\"><pre>passthrough</pre></div></div></div></div></div></div></div></div><div class=\"sk-item\"><div class=\"sk-estimator sk-toggleable\"><input class=\"sk-toggleable__control sk-hidden--visually\" id=\"sk-estimator-id-51\" type=\"checkbox\" ><label for=\"sk-estimator-id-51\" class=\"sk-toggleable__label sk-toggleable__label-arrow\">RandomUnderSampler</label><div class=\"sk-toggleable__content\"><pre>RandomUnderSampler(random_state=0)</pre></div></div></div><div class=\"sk-item\"><div class=\"sk-estimator sk-toggleable\"><input class=\"sk-toggleable__control sk-hidden--visually\" id=\"sk-estimator-id-52\" type=\"checkbox\" ><label for=\"sk-estimator-id-52\" class=\"sk-toggleable__label sk-toggleable__label-arrow\">DecisionTreeClassifier</label><div class=\"sk-toggleable__content\"><pre>DecisionTreeClassifier(class_weight=&#x27;balanced&#x27;, random_state=0)</pre></div></div></div></div></div></div></div></div></div></div></div></div>"
      ],
      "text/plain": [
       "RandomizedSearchCV(cv=5,\n",
       "                   estimator=Pipeline(steps=[('tansformer',\n",
       "                                              ColumnTransformer(remainder='passthrough',\n",
       "                                                                transformers=[('pipe_poly_scaling',\n",
       "                                                                               Pipeline(steps=[('poly',\n",
       "                                                                                                PolynomialFeatures(degree=1)),\n",
       "                                                                                               ('scaling',\n",
       "                                                                                                RobustScaler())]),\n",
       "                                                                               ['previous_cancellations',\n",
       "                                                                                'booking_changes',\n",
       "                                                                                'days_in_waiting_list',\n",
       "                                                                                'required_car_parking_spaces',\n",
       "                                                                                'total_of_special_requests'])...\n",
       "                                        'model__min_samples_leaf': [60, 61, 62,\n",
       "                                                                    63, 64, 65,\n",
       "                                                                    66, 67, 68,\n",
       "                                                                    69, 70, 71,\n",
       "                                                                    72, 73, 74,\n",
       "                                                                    75, 76, 77,\n",
       "                                                                    78, 79, 80,\n",
       "                                                                    81, 82, 83,\n",
       "                                                                    84, 85, 86,\n",
       "                                                                    87, 88, 89, ...],\n",
       "                                        'model__min_samples_split': [30, 31, 32,\n",
       "                                                                     33, 34, 35,\n",
       "                                                                     36, 37, 38,\n",
       "                                                                     39, 40, 41,\n",
       "                                                                     42, 43, 44,\n",
       "                                                                     45, 46, 47,\n",
       "                                                                     48, 49, 50,\n",
       "                                                                     51, 52, 53,\n",
       "                                                                     54, 55, 56,\n",
       "                                                                     57, 58, 59, ...],\n",
       "                                        'model__random_state': [0],\n",
       "                                        'resampler': [SMOTE(random_state=0),\n",
       "                                                      RandomUnderSampler(random_state=0)]},\n",
       "                   random_state=0, scoring='recall')"
      ]
     },
     "execution_count": 45,
     "metadata": {},
     "output_type": "execute_result"
    }
   ],
   "source": [
    "# fitting the randomsearch for DecisionTreeClassifier best params setelah tuning 2 kali ke X_train, y_train\n",
    "random_dtc_2.fit(X_train, y_train)"
   ]
  },
  {
   "cell_type": "code",
   "execution_count": 46,
   "metadata": {},
   "outputs": [
    {
     "name": "stdout",
     "output_type": "stream",
     "text": [
      "DecisionTreeClassifier\n",
      "Best_score: 0.9679545497655738\n",
      "Best_params: {'resampler': RandomUnderSampler(random_state=0), 'model__random_state': 0, 'model__min_samples_split': 76, 'model__min_samples_leaf': 73, 'model__max_features': 1, 'model__max_depth': 3, 'model__criterion': 'gini'}\n"
     ]
    }
   ],
   "source": [
    "print('DecisionTreeClassifier')\n",
    "print('Best_score:', random_dtc_2.best_score_)\n",
    "print('Best_params:', random_dtc_2.best_params_)"
   ]
  },
  {
   "attachments": {},
   "cell_type": "markdown",
   "metadata": {},
   "source": [
    "### Hyperparameter Tuning\n",
    "`RandomForestClassifier`"
   ]
  },
  {
   "attachments": {},
   "cell_type": "markdown",
   "metadata": {},
   "source": [
    "Mencoba tuning pertama dengan model RandomForestClassifier "
   ]
  },
  {
   "cell_type": "code",
   "execution_count": 66,
   "metadata": {},
   "outputs": [],
   "source": [
    "criterion = [\"gini\", \"entropy\", \"log_loss\"]\n",
    "n_estimators = list(np.arange(1,100,1))          # jumlah pohon\n",
    "max_features = list(np.arange(1,len(X.columns),1))            # jumlah feature yang digunakan untuk pertimbangan splitting (% dari total kolom train set)\n",
    "max_depth = list(np.arange(3,100,2))               # kedalaman pohon\n",
    "min_samples_leaf = list(np.arange(1,50,1))\n",
    "min_samples_split = list(np.arange(1,100,2))\n",
    "\n",
    "# Hyperparameter space RandomForestClassifier\n",
    "hyperparam_space_rf = {\n",
    "    'resampler':[smote, rus, ros, nearmiss, None],\n",
    "    'model__criterion': criterion,\n",
    "    'model__n_estimators': n_estimators,\n",
    "    'model__max_features':max_features,\n",
    "    'model__max_depth':max_depth,\n",
    "    'model__min_samples_leaf':min_samples_leaf,\n",
    "    'model__min_samples_split': min_samples_split,\n",
    "    'model__random_state':[0]\n",
    "}\n",
    "\n",
    "# Benchmark model 1\n",
    "dtc = rf\n",
    "\n",
    "# Create the algorithm chains\n",
    "estimator_rf = Pipeline([\n",
    "    ('tansformer', transformer),\n",
    "    ('resampler', rus), \n",
    "    ('model', rf)\n",
    "    ])\n",
    "\n",
    "# Hyperparameter tuning\n",
    "random_rf = RandomizedSearchCV(\n",
    "    estimator = estimator_rf, \n",
    "    param_distributions = hyperparam_space_rf, \n",
    "    cv = 5, \n",
    "    scoring = 'recall', \n",
    "    n_jobs = -1, \n",
    "    random_state=0,\n",
    "    n_iter=500\n",
    ")"
   ]
  },
  {
   "cell_type": "code",
   "execution_count": 67,
   "metadata": {},
   "outputs": [
    {
     "data": {
      "text/html": [
       "<style>#sk-container-id-7 {color: black;background-color: white;}#sk-container-id-7 pre{padding: 0;}#sk-container-id-7 div.sk-toggleable {background-color: white;}#sk-container-id-7 label.sk-toggleable__label {cursor: pointer;display: block;width: 100%;margin-bottom: 0;padding: 0.3em;box-sizing: border-box;text-align: center;}#sk-container-id-7 label.sk-toggleable__label-arrow:before {content: \"▸\";float: left;margin-right: 0.25em;color: #696969;}#sk-container-id-7 label.sk-toggleable__label-arrow:hover:before {color: black;}#sk-container-id-7 div.sk-estimator:hover label.sk-toggleable__label-arrow:before {color: black;}#sk-container-id-7 div.sk-toggleable__content {max-height: 0;max-width: 0;overflow: hidden;text-align: left;background-color: #f0f8ff;}#sk-container-id-7 div.sk-toggleable__content pre {margin: 0.2em;color: black;border-radius: 0.25em;background-color: #f0f8ff;}#sk-container-id-7 input.sk-toggleable__control:checked~div.sk-toggleable__content {max-height: 200px;max-width: 100%;overflow: auto;}#sk-container-id-7 input.sk-toggleable__control:checked~label.sk-toggleable__label-arrow:before {content: \"▾\";}#sk-container-id-7 div.sk-estimator input.sk-toggleable__control:checked~label.sk-toggleable__label {background-color: #d4ebff;}#sk-container-id-7 div.sk-label input.sk-toggleable__control:checked~label.sk-toggleable__label {background-color: #d4ebff;}#sk-container-id-7 input.sk-hidden--visually {border: 0;clip: rect(1px 1px 1px 1px);clip: rect(1px, 1px, 1px, 1px);height: 1px;margin: -1px;overflow: hidden;padding: 0;position: absolute;width: 1px;}#sk-container-id-7 div.sk-estimator {font-family: monospace;background-color: #f0f8ff;border: 1px dotted black;border-radius: 0.25em;box-sizing: border-box;margin-bottom: 0.5em;}#sk-container-id-7 div.sk-estimator:hover {background-color: #d4ebff;}#sk-container-id-7 div.sk-parallel-item::after {content: \"\";width: 100%;border-bottom: 1px solid gray;flex-grow: 1;}#sk-container-id-7 div.sk-label:hover label.sk-toggleable__label {background-color: #d4ebff;}#sk-container-id-7 div.sk-serial::before {content: \"\";position: absolute;border-left: 1px solid gray;box-sizing: border-box;top: 0;bottom: 0;left: 50%;z-index: 0;}#sk-container-id-7 div.sk-serial {display: flex;flex-direction: column;align-items: center;background-color: white;padding-right: 0.2em;padding-left: 0.2em;position: relative;}#sk-container-id-7 div.sk-item {position: relative;z-index: 1;}#sk-container-id-7 div.sk-parallel {display: flex;align-items: stretch;justify-content: center;background-color: white;position: relative;}#sk-container-id-7 div.sk-item::before, #sk-container-id-7 div.sk-parallel-item::before {content: \"\";position: absolute;border-left: 1px solid gray;box-sizing: border-box;top: 0;bottom: 0;left: 50%;z-index: -1;}#sk-container-id-7 div.sk-parallel-item {display: flex;flex-direction: column;z-index: 1;position: relative;background-color: white;}#sk-container-id-7 div.sk-parallel-item:first-child::after {align-self: flex-end;width: 50%;}#sk-container-id-7 div.sk-parallel-item:last-child::after {align-self: flex-start;width: 50%;}#sk-container-id-7 div.sk-parallel-item:only-child::after {width: 0;}#sk-container-id-7 div.sk-dashed-wrapped {border: 1px dashed gray;margin: 0 0.4em 0.5em 0.4em;box-sizing: border-box;padding-bottom: 0.4em;background-color: white;}#sk-container-id-7 div.sk-label label {font-family: monospace;font-weight: bold;display: inline-block;line-height: 1.2em;}#sk-container-id-7 div.sk-label-container {text-align: center;}#sk-container-id-7 div.sk-container {/* jupyter's `normalize.less` sets `[hidden] { display: none; }` but bootstrap.min.css set `[hidden] { display: none !important; }` so we also need the `!important` here to be able to override the default hidden behavior on the sphinx rendered scikit-learn.org. See: https://github.com/scikit-learn/scikit-learn/issues/21755 */display: inline-block !important;position: relative;}#sk-container-id-7 div.sk-text-repr-fallback {display: none;}</style><div id=\"sk-container-id-7\" class=\"sk-top-container\"><div class=\"sk-text-repr-fallback\"><pre>RandomizedSearchCV(cv=5,\n",
       "                   estimator=Pipeline(steps=[(&#x27;tansformer&#x27;,\n",
       "                                              ColumnTransformer(remainder=&#x27;passthrough&#x27;,\n",
       "                                                                transformers=[(&#x27;pipe_poly_scaling&#x27;,\n",
       "                                                                               Pipeline(steps=[(&#x27;poly&#x27;,\n",
       "                                                                                                PolynomialFeatures(degree=1)),\n",
       "                                                                                               (&#x27;scaling&#x27;,\n",
       "                                                                                                RobustScaler())]),\n",
       "                                                                               [&#x27;previous_cancellations&#x27;,\n",
       "                                                                                &#x27;booking_changes&#x27;,\n",
       "                                                                                &#x27;days_in_waiting_list&#x27;,\n",
       "                                                                                &#x27;required_car_parking_spaces&#x27;,\n",
       "                                                                                &#x27;total_of_special_requests&#x27;])...\n",
       "                                                                     21, 23, 25,\n",
       "                                                                     27, 29, 31,\n",
       "                                                                     33, 35, 37,\n",
       "                                                                     39, 41, 43,\n",
       "                                                                     45, 47, 49,\n",
       "                                                                     51, 53, 55,\n",
       "                                                                     57, 59, ...],\n",
       "                                        &#x27;model__n_estimators&#x27;: [1, 2, 3, 4, 5,\n",
       "                                                                6, 7, 8, 9, 10,\n",
       "                                                                11, 12, 13, 14,\n",
       "                                                                15, 16, 17, 18,\n",
       "                                                                19, 20, 21, 22,\n",
       "                                                                23, 24, 25, 26,\n",
       "                                                                27, 28, 29, 30, ...],\n",
       "                                        &#x27;model__random_state&#x27;: [0],\n",
       "                                        &#x27;resampler&#x27;: [SMOTE(random_state=0),\n",
       "                                                      RandomUnderSampler(random_state=0),\n",
       "                                                      RandomOverSampler(random_state=0),\n",
       "                                                      NearMiss(), None]},\n",
       "                   random_state=0, scoring=&#x27;recall&#x27;)</pre><b>In a Jupyter environment, please rerun this cell to show the HTML representation or trust the notebook. <br />On GitHub, the HTML representation is unable to render, please try loading this page with nbviewer.org.</b></div><div class=\"sk-container\" hidden><div class=\"sk-item sk-dashed-wrapped\"><div class=\"sk-label-container\"><div class=\"sk-label sk-toggleable\"><input class=\"sk-toggleable__control sk-hidden--visually\" id=\"sk-estimator-id-81\" type=\"checkbox\" ><label for=\"sk-estimator-id-81\" class=\"sk-toggleable__label sk-toggleable__label-arrow\">RandomizedSearchCV</label><div class=\"sk-toggleable__content\"><pre>RandomizedSearchCV(cv=5,\n",
       "                   estimator=Pipeline(steps=[(&#x27;tansformer&#x27;,\n",
       "                                              ColumnTransformer(remainder=&#x27;passthrough&#x27;,\n",
       "                                                                transformers=[(&#x27;pipe_poly_scaling&#x27;,\n",
       "                                                                               Pipeline(steps=[(&#x27;poly&#x27;,\n",
       "                                                                                                PolynomialFeatures(degree=1)),\n",
       "                                                                                               (&#x27;scaling&#x27;,\n",
       "                                                                                                RobustScaler())]),\n",
       "                                                                               [&#x27;previous_cancellations&#x27;,\n",
       "                                                                                &#x27;booking_changes&#x27;,\n",
       "                                                                                &#x27;days_in_waiting_list&#x27;,\n",
       "                                                                                &#x27;required_car_parking_spaces&#x27;,\n",
       "                                                                                &#x27;total_of_special_requests&#x27;])...\n",
       "                                                                     21, 23, 25,\n",
       "                                                                     27, 29, 31,\n",
       "                                                                     33, 35, 37,\n",
       "                                                                     39, 41, 43,\n",
       "                                                                     45, 47, 49,\n",
       "                                                                     51, 53, 55,\n",
       "                                                                     57, 59, ...],\n",
       "                                        &#x27;model__n_estimators&#x27;: [1, 2, 3, 4, 5,\n",
       "                                                                6, 7, 8, 9, 10,\n",
       "                                                                11, 12, 13, 14,\n",
       "                                                                15, 16, 17, 18,\n",
       "                                                                19, 20, 21, 22,\n",
       "                                                                23, 24, 25, 26,\n",
       "                                                                27, 28, 29, 30, ...],\n",
       "                                        &#x27;model__random_state&#x27;: [0],\n",
       "                                        &#x27;resampler&#x27;: [SMOTE(random_state=0),\n",
       "                                                      RandomUnderSampler(random_state=0),\n",
       "                                                      RandomOverSampler(random_state=0),\n",
       "                                                      NearMiss(), None]},\n",
       "                   random_state=0, scoring=&#x27;recall&#x27;)</pre></div></div></div><div class=\"sk-parallel\"><div class=\"sk-parallel-item\"><div class=\"sk-item\"><div class=\"sk-label-container\"><div class=\"sk-label sk-toggleable\"><input class=\"sk-toggleable__control sk-hidden--visually\" id=\"sk-estimator-id-82\" type=\"checkbox\" ><label for=\"sk-estimator-id-82\" class=\"sk-toggleable__label sk-toggleable__label-arrow\">estimator: Pipeline</label><div class=\"sk-toggleable__content\"><pre>Pipeline(steps=[(&#x27;tansformer&#x27;,\n",
       "                 ColumnTransformer(remainder=&#x27;passthrough&#x27;,\n",
       "                                   transformers=[(&#x27;pipe_poly_scaling&#x27;,\n",
       "                                                  Pipeline(steps=[(&#x27;poly&#x27;,\n",
       "                                                                   PolynomialFeatures(degree=1)),\n",
       "                                                                  (&#x27;scaling&#x27;,\n",
       "                                                                   RobustScaler())]),\n",
       "                                                  [&#x27;previous_cancellations&#x27;,\n",
       "                                                   &#x27;booking_changes&#x27;,\n",
       "                                                   &#x27;days_in_waiting_list&#x27;,\n",
       "                                                   &#x27;required_car_parking_spaces&#x27;,\n",
       "                                                   &#x27;total_of_special_requests&#x27;]),\n",
       "                                                 (&#x27;onehot&#x27;,\n",
       "                                                  OneHotEncoder(drop=&#x27;first&#x27;),\n",
       "                                                  [&#x27;market_segment&#x27;,\n",
       "                                                   &#x27;deposit_type&#x27;,\n",
       "                                                   &#x27;customer_type&#x27;,\n",
       "                                                   &#x27;reserved_room_type&#x27;]),\n",
       "                                                 (&#x27;binary&#x27;, BinaryEncoder(),\n",
       "                                                  [&#x27;country&#x27;])])),\n",
       "                (&#x27;resampler&#x27;, RandomUnderSampler(random_state=0)),\n",
       "                (&#x27;model&#x27;,\n",
       "                 RandomForestClassifier(class_weight=&#x27;balanced&#x27;,\n",
       "                                        random_state=0))])</pre></div></div></div><div class=\"sk-serial\"><div class=\"sk-item\"><div class=\"sk-serial\"><div class=\"sk-item sk-dashed-wrapped\"><div class=\"sk-label-container\"><div class=\"sk-label sk-toggleable\"><input class=\"sk-toggleable__control sk-hidden--visually\" id=\"sk-estimator-id-83\" type=\"checkbox\" ><label for=\"sk-estimator-id-83\" class=\"sk-toggleable__label sk-toggleable__label-arrow\">tansformer: ColumnTransformer</label><div class=\"sk-toggleable__content\"><pre>ColumnTransformer(remainder=&#x27;passthrough&#x27;,\n",
       "                  transformers=[(&#x27;pipe_poly_scaling&#x27;,\n",
       "                                 Pipeline(steps=[(&#x27;poly&#x27;,\n",
       "                                                  PolynomialFeatures(degree=1)),\n",
       "                                                 (&#x27;scaling&#x27;, RobustScaler())]),\n",
       "                                 [&#x27;previous_cancellations&#x27;, &#x27;booking_changes&#x27;,\n",
       "                                  &#x27;days_in_waiting_list&#x27;,\n",
       "                                  &#x27;required_car_parking_spaces&#x27;,\n",
       "                                  &#x27;total_of_special_requests&#x27;]),\n",
       "                                (&#x27;onehot&#x27;, OneHotEncoder(drop=&#x27;first&#x27;),\n",
       "                                 [&#x27;market_segment&#x27;, &#x27;deposit_type&#x27;,\n",
       "                                  &#x27;customer_type&#x27;, &#x27;reserved_room_type&#x27;]),\n",
       "                                (&#x27;binary&#x27;, BinaryEncoder(), [&#x27;country&#x27;])])</pre></div></div></div><div class=\"sk-parallel\"><div class=\"sk-parallel-item\"><div class=\"sk-item\"><div class=\"sk-label-container\"><div class=\"sk-label sk-toggleable\"><input class=\"sk-toggleable__control sk-hidden--visually\" id=\"sk-estimator-id-84\" type=\"checkbox\" ><label for=\"sk-estimator-id-84\" class=\"sk-toggleable__label sk-toggleable__label-arrow\">pipe_poly_scaling</label><div class=\"sk-toggleable__content\"><pre>[&#x27;previous_cancellations&#x27;, &#x27;booking_changes&#x27;, &#x27;days_in_waiting_list&#x27;, &#x27;required_car_parking_spaces&#x27;, &#x27;total_of_special_requests&#x27;]</pre></div></div></div><div class=\"sk-serial\"><div class=\"sk-item\"><div class=\"sk-serial\"><div class=\"sk-item\"><div class=\"sk-estimator sk-toggleable\"><input class=\"sk-toggleable__control sk-hidden--visually\" id=\"sk-estimator-id-85\" type=\"checkbox\" ><label for=\"sk-estimator-id-85\" class=\"sk-toggleable__label sk-toggleable__label-arrow\">PolynomialFeatures</label><div class=\"sk-toggleable__content\"><pre>PolynomialFeatures(degree=1)</pre></div></div></div><div class=\"sk-item\"><div class=\"sk-estimator sk-toggleable\"><input class=\"sk-toggleable__control sk-hidden--visually\" id=\"sk-estimator-id-86\" type=\"checkbox\" ><label for=\"sk-estimator-id-86\" class=\"sk-toggleable__label sk-toggleable__label-arrow\">RobustScaler</label><div class=\"sk-toggleable__content\"><pre>RobustScaler()</pre></div></div></div></div></div></div></div></div><div class=\"sk-parallel-item\"><div class=\"sk-item\"><div class=\"sk-label-container\"><div class=\"sk-label sk-toggleable\"><input class=\"sk-toggleable__control sk-hidden--visually\" id=\"sk-estimator-id-87\" type=\"checkbox\" ><label for=\"sk-estimator-id-87\" class=\"sk-toggleable__label sk-toggleable__label-arrow\">onehot</label><div class=\"sk-toggleable__content\"><pre>[&#x27;market_segment&#x27;, &#x27;deposit_type&#x27;, &#x27;customer_type&#x27;, &#x27;reserved_room_type&#x27;]</pre></div></div></div><div class=\"sk-serial\"><div class=\"sk-item\"><div class=\"sk-estimator sk-toggleable\"><input class=\"sk-toggleable__control sk-hidden--visually\" id=\"sk-estimator-id-88\" type=\"checkbox\" ><label for=\"sk-estimator-id-88\" class=\"sk-toggleable__label sk-toggleable__label-arrow\">OneHotEncoder</label><div class=\"sk-toggleable__content\"><pre>OneHotEncoder(drop=&#x27;first&#x27;)</pre></div></div></div></div></div></div><div class=\"sk-parallel-item\"><div class=\"sk-item\"><div class=\"sk-label-container\"><div class=\"sk-label sk-toggleable\"><input class=\"sk-toggleable__control sk-hidden--visually\" id=\"sk-estimator-id-89\" type=\"checkbox\" ><label for=\"sk-estimator-id-89\" class=\"sk-toggleable__label sk-toggleable__label-arrow\">binary</label><div class=\"sk-toggleable__content\"><pre>[&#x27;country&#x27;]</pre></div></div></div><div class=\"sk-serial\"><div class=\"sk-item\"><div class=\"sk-estimator sk-toggleable\"><input class=\"sk-toggleable__control sk-hidden--visually\" id=\"sk-estimator-id-90\" type=\"checkbox\" ><label for=\"sk-estimator-id-90\" class=\"sk-toggleable__label sk-toggleable__label-arrow\">BinaryEncoder</label><div class=\"sk-toggleable__content\"><pre>BinaryEncoder()</pre></div></div></div></div></div></div><div class=\"sk-parallel-item\"><div class=\"sk-item\"><div class=\"sk-label-container\"><div class=\"sk-label sk-toggleable\"><input class=\"sk-toggleable__control sk-hidden--visually\" id=\"sk-estimator-id-91\" type=\"checkbox\" ><label for=\"sk-estimator-id-91\" class=\"sk-toggleable__label sk-toggleable__label-arrow\">remainder</label><div class=\"sk-toggleable__content\"><pre></pre></div></div></div><div class=\"sk-serial\"><div class=\"sk-item\"><div class=\"sk-estimator sk-toggleable\"><input class=\"sk-toggleable__control sk-hidden--visually\" id=\"sk-estimator-id-92\" type=\"checkbox\" ><label for=\"sk-estimator-id-92\" class=\"sk-toggleable__label sk-toggleable__label-arrow\">passthrough</label><div class=\"sk-toggleable__content\"><pre>passthrough</pre></div></div></div></div></div></div></div></div><div class=\"sk-item\"><div class=\"sk-estimator sk-toggleable\"><input class=\"sk-toggleable__control sk-hidden--visually\" id=\"sk-estimator-id-93\" type=\"checkbox\" ><label for=\"sk-estimator-id-93\" class=\"sk-toggleable__label sk-toggleable__label-arrow\">RandomUnderSampler</label><div class=\"sk-toggleable__content\"><pre>RandomUnderSampler(random_state=0)</pre></div></div></div><div class=\"sk-item\"><div class=\"sk-estimator sk-toggleable\"><input class=\"sk-toggleable__control sk-hidden--visually\" id=\"sk-estimator-id-94\" type=\"checkbox\" ><label for=\"sk-estimator-id-94\" class=\"sk-toggleable__label sk-toggleable__label-arrow\">RandomForestClassifier</label><div class=\"sk-toggleable__content\"><pre>RandomForestClassifier(class_weight=&#x27;balanced&#x27;, random_state=0)</pre></div></div></div></div></div></div></div></div></div></div></div></div>"
      ],
      "text/plain": [
       "RandomizedSearchCV(cv=5,\n",
       "                   estimator=Pipeline(steps=[('tansformer',\n",
       "                                              ColumnTransformer(remainder='passthrough',\n",
       "                                                                transformers=[('pipe_poly_scaling',\n",
       "                                                                               Pipeline(steps=[('poly',\n",
       "                                                                                                PolynomialFeatures(degree=1)),\n",
       "                                                                                               ('scaling',\n",
       "                                                                                                RobustScaler())]),\n",
       "                                                                               ['previous_cancellations',\n",
       "                                                                                'booking_changes',\n",
       "                                                                                'days_in_waiting_list',\n",
       "                                                                                'required_car_parking_spaces',\n",
       "                                                                                'total_of_special_requests'])...\n",
       "                                                                     21, 23, 25,\n",
       "                                                                     27, 29, 31,\n",
       "                                                                     33, 35, 37,\n",
       "                                                                     39, 41, 43,\n",
       "                                                                     45, 47, 49,\n",
       "                                                                     51, 53, 55,\n",
       "                                                                     57, 59, ...],\n",
       "                                        'model__n_estimators': [1, 2, 3, 4, 5,\n",
       "                                                                6, 7, 8, 9, 10,\n",
       "                                                                11, 12, 13, 14,\n",
       "                                                                15, 16, 17, 18,\n",
       "                                                                19, 20, 21, 22,\n",
       "                                                                23, 24, 25, 26,\n",
       "                                                                27, 28, 29, 30, ...],\n",
       "                                        'model__random_state': [0],\n",
       "                                        'resampler': [SMOTE(random_state=0),\n",
       "                                                      RandomUnderSampler(random_state=0),\n",
       "                                                      RandomOverSampler(random_state=0),\n",
       "                                                      NearMiss(), None]},\n",
       "                   random_state=0, scoring='recall')"
      ]
     },
     "execution_count": 67,
     "metadata": {},
     "output_type": "execute_result"
    }
   ],
   "source": [
    "# fitting the randomsearch for RandomForest best params ke X_train, y_train\n",
    "random_rf.fit(X_train, y_train)"
   ]
  },
  {
   "cell_type": "code",
   "execution_count": 68,
   "metadata": {},
   "outputs": [
    {
     "data": {
      "text/html": [
       "<div>\n",
       "<style scoped>\n",
       "    .dataframe tbody tr th:only-of-type {\n",
       "        vertical-align: middle;\n",
       "    }\n",
       "\n",
       "    .dataframe tbody tr th {\n",
       "        vertical-align: top;\n",
       "    }\n",
       "\n",
       "    .dataframe thead th {\n",
       "        text-align: right;\n",
       "    }\n",
       "</style>\n",
       "<table border=\"1\" class=\"dataframe\">\n",
       "  <thead>\n",
       "    <tr style=\"text-align: right;\">\n",
       "      <th></th>\n",
       "      <th>mean_fit_time</th>\n",
       "      <th>std_fit_time</th>\n",
       "      <th>mean_score_time</th>\n",
       "      <th>std_score_time</th>\n",
       "      <th>param_resampler</th>\n",
       "      <th>param_model__random_state</th>\n",
       "      <th>param_model__n_estimators</th>\n",
       "      <th>param_model__min_samples_split</th>\n",
       "      <th>param_model__min_samples_leaf</th>\n",
       "      <th>param_model__max_features</th>\n",
       "      <th>param_model__max_depth</th>\n",
       "      <th>param_model__criterion</th>\n",
       "      <th>params</th>\n",
       "      <th>split0_test_score</th>\n",
       "      <th>split1_test_score</th>\n",
       "      <th>split2_test_score</th>\n",
       "      <th>split3_test_score</th>\n",
       "      <th>split4_test_score</th>\n",
       "      <th>mean_test_score</th>\n",
       "      <th>std_test_score</th>\n",
       "      <th>rank_test_score</th>\n",
       "    </tr>\n",
       "  </thead>\n",
       "  <tbody>\n",
       "    <tr>\n",
       "      <th>346</th>\n",
       "      <td>0.632266</td>\n",
       "      <td>0.014078</td>\n",
       "      <td>0.090603</td>\n",
       "      <td>0.006249</td>\n",
       "      <td>RandomUnderSampler(random_state=0)</td>\n",
       "      <td>0</td>\n",
       "      <td>4</td>\n",
       "      <td>13</td>\n",
       "      <td>1</td>\n",
       "      <td>6</td>\n",
       "      <td>73</td>\n",
       "      <td>entropy</td>\n",
       "      <td>{'resampler': RandomUnderSampler(random_state=...</td>\n",
       "      <td>0.815800</td>\n",
       "      <td>0.807919</td>\n",
       "      <td>0.805849</td>\n",
       "      <td>0.810926</td>\n",
       "      <td>0.810926</td>\n",
       "      <td>0.810284</td>\n",
       "      <td>0.003362</td>\n",
       "      <td>1</td>\n",
       "    </tr>\n",
       "    <tr>\n",
       "      <th>124</th>\n",
       "      <td>0.653056</td>\n",
       "      <td>0.010672</td>\n",
       "      <td>0.099931</td>\n",
       "      <td>0.003479</td>\n",
       "      <td>RandomOverSampler(random_state=0)</td>\n",
       "      <td>0</td>\n",
       "      <td>1</td>\n",
       "      <td>73</td>\n",
       "      <td>1</td>\n",
       "      <td>7</td>\n",
       "      <td>93</td>\n",
       "      <td>log_loss</td>\n",
       "      <td>{'resampler': RandomOverSampler(random_state=0...</td>\n",
       "      <td>0.799959</td>\n",
       "      <td>0.808122</td>\n",
       "      <td>0.793054</td>\n",
       "      <td>0.799147</td>\n",
       "      <td>0.807067</td>\n",
       "      <td>0.801470</td>\n",
       "      <td>0.005551</td>\n",
       "      <td>2</td>\n",
       "    </tr>\n",
       "    <tr>\n",
       "      <th>250</th>\n",
       "      <td>13.154337</td>\n",
       "      <td>0.289068</td>\n",
       "      <td>0.337420</td>\n",
       "      <td>0.015931</td>\n",
       "      <td>SMOTE(random_state=0)</td>\n",
       "      <td>0</td>\n",
       "      <td>64</td>\n",
       "      <td>11</td>\n",
       "      <td>1</td>\n",
       "      <td>6</td>\n",
       "      <td>73</td>\n",
       "      <td>log_loss</td>\n",
       "      <td>{'resampler': SMOTE(random_state=0), 'model__r...</td>\n",
       "      <td>0.794679</td>\n",
       "      <td>0.799797</td>\n",
       "      <td>0.793867</td>\n",
       "      <td>0.793054</td>\n",
       "      <td>0.806052</td>\n",
       "      <td>0.797490</td>\n",
       "      <td>0.004885</td>\n",
       "      <td>3</td>\n",
       "    </tr>\n",
       "    <tr>\n",
       "      <th>236</th>\n",
       "      <td>12.087226</td>\n",
       "      <td>0.306119</td>\n",
       "      <td>0.240170</td>\n",
       "      <td>0.007192</td>\n",
       "      <td>SMOTE(random_state=0)</td>\n",
       "      <td>0</td>\n",
       "      <td>48</td>\n",
       "      <td>65</td>\n",
       "      <td>1</td>\n",
       "      <td>9</td>\n",
       "      <td>99</td>\n",
       "      <td>log_loss</td>\n",
       "      <td>{'resampler': SMOTE(random_state=0), 'model__r...</td>\n",
       "      <td>0.794476</td>\n",
       "      <td>0.798985</td>\n",
       "      <td>0.794070</td>\n",
       "      <td>0.795695</td>\n",
       "      <td>0.803412</td>\n",
       "      <td>0.797327</td>\n",
       "      <td>0.003498</td>\n",
       "      <td>4</td>\n",
       "    </tr>\n",
       "    <tr>\n",
       "      <th>490</th>\n",
       "      <td>15.353685</td>\n",
       "      <td>0.645209</td>\n",
       "      <td>0.368663</td>\n",
       "      <td>0.018746</td>\n",
       "      <td>SMOTE(random_state=0)</td>\n",
       "      <td>0</td>\n",
       "      <td>80</td>\n",
       "      <td>13</td>\n",
       "      <td>1</td>\n",
       "      <td>7</td>\n",
       "      <td>25</td>\n",
       "      <td>log_loss</td>\n",
       "      <td>{'resampler': SMOTE(random_state=0), 'model__r...</td>\n",
       "      <td>0.792851</td>\n",
       "      <td>0.799391</td>\n",
       "      <td>0.794882</td>\n",
       "      <td>0.791430</td>\n",
       "      <td>0.807880</td>\n",
       "      <td>0.797287</td>\n",
       "      <td>0.005940</td>\n",
       "      <td>5</td>\n",
       "    </tr>\n",
       "  </tbody>\n",
       "</table>\n",
       "</div>"
      ],
      "text/plain": [
       "     mean_fit_time  std_fit_time  mean_score_time  std_score_time  \\\n",
       "346       0.632266      0.014078         0.090603        0.006249   \n",
       "124       0.653056      0.010672         0.099931        0.003479   \n",
       "250      13.154337      0.289068         0.337420        0.015931   \n",
       "236      12.087226      0.306119         0.240170        0.007192   \n",
       "490      15.353685      0.645209         0.368663        0.018746   \n",
       "\n",
       "                        param_resampler param_model__random_state  \\\n",
       "346  RandomUnderSampler(random_state=0)                         0   \n",
       "124   RandomOverSampler(random_state=0)                         0   \n",
       "250               SMOTE(random_state=0)                         0   \n",
       "236               SMOTE(random_state=0)                         0   \n",
       "490               SMOTE(random_state=0)                         0   \n",
       "\n",
       "    param_model__n_estimators param_model__min_samples_split  \\\n",
       "346                         4                             13   \n",
       "124                         1                             73   \n",
       "250                        64                             11   \n",
       "236                        48                             65   \n",
       "490                        80                             13   \n",
       "\n",
       "    param_model__min_samples_leaf param_model__max_features  \\\n",
       "346                             1                         6   \n",
       "124                             1                         7   \n",
       "250                             1                         6   \n",
       "236                             1                         9   \n",
       "490                             1                         7   \n",
       "\n",
       "    param_model__max_depth param_model__criterion  \\\n",
       "346                     73                entropy   \n",
       "124                     93               log_loss   \n",
       "250                     73               log_loss   \n",
       "236                     99               log_loss   \n",
       "490                     25               log_loss   \n",
       "\n",
       "                                                params  split0_test_score  \\\n",
       "346  {'resampler': RandomUnderSampler(random_state=...           0.815800   \n",
       "124  {'resampler': RandomOverSampler(random_state=0...           0.799959   \n",
       "250  {'resampler': SMOTE(random_state=0), 'model__r...           0.794679   \n",
       "236  {'resampler': SMOTE(random_state=0), 'model__r...           0.794476   \n",
       "490  {'resampler': SMOTE(random_state=0), 'model__r...           0.792851   \n",
       "\n",
       "     split1_test_score  split2_test_score  split3_test_score  \\\n",
       "346           0.807919           0.805849           0.810926   \n",
       "124           0.808122           0.793054           0.799147   \n",
       "250           0.799797           0.793867           0.793054   \n",
       "236           0.798985           0.794070           0.795695   \n",
       "490           0.799391           0.794882           0.791430   \n",
       "\n",
       "     split4_test_score  mean_test_score  std_test_score  rank_test_score  \n",
       "346           0.810926         0.810284        0.003362                1  \n",
       "124           0.807067         0.801470        0.005551                2  \n",
       "250           0.806052         0.797490        0.004885                3  \n",
       "236           0.803412         0.797327        0.003498                4  \n",
       "490           0.807880         0.797287        0.005940                5  "
      ]
     },
     "execution_count": 68,
     "metadata": {},
     "output_type": "execute_result"
    }
   ],
   "source": [
    "pd.DataFrame(random_rf.cv_results_).sort_values(by='rank_test_score').head()"
   ]
  },
  {
   "cell_type": "code",
   "execution_count": 110,
   "metadata": {},
   "outputs": [
    {
     "name": "stdout",
     "output_type": "stream",
     "text": [
      "RandomForestClassifier\n",
      "Best_score: 0.8102840000494831\n",
      "Best_params: {'resampler': RandomUnderSampler(random_state=0), 'model__random_state': 0, 'model__n_estimators': 4, 'model__min_samples_split': 13, 'model__min_samples_leaf': 1, 'model__max_features': 6, 'model__max_depth': 73, 'model__criterion': 'entropy'}\n"
     ]
    }
   ],
   "source": [
    "# menampilkan best score dan best parameter dari randomforest classifier setelah tuning pertama\n",
    "print('RandomForestClassifier')\n",
    "print('Best_score:', random_rf.best_score_)\n",
    "print('Best_params:', random_rf.best_params_)"
   ]
  },
  {
   "attachments": {},
   "cell_type": "markdown",
   "metadata": {},
   "source": [
    "### Hyperparameter Tuning ke-2\n",
    "`RandomForestClassifier`"
   ]
  },
  {
   "attachments": {},
   "cell_type": "markdown",
   "metadata": {},
   "source": [
    "**saya akan mempersempit rentang parameter yang telah didapat dari bestparameter pada tuning pertama**\n",
    "- 'resampler': RandomUnderSampler(random_state=0), \n",
    "- 'model__random_state': 0, \n",
    "- 'model__n_estimators': 4, \n",
    "- 'model__min_samples_split': 13, \n",
    "- 'model__min_samples_leaf': 1, \n",
    "- 'model__max_features': 6, \n",
    "- 'model__max_depth': 73, \n",
    "- 'model__criterion': 'entropy'"
   ]
  },
  {
   "cell_type": "code",
   "execution_count": 88,
   "metadata": {},
   "outputs": [],
   "source": [
    "criterion = [\"entropy\", \"log_loss\"]\n",
    "n_estimators = list(np.arange(1,100,2))          # jumlah pohon\n",
    "max_features = list(np.arange(1,len(X.columns),1))            # jumlah feature yang digunakan untuk pertimbangan splitting (% dari total kolom train set)\n",
    "max_depth = list(np.arange(25,100,2))               # kedalaman pohon\n",
    "min_samples_leaf = list(np.arange(1,20,1))\n",
    "min_samples_split = list(np.arange(10,80,2) )\n",
    "\n",
    "# Hyperparameter space RandomForestClassifier\n",
    "hyperparam_space_rf = {\n",
    "    'resampler':[smote, rus, ros],\n",
    "    'model__criterion': criterion,\n",
    "    'model__n_estimators': n_estimators,\n",
    "    'model__max_features':max_features,\n",
    "    'model__max_depth':max_depth,\n",
    "    'model__min_samples_leaf':min_samples_leaf,\n",
    "    'model__min_samples_split': min_samples_split,\n",
    "    'model__random_state':[0]\n",
    "}\n",
    "\n",
    "# Benchmark model 1\n",
    "dtc = rf\n",
    "\n",
    "# Create the algorithm chains\n",
    "estimator_rf = Pipeline([\n",
    "    ('tansformer', transformer),\n",
    "    ('resampler', rus), \n",
    "    ('model', rf)\n",
    "    ])\n",
    "\n",
    "# Hyperparameter tuning\n",
    "random_rf_2 = RandomizedSearchCV(\n",
    "    estimator = estimator_rf, \n",
    "    param_distributions = hyperparam_space_rf, \n",
    "    cv = 5, \n",
    "    scoring = 'recall', \n",
    "    n_jobs = -1, \n",
    "    random_state=0,\n",
    "    n_iter=500\n",
    ")"
   ]
  },
  {
   "cell_type": "code",
   "execution_count": 89,
   "metadata": {},
   "outputs": [
    {
     "data": {
      "text/html": [
       "<style>#sk-container-id-9 {color: black;background-color: white;}#sk-container-id-9 pre{padding: 0;}#sk-container-id-9 div.sk-toggleable {background-color: white;}#sk-container-id-9 label.sk-toggleable__label {cursor: pointer;display: block;width: 100%;margin-bottom: 0;padding: 0.3em;box-sizing: border-box;text-align: center;}#sk-container-id-9 label.sk-toggleable__label-arrow:before {content: \"▸\";float: left;margin-right: 0.25em;color: #696969;}#sk-container-id-9 label.sk-toggleable__label-arrow:hover:before {color: black;}#sk-container-id-9 div.sk-estimator:hover label.sk-toggleable__label-arrow:before {color: black;}#sk-container-id-9 div.sk-toggleable__content {max-height: 0;max-width: 0;overflow: hidden;text-align: left;background-color: #f0f8ff;}#sk-container-id-9 div.sk-toggleable__content pre {margin: 0.2em;color: black;border-radius: 0.25em;background-color: #f0f8ff;}#sk-container-id-9 input.sk-toggleable__control:checked~div.sk-toggleable__content {max-height: 200px;max-width: 100%;overflow: auto;}#sk-container-id-9 input.sk-toggleable__control:checked~label.sk-toggleable__label-arrow:before {content: \"▾\";}#sk-container-id-9 div.sk-estimator input.sk-toggleable__control:checked~label.sk-toggleable__label {background-color: #d4ebff;}#sk-container-id-9 div.sk-label input.sk-toggleable__control:checked~label.sk-toggleable__label {background-color: #d4ebff;}#sk-container-id-9 input.sk-hidden--visually {border: 0;clip: rect(1px 1px 1px 1px);clip: rect(1px, 1px, 1px, 1px);height: 1px;margin: -1px;overflow: hidden;padding: 0;position: absolute;width: 1px;}#sk-container-id-9 div.sk-estimator {font-family: monospace;background-color: #f0f8ff;border: 1px dotted black;border-radius: 0.25em;box-sizing: border-box;margin-bottom: 0.5em;}#sk-container-id-9 div.sk-estimator:hover {background-color: #d4ebff;}#sk-container-id-9 div.sk-parallel-item::after {content: \"\";width: 100%;border-bottom: 1px solid gray;flex-grow: 1;}#sk-container-id-9 div.sk-label:hover label.sk-toggleable__label {background-color: #d4ebff;}#sk-container-id-9 div.sk-serial::before {content: \"\";position: absolute;border-left: 1px solid gray;box-sizing: border-box;top: 0;bottom: 0;left: 50%;z-index: 0;}#sk-container-id-9 div.sk-serial {display: flex;flex-direction: column;align-items: center;background-color: white;padding-right: 0.2em;padding-left: 0.2em;position: relative;}#sk-container-id-9 div.sk-item {position: relative;z-index: 1;}#sk-container-id-9 div.sk-parallel {display: flex;align-items: stretch;justify-content: center;background-color: white;position: relative;}#sk-container-id-9 div.sk-item::before, #sk-container-id-9 div.sk-parallel-item::before {content: \"\";position: absolute;border-left: 1px solid gray;box-sizing: border-box;top: 0;bottom: 0;left: 50%;z-index: -1;}#sk-container-id-9 div.sk-parallel-item {display: flex;flex-direction: column;z-index: 1;position: relative;background-color: white;}#sk-container-id-9 div.sk-parallel-item:first-child::after {align-self: flex-end;width: 50%;}#sk-container-id-9 div.sk-parallel-item:last-child::after {align-self: flex-start;width: 50%;}#sk-container-id-9 div.sk-parallel-item:only-child::after {width: 0;}#sk-container-id-9 div.sk-dashed-wrapped {border: 1px dashed gray;margin: 0 0.4em 0.5em 0.4em;box-sizing: border-box;padding-bottom: 0.4em;background-color: white;}#sk-container-id-9 div.sk-label label {font-family: monospace;font-weight: bold;display: inline-block;line-height: 1.2em;}#sk-container-id-9 div.sk-label-container {text-align: center;}#sk-container-id-9 div.sk-container {/* jupyter's `normalize.less` sets `[hidden] { display: none; }` but bootstrap.min.css set `[hidden] { display: none !important; }` so we also need the `!important` here to be able to override the default hidden behavior on the sphinx rendered scikit-learn.org. See: https://github.com/scikit-learn/scikit-learn/issues/21755 */display: inline-block !important;position: relative;}#sk-container-id-9 div.sk-text-repr-fallback {display: none;}</style><div id=\"sk-container-id-9\" class=\"sk-top-container\"><div class=\"sk-text-repr-fallback\"><pre>RandomizedSearchCV(cv=5,\n",
       "                   estimator=Pipeline(steps=[(&#x27;tansformer&#x27;,\n",
       "                                              ColumnTransformer(remainder=&#x27;passthrough&#x27;,\n",
       "                                                                transformers=[(&#x27;pipe_poly_scaling&#x27;,\n",
       "                                                                               Pipeline(steps=[(&#x27;poly&#x27;,\n",
       "                                                                                                PolynomialFeatures(degree=1)),\n",
       "                                                                                               (&#x27;scaling&#x27;,\n",
       "                                                                                                RobustScaler())]),\n",
       "                                                                               [&#x27;previous_cancellations&#x27;,\n",
       "                                                                                &#x27;booking_changes&#x27;,\n",
       "                                                                                &#x27;days_in_waiting_list&#x27;,\n",
       "                                                                                &#x27;required_car_parking_spaces&#x27;,\n",
       "                                                                                &#x27;total_of_special_requests&#x27;])...\n",
       "                                                                     22, 24, 26,\n",
       "                                                                     28, 30, 32,\n",
       "                                                                     34, 36, 38,\n",
       "                                                                     40, 42, 44,\n",
       "                                                                     46, 48, 50,\n",
       "                                                                     52, 54, 56,\n",
       "                                                                     58, 60, 62,\n",
       "                                                                     64, 66, 68, ...],\n",
       "                                        &#x27;model__n_estimators&#x27;: [1, 3, 5, 7, 9,\n",
       "                                                                11, 13, 15, 17,\n",
       "                                                                19, 21, 23, 25,\n",
       "                                                                27, 29, 31, 33,\n",
       "                                                                35, 37, 39, 41,\n",
       "                                                                43, 45, 47, 49,\n",
       "                                                                51, 53, 55, 57,\n",
       "                                                                59, ...],\n",
       "                                        &#x27;model__random_state&#x27;: [0],\n",
       "                                        &#x27;resampler&#x27;: [SMOTE(random_state=0),\n",
       "                                                      RandomUnderSampler(random_state=0),\n",
       "                                                      RandomOverSampler(random_state=0)]},\n",
       "                   random_state=0, scoring=&#x27;recall&#x27;)</pre><b>In a Jupyter environment, please rerun this cell to show the HTML representation or trust the notebook. <br />On GitHub, the HTML representation is unable to render, please try loading this page with nbviewer.org.</b></div><div class=\"sk-container\" hidden><div class=\"sk-item sk-dashed-wrapped\"><div class=\"sk-label-container\"><div class=\"sk-label sk-toggleable\"><input class=\"sk-toggleable__control sk-hidden--visually\" id=\"sk-estimator-id-109\" type=\"checkbox\" ><label for=\"sk-estimator-id-109\" class=\"sk-toggleable__label sk-toggleable__label-arrow\">RandomizedSearchCV</label><div class=\"sk-toggleable__content\"><pre>RandomizedSearchCV(cv=5,\n",
       "                   estimator=Pipeline(steps=[(&#x27;tansformer&#x27;,\n",
       "                                              ColumnTransformer(remainder=&#x27;passthrough&#x27;,\n",
       "                                                                transformers=[(&#x27;pipe_poly_scaling&#x27;,\n",
       "                                                                               Pipeline(steps=[(&#x27;poly&#x27;,\n",
       "                                                                                                PolynomialFeatures(degree=1)),\n",
       "                                                                                               (&#x27;scaling&#x27;,\n",
       "                                                                                                RobustScaler())]),\n",
       "                                                                               [&#x27;previous_cancellations&#x27;,\n",
       "                                                                                &#x27;booking_changes&#x27;,\n",
       "                                                                                &#x27;days_in_waiting_list&#x27;,\n",
       "                                                                                &#x27;required_car_parking_spaces&#x27;,\n",
       "                                                                                &#x27;total_of_special_requests&#x27;])...\n",
       "                                                                     22, 24, 26,\n",
       "                                                                     28, 30, 32,\n",
       "                                                                     34, 36, 38,\n",
       "                                                                     40, 42, 44,\n",
       "                                                                     46, 48, 50,\n",
       "                                                                     52, 54, 56,\n",
       "                                                                     58, 60, 62,\n",
       "                                                                     64, 66, 68, ...],\n",
       "                                        &#x27;model__n_estimators&#x27;: [1, 3, 5, 7, 9,\n",
       "                                                                11, 13, 15, 17,\n",
       "                                                                19, 21, 23, 25,\n",
       "                                                                27, 29, 31, 33,\n",
       "                                                                35, 37, 39, 41,\n",
       "                                                                43, 45, 47, 49,\n",
       "                                                                51, 53, 55, 57,\n",
       "                                                                59, ...],\n",
       "                                        &#x27;model__random_state&#x27;: [0],\n",
       "                                        &#x27;resampler&#x27;: [SMOTE(random_state=0),\n",
       "                                                      RandomUnderSampler(random_state=0),\n",
       "                                                      RandomOverSampler(random_state=0)]},\n",
       "                   random_state=0, scoring=&#x27;recall&#x27;)</pre></div></div></div><div class=\"sk-parallel\"><div class=\"sk-parallel-item\"><div class=\"sk-item\"><div class=\"sk-label-container\"><div class=\"sk-label sk-toggleable\"><input class=\"sk-toggleable__control sk-hidden--visually\" id=\"sk-estimator-id-110\" type=\"checkbox\" ><label for=\"sk-estimator-id-110\" class=\"sk-toggleable__label sk-toggleable__label-arrow\">estimator: Pipeline</label><div class=\"sk-toggleable__content\"><pre>Pipeline(steps=[(&#x27;tansformer&#x27;,\n",
       "                 ColumnTransformer(remainder=&#x27;passthrough&#x27;,\n",
       "                                   transformers=[(&#x27;pipe_poly_scaling&#x27;,\n",
       "                                                  Pipeline(steps=[(&#x27;poly&#x27;,\n",
       "                                                                   PolynomialFeatures(degree=1)),\n",
       "                                                                  (&#x27;scaling&#x27;,\n",
       "                                                                   RobustScaler())]),\n",
       "                                                  [&#x27;previous_cancellations&#x27;,\n",
       "                                                   &#x27;booking_changes&#x27;,\n",
       "                                                   &#x27;days_in_waiting_list&#x27;,\n",
       "                                                   &#x27;required_car_parking_spaces&#x27;,\n",
       "                                                   &#x27;total_of_special_requests&#x27;]),\n",
       "                                                 (&#x27;onehot&#x27;,\n",
       "                                                  OneHotEncoder(drop=&#x27;first&#x27;),\n",
       "                                                  [&#x27;market_segment&#x27;,\n",
       "                                                   &#x27;deposit_type&#x27;,\n",
       "                                                   &#x27;customer_type&#x27;,\n",
       "                                                   &#x27;reserved_room_type&#x27;]),\n",
       "                                                 (&#x27;binary&#x27;, BinaryEncoder(),\n",
       "                                                  [&#x27;country&#x27;])])),\n",
       "                (&#x27;resampler&#x27;, RandomUnderSampler(random_state=0)),\n",
       "                (&#x27;model&#x27;,\n",
       "                 RandomForestClassifier(class_weight=&#x27;balanced&#x27;,\n",
       "                                        random_state=0))])</pre></div></div></div><div class=\"sk-serial\"><div class=\"sk-item\"><div class=\"sk-serial\"><div class=\"sk-item sk-dashed-wrapped\"><div class=\"sk-label-container\"><div class=\"sk-label sk-toggleable\"><input class=\"sk-toggleable__control sk-hidden--visually\" id=\"sk-estimator-id-111\" type=\"checkbox\" ><label for=\"sk-estimator-id-111\" class=\"sk-toggleable__label sk-toggleable__label-arrow\">tansformer: ColumnTransformer</label><div class=\"sk-toggleable__content\"><pre>ColumnTransformer(remainder=&#x27;passthrough&#x27;,\n",
       "                  transformers=[(&#x27;pipe_poly_scaling&#x27;,\n",
       "                                 Pipeline(steps=[(&#x27;poly&#x27;,\n",
       "                                                  PolynomialFeatures(degree=1)),\n",
       "                                                 (&#x27;scaling&#x27;, RobustScaler())]),\n",
       "                                 [&#x27;previous_cancellations&#x27;, &#x27;booking_changes&#x27;,\n",
       "                                  &#x27;days_in_waiting_list&#x27;,\n",
       "                                  &#x27;required_car_parking_spaces&#x27;,\n",
       "                                  &#x27;total_of_special_requests&#x27;]),\n",
       "                                (&#x27;onehot&#x27;, OneHotEncoder(drop=&#x27;first&#x27;),\n",
       "                                 [&#x27;market_segment&#x27;, &#x27;deposit_type&#x27;,\n",
       "                                  &#x27;customer_type&#x27;, &#x27;reserved_room_type&#x27;]),\n",
       "                                (&#x27;binary&#x27;, BinaryEncoder(), [&#x27;country&#x27;])])</pre></div></div></div><div class=\"sk-parallel\"><div class=\"sk-parallel-item\"><div class=\"sk-item\"><div class=\"sk-label-container\"><div class=\"sk-label sk-toggleable\"><input class=\"sk-toggleable__control sk-hidden--visually\" id=\"sk-estimator-id-112\" type=\"checkbox\" ><label for=\"sk-estimator-id-112\" class=\"sk-toggleable__label sk-toggleable__label-arrow\">pipe_poly_scaling</label><div class=\"sk-toggleable__content\"><pre>[&#x27;previous_cancellations&#x27;, &#x27;booking_changes&#x27;, &#x27;days_in_waiting_list&#x27;, &#x27;required_car_parking_spaces&#x27;, &#x27;total_of_special_requests&#x27;]</pre></div></div></div><div class=\"sk-serial\"><div class=\"sk-item\"><div class=\"sk-serial\"><div class=\"sk-item\"><div class=\"sk-estimator sk-toggleable\"><input class=\"sk-toggleable__control sk-hidden--visually\" id=\"sk-estimator-id-113\" type=\"checkbox\" ><label for=\"sk-estimator-id-113\" class=\"sk-toggleable__label sk-toggleable__label-arrow\">PolynomialFeatures</label><div class=\"sk-toggleable__content\"><pre>PolynomialFeatures(degree=1)</pre></div></div></div><div class=\"sk-item\"><div class=\"sk-estimator sk-toggleable\"><input class=\"sk-toggleable__control sk-hidden--visually\" id=\"sk-estimator-id-114\" type=\"checkbox\" ><label for=\"sk-estimator-id-114\" class=\"sk-toggleable__label sk-toggleable__label-arrow\">RobustScaler</label><div class=\"sk-toggleable__content\"><pre>RobustScaler()</pre></div></div></div></div></div></div></div></div><div class=\"sk-parallel-item\"><div class=\"sk-item\"><div class=\"sk-label-container\"><div class=\"sk-label sk-toggleable\"><input class=\"sk-toggleable__control sk-hidden--visually\" id=\"sk-estimator-id-115\" type=\"checkbox\" ><label for=\"sk-estimator-id-115\" class=\"sk-toggleable__label sk-toggleable__label-arrow\">onehot</label><div class=\"sk-toggleable__content\"><pre>[&#x27;market_segment&#x27;, &#x27;deposit_type&#x27;, &#x27;customer_type&#x27;, &#x27;reserved_room_type&#x27;]</pre></div></div></div><div class=\"sk-serial\"><div class=\"sk-item\"><div class=\"sk-estimator sk-toggleable\"><input class=\"sk-toggleable__control sk-hidden--visually\" id=\"sk-estimator-id-116\" type=\"checkbox\" ><label for=\"sk-estimator-id-116\" class=\"sk-toggleable__label sk-toggleable__label-arrow\">OneHotEncoder</label><div class=\"sk-toggleable__content\"><pre>OneHotEncoder(drop=&#x27;first&#x27;)</pre></div></div></div></div></div></div><div class=\"sk-parallel-item\"><div class=\"sk-item\"><div class=\"sk-label-container\"><div class=\"sk-label sk-toggleable\"><input class=\"sk-toggleable__control sk-hidden--visually\" id=\"sk-estimator-id-117\" type=\"checkbox\" ><label for=\"sk-estimator-id-117\" class=\"sk-toggleable__label sk-toggleable__label-arrow\">binary</label><div class=\"sk-toggleable__content\"><pre>[&#x27;country&#x27;]</pre></div></div></div><div class=\"sk-serial\"><div class=\"sk-item\"><div class=\"sk-estimator sk-toggleable\"><input class=\"sk-toggleable__control sk-hidden--visually\" id=\"sk-estimator-id-118\" type=\"checkbox\" ><label for=\"sk-estimator-id-118\" class=\"sk-toggleable__label sk-toggleable__label-arrow\">BinaryEncoder</label><div class=\"sk-toggleable__content\"><pre>BinaryEncoder()</pre></div></div></div></div></div></div><div class=\"sk-parallel-item\"><div class=\"sk-item\"><div class=\"sk-label-container\"><div class=\"sk-label sk-toggleable\"><input class=\"sk-toggleable__control sk-hidden--visually\" id=\"sk-estimator-id-119\" type=\"checkbox\" ><label for=\"sk-estimator-id-119\" class=\"sk-toggleable__label sk-toggleable__label-arrow\">remainder</label><div class=\"sk-toggleable__content\"><pre>[]</pre></div></div></div><div class=\"sk-serial\"><div class=\"sk-item\"><div class=\"sk-estimator sk-toggleable\"><input class=\"sk-toggleable__control sk-hidden--visually\" id=\"sk-estimator-id-120\" type=\"checkbox\" ><label for=\"sk-estimator-id-120\" class=\"sk-toggleable__label sk-toggleable__label-arrow\">passthrough</label><div class=\"sk-toggleable__content\"><pre>passthrough</pre></div></div></div></div></div></div></div></div><div class=\"sk-item\"><div class=\"sk-estimator sk-toggleable\"><input class=\"sk-toggleable__control sk-hidden--visually\" id=\"sk-estimator-id-121\" type=\"checkbox\" ><label for=\"sk-estimator-id-121\" class=\"sk-toggleable__label sk-toggleable__label-arrow\">RandomUnderSampler</label><div class=\"sk-toggleable__content\"><pre>RandomUnderSampler(random_state=0)</pre></div></div></div><div class=\"sk-item\"><div class=\"sk-estimator sk-toggleable\"><input class=\"sk-toggleable__control sk-hidden--visually\" id=\"sk-estimator-id-122\" type=\"checkbox\" ><label for=\"sk-estimator-id-122\" class=\"sk-toggleable__label sk-toggleable__label-arrow\">RandomForestClassifier</label><div class=\"sk-toggleable__content\"><pre>RandomForestClassifier(class_weight=&#x27;balanced&#x27;, random_state=0)</pre></div></div></div></div></div></div></div></div></div></div></div></div>"
      ],
      "text/plain": [
       "RandomizedSearchCV(cv=5,\n",
       "                   estimator=Pipeline(steps=[('tansformer',\n",
       "                                              ColumnTransformer(remainder='passthrough',\n",
       "                                                                transformers=[('pipe_poly_scaling',\n",
       "                                                                               Pipeline(steps=[('poly',\n",
       "                                                                                                PolynomialFeatures(degree=1)),\n",
       "                                                                                               ('scaling',\n",
       "                                                                                                RobustScaler())]),\n",
       "                                                                               ['previous_cancellations',\n",
       "                                                                                'booking_changes',\n",
       "                                                                                'days_in_waiting_list',\n",
       "                                                                                'required_car_parking_spaces',\n",
       "                                                                                'total_of_special_requests'])...\n",
       "                                                                     22, 24, 26,\n",
       "                                                                     28, 30, 32,\n",
       "                                                                     34, 36, 38,\n",
       "                                                                     40, 42, 44,\n",
       "                                                                     46, 48, 50,\n",
       "                                                                     52, 54, 56,\n",
       "                                                                     58, 60, 62,\n",
       "                                                                     64, 66, 68, ...],\n",
       "                                        'model__n_estimators': [1, 3, 5, 7, 9,\n",
       "                                                                11, 13, 15, 17,\n",
       "                                                                19, 21, 23, 25,\n",
       "                                                                27, 29, 31, 33,\n",
       "                                                                35, 37, 39, 41,\n",
       "                                                                43, 45, 47, 49,\n",
       "                                                                51, 53, 55, 57,\n",
       "                                                                59, ...],\n",
       "                                        'model__random_state': [0],\n",
       "                                        'resampler': [SMOTE(random_state=0),\n",
       "                                                      RandomUnderSampler(random_state=0),\n",
       "                                                      RandomOverSampler(random_state=0)]},\n",
       "                   random_state=0, scoring='recall')"
      ]
     },
     "execution_count": 89,
     "metadata": {},
     "output_type": "execute_result"
    }
   ],
   "source": [
    "# fitting the randomsearch for DecisionTreeClassifier best params setelah tuning 2 kali ke X_train, y_trainc\n",
    "random_rf_2.fit(X_train, y_train)"
   ]
  },
  {
   "cell_type": "code",
   "execution_count": 90,
   "metadata": {},
   "outputs": [
    {
     "name": "stdout",
     "output_type": "stream",
     "text": [
      "DecisionTreeClassifier\n",
      "Best_score: 0.8042319685617322\n",
      "Best_params: {'resampler': RandomUnderSampler(random_state=0), 'model__random_state': 0, 'model__n_estimators': 33, 'model__min_samples_split': 18, 'model__min_samples_leaf': 1, 'model__max_features': 3, 'model__max_depth': 89, 'model__criterion': 'entropy'}\n"
     ]
    }
   ],
   "source": [
    "print('DecisionTreeClassifier')\n",
    "print('Best_score:', random_rf_2.best_score_)\n",
    "print('Best_params:', random_rf_2.best_params_)"
   ]
  },
  {
   "attachments": {},
   "cell_type": "markdown",
   "metadata": {},
   "source": [
    "## Predict to Test Set\n"
   ]
  },
  {
   "attachments": {},
   "cell_type": "markdown",
   "metadata": {},
   "source": [
    "Prediksi ke subset pengujian adalah tahap akhir dari proses pembuatan model machine learning. Setelah proses pelatihan model selesai, model akan digunakan untuk memprediksi nilai target pada subset pengujian. Hal ini dilakukan untuk mengevaluasi kinerja model pada data yang belum pernah dilihat sebelumnya.\n",
    "\n",
    "Proses prediksi ke subset pengujian dilakukan dengan menggunakan model yang telah dilatih pada subset pelatihan. Data subset pengujian kemudian disajikan ke dalam model untuk melakukan prediksi. Hasil prediksi kemudian dibandingkan dengan nilai target yang sebenarnya untuk mengukur kinerja model.\n",
    "\n",
    "Beberapa metrik evaluasi yang umum digunakan untuk mengukur kinerja model machine learning pada subset pengujian adalah akurasi, presisi, recall, F1 score, dan area under the ROC curve. Hasil evaluasi ini akan memberikan informasi tentang seberapa baik model dapat memprediksi nilai target pada data yang belum pernah dilihat sebelumnya.\n",
    "\n",
    "Setelah model dinilai, dapat dilakukan penyesuaian hyperparameter atau preprocessing data yang lebih baik jika kinerja model masih belum memuaskan pada subset pengujian. Setelah model telah dioptimalkan, maka dapat digunakan untuk memprediksi nilai target pada data yang belum dilihat sebelumnya di dunia nyata."
   ]
  },
  {
   "cell_type": "markdown",
   "metadata": {},
   "source": [
    "Setelah di hyperparameter tuning, didapatkan bahwa DecisionTree mneghasilkan nilai terbaik, sehingga algortithm DecisionTree lah yang akan dipilih untuk dilakukan pengujian ke test set."
   ]
  },
  {
   "attachments": {},
   "cell_type": "markdown",
   "metadata": {},
   "source": [
    "`Before Hyperparameter Tuning`"
   ]
  },
  {
   "cell_type": "code",
   "execution_count": 112,
   "metadata": {},
   "outputs": [
    {
     "data": {
      "text/plain": [
       "[0.7935347628330085]"
      ]
     },
     "execution_count": 112,
     "metadata": {},
     "output_type": "execute_result"
    }
   ],
   "source": [
    "model = Pipeline([\n",
    "    ('transformer', transformer),\n",
    "    ('resampler', rus),\n",
    "    ('model', tree)\n",
    "])\n",
    "\n",
    "# fitting\n",
    "model.fit(X_train, y_train)\n",
    "\n",
    "# predict\n",
    "y_pred_before = model.predict(X_test)\n",
    "\n",
    "# recall score\n",
    "score_before = recall_score(y_test, y_pred_before)\n",
    "score_before\n"
   ]
  },
  {
   "cell_type": "code",
   "execution_count": 291,
   "metadata": {},
   "outputs": [],
   "source": [
    "y_pred_before_all = model.predict(X)"
   ]
  },
  {
   "attachments": {},
   "cell_type": "markdown",
   "metadata": {},
   "source": [
    "`After Hyperparameter Tuning`"
   ]
  },
  {
   "cell_type": "code",
   "execution_count": 94,
   "metadata": {},
   "outputs": [
    {
     "data": {
      "text/plain": [
       "0.9283625730994152"
      ]
     },
     "execution_count": 94,
     "metadata": {},
     "output_type": "execute_result"
    }
   ],
   "source": [
    "# best model\n",
    "dtc_tuning = random_dtc.best_estimator_\n",
    "\n",
    "# fitting\n",
    "dtc_tuning.fit(X_train, y_train)\n",
    "\n",
    "# predict\n",
    "y_pred_dtc_tuning = dtc_tuning.predict(X_test)\n",
    "\n",
    "# recall score\n",
    "recall_dtc_tuning = recall_score(y_test, y_pred_dtc_tuning)\n",
    "recall_dtc_tuning"
   ]
  },
  {
   "attachments": {},
   "cell_type": "markdown",
   "metadata": {},
   "source": [
    "`After Hyperparameter Tuning 2`"
   ]
  },
  {
   "cell_type": "code",
   "execution_count": 95,
   "metadata": {},
   "outputs": [
    {
     "data": {
      "text/plain": [
       "0.9673489278752436"
      ]
     },
     "execution_count": 95,
     "metadata": {},
     "output_type": "execute_result"
    }
   ],
   "source": [
    "# best model\n",
    "dtc_tuning2 = random_dtc_2.best_estimator_\n",
    "\n",
    "# fitting\n",
    "dtc_tuning2.fit(X_train, y_train)\n",
    "\n",
    "# predict\n",
    "y_pred_dtc_tuning2 = dtc_tuning2.predict(X_test)\n",
    "\n",
    "# recall score\n",
    "recall_dtc_tuning2 = recall_score(y_test, y_pred_dtc_tuning2)\n",
    "recall_dtc_tuning2"
   ]
  },
  {
   "cell_type": "code",
   "execution_count": 296,
   "metadata": {},
   "outputs": [
    {
     "data": {
      "text/plain": [
       "array([1, 1, 1, ..., 1, 0, 1], dtype=int64)"
      ]
     },
     "execution_count": 296,
     "metadata": {},
     "output_type": "execute_result"
    }
   ],
   "source": [
    "y_pred_dtc_all = dtc_tuning.predict(X)\n",
    "y_pred_dtc_all"
   ]
  },
  {
   "attachments": {},
   "cell_type": "markdown",
   "metadata": {},
   "source": [
    "### Comparison (Test Set)"
   ]
  },
  {
   "cell_type": "code",
   "execution_count": 113,
   "metadata": {},
   "outputs": [
    {
     "data": {
      "text/html": [
       "<div>\n",
       "<style scoped>\n",
       "    .dataframe tbody tr th:only-of-type {\n",
       "        vertical-align: middle;\n",
       "    }\n",
       "\n",
       "    .dataframe tbody tr th {\n",
       "        vertical-align: top;\n",
       "    }\n",
       "\n",
       "    .dataframe thead th {\n",
       "        text-align: right;\n",
       "    }\n",
       "</style>\n",
       "<table border=\"1\" class=\"dataframe\">\n",
       "  <thead>\n",
       "    <tr style=\"text-align: right;\">\n",
       "      <th></th>\n",
       "      <th>Model</th>\n",
       "      <th>Before tuning</th>\n",
       "      <th>Recall score tuning 1</th>\n",
       "      <th>Recall score tuning 2</th>\n",
       "    </tr>\n",
       "  </thead>\n",
       "  <tbody>\n",
       "    <tr>\n",
       "      <th>0</th>\n",
       "      <td>DecisionTreeClassifier</td>\n",
       "      <td>0.793535</td>\n",
       "      <td>0.928363</td>\n",
       "      <td>0.967349</td>\n",
       "    </tr>\n",
       "  </tbody>\n",
       "</table>\n",
       "</div>"
      ],
      "text/plain": [
       "                    Model  Before tuning  Recall score tuning 1  \\\n",
       "0  DecisionTreeClassifier       0.793535               0.928363   \n",
       "\n",
       "   Recall score tuning 2  \n",
       "0               0.967349  "
      ]
     },
     "execution_count": 113,
     "metadata": {},
     "output_type": "execute_result"
    }
   ],
   "source": [
    "score_beforeafter_tuning = pd.DataFrame({\n",
    "    'Model': 'DecisionTreeClassifier',\n",
    "    'Before tuning': score_before,\n",
    "    'Recall score tuning 1': recall_dtc_tuning,\n",
    "    'Recall score tuning 2': recall_dtc_tuning2\n",
    "})\n",
    "\n",
    "score_beforeafter_tuning"
   ]
  },
  {
   "attachments": {},
   "cell_type": "markdown",
   "metadata": {},
   "source": [
    "## Confusion Matrix"
   ]
  },
  {
   "attachments": {},
   "cell_type": "markdown",
   "metadata": {},
   "source": [
    "Confusion matrix adalah sebuah tabel yang digunakan untuk mengevaluasi performa model pada data pengujian dengan membandingkan prediksi model dengan nilai target yang sebenarnya. \n",
    "Matriks ini terdiri dari empat nilai yaitu true positive (TP), true negative (TN), false positive (FP), dan false negative (FN)."
   ]
  },
  {
   "cell_type": "code",
   "execution_count": 300,
   "metadata": {},
   "outputs": [
    {
     "data": {
      "image/png": "[encoded data removed]",
      "text/plain": [
       "<Figure size 2000x1100 with 6 Axes>"
      ]
     },
     "metadata": {},
     "output_type": "display_data"
    }
   ],
   "source": [
    "plt.figure(figsize=(20,11))\n",
    "plt.subplot(2,2,1)\n",
    "sns.heatmap(confusion_matrix(y_test,y_pred_before),annot=True,fmt='.0f')\n",
    "plt.title('Cofusion Matrix Before Tuning')\n",
    "plt.xlabel('y Prediksi')\n",
    "plt.ylabel('y Aktual')\n",
    "\n",
    "plt.subplot(2,2,2)\n",
    "sns.heatmap(confusion_matrix(y_test,y_pred_dtc_tuning),annot=True,fmt='.0f')\n",
    "plt.title('Cofusion Matrix After Tuning')\n",
    "plt.xlabel('y Prediksi')\n",
    "plt.ylabel('y Aktual');\n",
    "\n",
    "plt.subplot(2,2,3)\n",
    "sns.heatmap(confusion_matrix(y,y_pred_dtc_all),annot=True,fmt='.0f')\n",
    "plt.title('Cofusion Matrix After Tuning all dataset')\n",
    "plt.xlabel('y Prediksi')\n",
    "plt.ylabel('y Aktual');"
   ]
  },
  {
   "attachments": {},
   "cell_type": "markdown",
   "metadata": {},
   "source": [
    "# Summary"
   ]
  },
  {
   "attachments": {},
   "cell_type": "markdown",
   "metadata": {},
   "source": [
    "Model yang paling baik yaitu DecisionTreeClassifier\n",
    "- Random Forest before hyperparameter tuning Recall score:0.811218\n",
    "- Random Forest After Hyperparameter tuning Recall score: 0.81028\n",
    "- Random Forest After second Hyperparameter tuning Recall score: 0.80423\n",
    "- DecisionTree before hyperparameter tuning recall score: 0.803095\n",
    "- DecisionTree after hyperparameter tuning Recall score: 0.92836\n",
    "- DecisionTree after second hyperparameter tuning Recall score: 0.96734"
   ]
  },
  {
   "attachments": {},
   "cell_type": "markdown",
   "metadata": {},
   "source": [
    "Karena hasil score DecisionTree setelah dituning sangat baik, jadi kita akan menggunkaan DecisionTree dengan parameter sebagai berikut:\n",
    "- Best_score: 0.9679545497655738\n",
    "- Best_params:\n",
    "    - 'resampler': RandomUnderSampler(random_state=0)\n",
    "    - 'model__random_state': 0\n",
    "    - 'model__min_samples_split': 76\n",
    "    - 'model__min_samples_leaf': 73\n",
    "    - 'model__max_features': 1\n",
    "    - 'model__max_depth': 3\n",
    "    - 'model__criterion': 'gini'"
   ]
  },
  {
   "attachments": {},
   "cell_type": "markdown",
   "metadata": {},
   "source": [
    "## Explainable Machine Learning"
   ]
  },
  {
   "cell_type": "markdown",
   "metadata": {},
   "source": [
    "### Feature Importance"
   ]
  },
  {
   "cell_type": "code",
   "execution_count": 118,
   "metadata": {},
   "outputs": [
    {
     "data": {
      "text/html": [
       "<style>#sk-container-id-10 {color: black;background-color: white;}#sk-container-id-10 pre{padding: 0;}#sk-container-id-10 div.sk-toggleable {background-color: white;}#sk-container-id-10 label.sk-toggleable__label {cursor: pointer;display: block;width: 100%;margin-bottom: 0;padding: 0.3em;box-sizing: border-box;text-align: center;}#sk-container-id-10 label.sk-toggleable__label-arrow:before {content: \"▸\";float: left;margin-right: 0.25em;color: #696969;}#sk-container-id-10 label.sk-toggleable__label-arrow:hover:before {color: black;}#sk-container-id-10 div.sk-estimator:hover label.sk-toggleable__label-arrow:before {color: black;}#sk-container-id-10 div.sk-toggleable__content {max-height: 0;max-width: 0;overflow: hidden;text-align: left;background-color: #f0f8ff;}#sk-container-id-10 div.sk-toggleable__content pre {margin: 0.2em;color: black;border-radius: 0.25em;background-color: #f0f8ff;}#sk-container-id-10 input.sk-toggleable__control:checked~div.sk-toggleable__content {max-height: 200px;max-width: 100%;overflow: auto;}#sk-container-id-10 input.sk-toggleable__control:checked~label.sk-toggleable__label-arrow:before {content: \"▾\";}#sk-container-id-10 div.sk-estimator input.sk-toggleable__control:checked~label.sk-toggleable__label {background-color: #d4ebff;}#sk-container-id-10 div.sk-label input.sk-toggleable__control:checked~label.sk-toggleable__label {background-color: #d4ebff;}#sk-container-id-10 input.sk-hidden--visually {border: 0;clip: rect(1px 1px 1px 1px);clip: rect(1px, 1px, 1px, 1px);height: 1px;margin: -1px;overflow: hidden;padding: 0;position: absolute;width: 1px;}#sk-container-id-10 div.sk-estimator {font-family: monospace;background-color: #f0f8ff;border: 1px dotted black;border-radius: 0.25em;box-sizing: border-box;margin-bottom: 0.5em;}#sk-container-id-10 div.sk-estimator:hover {background-color: #d4ebff;}#sk-container-id-10 div.sk-parallel-item::after {content: \"\";width: 100%;border-bottom: 1px solid gray;flex-grow: 1;}#sk-container-id-10 div.sk-label:hover label.sk-toggleable__label {background-color: #d4ebff;}#sk-container-id-10 div.sk-serial::before {content: \"\";position: absolute;border-left: 1px solid gray;box-sizing: border-box;top: 0;bottom: 0;left: 50%;z-index: 0;}#sk-container-id-10 div.sk-serial {display: flex;flex-direction: column;align-items: center;background-color: white;padding-right: 0.2em;padding-left: 0.2em;position: relative;}#sk-container-id-10 div.sk-item {position: relative;z-index: 1;}#sk-container-id-10 div.sk-parallel {display: flex;align-items: stretch;justify-content: center;background-color: white;position: relative;}#sk-container-id-10 div.sk-item::before, #sk-container-id-10 div.sk-parallel-item::before {content: \"\";position: absolute;border-left: 1px solid gray;box-sizing: border-box;top: 0;bottom: 0;left: 50%;z-index: -1;}#sk-container-id-10 div.sk-parallel-item {display: flex;flex-direction: column;z-index: 1;position: relative;background-color: white;}#sk-container-id-10 div.sk-parallel-item:first-child::after {align-self: flex-end;width: 50%;}#sk-container-id-10 div.sk-parallel-item:last-child::after {align-self: flex-start;width: 50%;}#sk-container-id-10 div.sk-parallel-item:only-child::after {width: 0;}#sk-container-id-10 div.sk-dashed-wrapped {border: 1px dashed gray;margin: 0 0.4em 0.5em 0.4em;box-sizing: border-box;padding-bottom: 0.4em;background-color: white;}#sk-container-id-10 div.sk-label label {font-family: monospace;font-weight: bold;display: inline-block;line-height: 1.2em;}#sk-container-id-10 div.sk-label-container {text-align: center;}#sk-container-id-10 div.sk-container {/* jupyter's `normalize.less` sets `[hidden] { display: none; }` but bootstrap.min.css set `[hidden] { display: none !important; }` so we also need the `!important` here to be able to override the default hidden behavior on the sphinx rendered scikit-learn.org. See: https://github.com/scikit-learn/scikit-learn/issues/21755 */display: inline-block !important;position: relative;}#sk-container-id-10 div.sk-text-repr-fallback {display: none;}</style><div id=\"sk-container-id-10\" class=\"sk-top-container\"><div class=\"sk-text-repr-fallback\"><pre>Pipeline(steps=[(&#x27;tansformer&#x27;,\n",
       "                 ColumnTransformer(remainder=&#x27;passthrough&#x27;,\n",
       "                                   transformers=[(&#x27;pipe_poly_scaling&#x27;,\n",
       "                                                  Pipeline(steps=[(&#x27;poly&#x27;,\n",
       "                                                                   PolynomialFeatures(degree=1)),\n",
       "                                                                  (&#x27;scaling&#x27;,\n",
       "                                                                   RobustScaler())]),\n",
       "                                                  [&#x27;previous_cancellations&#x27;,\n",
       "                                                   &#x27;booking_changes&#x27;,\n",
       "                                                   &#x27;days_in_waiting_list&#x27;,\n",
       "                                                   &#x27;required_car_parking_spaces&#x27;,\n",
       "                                                   &#x27;total_of_special_requests&#x27;]),\n",
       "                                                 (&#x27;onehot&#x27;,\n",
       "                                                  OneHotEncoder(drop=&#x27;first&#x27;),\n",
       "                                                  [&#x27;market_segment&#x27;,\n",
       "                                                   &#x27;deposit_type&#x27;,\n",
       "                                                   &#x27;customer_type&#x27;,\n",
       "                                                   &#x27;reserved_room_type&#x27;]),\n",
       "                                                 (&#x27;binary&#x27;, BinaryEncoder(),\n",
       "                                                  [&#x27;country&#x27;])])),\n",
       "                (&#x27;resampler&#x27;, SMOTE(random_state=0)),\n",
       "                (&#x27;model&#x27;,\n",
       "                 DecisionTreeClassifier(max_depth=6, max_features=9,\n",
       "                                        min_samples_leaf=80,\n",
       "                                        min_samples_split=32,\n",
       "                                        random_state=0))])</pre><b>In a Jupyter environment, please rerun this cell to show the HTML representation or trust the notebook. <br />On GitHub, the HTML representation is unable to render, please try loading this page with nbviewer.org.</b></div><div class=\"sk-container\" hidden><div class=\"sk-item sk-dashed-wrapped\"><div class=\"sk-label-container\"><div class=\"sk-label sk-toggleable\"><input class=\"sk-toggleable__control sk-hidden--visually\" id=\"sk-estimator-id-123\" type=\"checkbox\" ><label for=\"sk-estimator-id-123\" class=\"sk-toggleable__label sk-toggleable__label-arrow\">Pipeline</label><div class=\"sk-toggleable__content\"><pre>Pipeline(steps=[(&#x27;tansformer&#x27;,\n",
       "                 ColumnTransformer(remainder=&#x27;passthrough&#x27;,\n",
       "                                   transformers=[(&#x27;pipe_poly_scaling&#x27;,\n",
       "                                                  Pipeline(steps=[(&#x27;poly&#x27;,\n",
       "                                                                   PolynomialFeatures(degree=1)),\n",
       "                                                                  (&#x27;scaling&#x27;,\n",
       "                                                                   RobustScaler())]),\n",
       "                                                  [&#x27;previous_cancellations&#x27;,\n",
       "                                                   &#x27;booking_changes&#x27;,\n",
       "                                                   &#x27;days_in_waiting_list&#x27;,\n",
       "                                                   &#x27;required_car_parking_spaces&#x27;,\n",
       "                                                   &#x27;total_of_special_requests&#x27;]),\n",
       "                                                 (&#x27;onehot&#x27;,\n",
       "                                                  OneHotEncoder(drop=&#x27;first&#x27;),\n",
       "                                                  [&#x27;market_segment&#x27;,\n",
       "                                                   &#x27;deposit_type&#x27;,\n",
       "                                                   &#x27;customer_type&#x27;,\n",
       "                                                   &#x27;reserved_room_type&#x27;]),\n",
       "                                                 (&#x27;binary&#x27;, BinaryEncoder(),\n",
       "                                                  [&#x27;country&#x27;])])),\n",
       "                (&#x27;resampler&#x27;, SMOTE(random_state=0)),\n",
       "                (&#x27;model&#x27;,\n",
       "                 DecisionTreeClassifier(max_depth=6, max_features=9,\n",
       "                                        min_samples_leaf=80,\n",
       "                                        min_samples_split=32,\n",
       "                                        random_state=0))])</pre></div></div></div><div class=\"sk-serial\"><div class=\"sk-item sk-dashed-wrapped\"><div class=\"sk-label-container\"><div class=\"sk-label sk-toggleable\"><input class=\"sk-toggleable__control sk-hidden--visually\" id=\"sk-estimator-id-124\" type=\"checkbox\" ><label for=\"sk-estimator-id-124\" class=\"sk-toggleable__label sk-toggleable__label-arrow\">tansformer: ColumnTransformer</label><div class=\"sk-toggleable__content\"><pre>ColumnTransformer(remainder=&#x27;passthrough&#x27;,\n",
       "                  transformers=[(&#x27;pipe_poly_scaling&#x27;,\n",
       "                                 Pipeline(steps=[(&#x27;poly&#x27;,\n",
       "                                                  PolynomialFeatures(degree=1)),\n",
       "                                                 (&#x27;scaling&#x27;, RobustScaler())]),\n",
       "                                 [&#x27;previous_cancellations&#x27;, &#x27;booking_changes&#x27;,\n",
       "                                  &#x27;days_in_waiting_list&#x27;,\n",
       "                                  &#x27;required_car_parking_spaces&#x27;,\n",
       "                                  &#x27;total_of_special_requests&#x27;]),\n",
       "                                (&#x27;onehot&#x27;, OneHotEncoder(drop=&#x27;first&#x27;),\n",
       "                                 [&#x27;market_segment&#x27;, &#x27;deposit_type&#x27;,\n",
       "                                  &#x27;customer_type&#x27;, &#x27;reserved_room_type&#x27;]),\n",
       "                                (&#x27;binary&#x27;, BinaryEncoder(), [&#x27;country&#x27;])])</pre></div></div></div><div class=\"sk-parallel\"><div class=\"sk-parallel-item\"><div class=\"sk-item\"><div class=\"sk-label-container\"><div class=\"sk-label sk-toggleable\"><input class=\"sk-toggleable__control sk-hidden--visually\" id=\"sk-estimator-id-125\" type=\"checkbox\" ><label for=\"sk-estimator-id-125\" class=\"sk-toggleable__label sk-toggleable__label-arrow\">pipe_poly_scaling</label><div class=\"sk-toggleable__content\"><pre>[&#x27;previous_cancellations&#x27;, &#x27;booking_changes&#x27;, &#x27;days_in_waiting_list&#x27;, &#x27;required_car_parking_spaces&#x27;, &#x27;total_of_special_requests&#x27;]</pre></div></div></div><div class=\"sk-serial\"><div class=\"sk-item\"><div class=\"sk-serial\"><div class=\"sk-item\"><div class=\"sk-estimator sk-toggleable\"><input class=\"sk-toggleable__control sk-hidden--visually\" id=\"sk-estimator-id-126\" type=\"checkbox\" ><label for=\"sk-estimator-id-126\" class=\"sk-toggleable__label sk-toggleable__label-arrow\">PolynomialFeatures</label><div class=\"sk-toggleable__content\"><pre>PolynomialFeatures(degree=1)</pre></div></div></div><div class=\"sk-item\"><div class=\"sk-estimator sk-toggleable\"><input class=\"sk-toggleable__control sk-hidden--visually\" id=\"sk-estimator-id-127\" type=\"checkbox\" ><label for=\"sk-estimator-id-127\" class=\"sk-toggleable__label sk-toggleable__label-arrow\">RobustScaler</label><div class=\"sk-toggleable__content\"><pre>RobustScaler()</pre></div></div></div></div></div></div></div></div><div class=\"sk-parallel-item\"><div class=\"sk-item\"><div class=\"sk-label-container\"><div class=\"sk-label sk-toggleable\"><input class=\"sk-toggleable__control sk-hidden--visually\" id=\"sk-estimator-id-128\" type=\"checkbox\" ><label for=\"sk-estimator-id-128\" class=\"sk-toggleable__label sk-toggleable__label-arrow\">onehot</label><div class=\"sk-toggleable__content\"><pre>[&#x27;market_segment&#x27;, &#x27;deposit_type&#x27;, &#x27;customer_type&#x27;, &#x27;reserved_room_type&#x27;]</pre></div></div></div><div class=\"sk-serial\"><div class=\"sk-item\"><div class=\"sk-estimator sk-toggleable\"><input class=\"sk-toggleable__control sk-hidden--visually\" id=\"sk-estimator-id-129\" type=\"checkbox\" ><label for=\"sk-estimator-id-129\" class=\"sk-toggleable__label sk-toggleable__label-arrow\">OneHotEncoder</label><div class=\"sk-toggleable__content\"><pre>OneHotEncoder(drop=&#x27;first&#x27;)</pre></div></div></div></div></div></div><div class=\"sk-parallel-item\"><div class=\"sk-item\"><div class=\"sk-label-container\"><div class=\"sk-label sk-toggleable\"><input class=\"sk-toggleable__control sk-hidden--visually\" id=\"sk-estimator-id-130\" type=\"checkbox\" ><label for=\"sk-estimator-id-130\" class=\"sk-toggleable__label sk-toggleable__label-arrow\">binary</label><div class=\"sk-toggleable__content\"><pre>[&#x27;country&#x27;]</pre></div></div></div><div class=\"sk-serial\"><div class=\"sk-item\"><div class=\"sk-estimator sk-toggleable\"><input class=\"sk-toggleable__control sk-hidden--visually\" id=\"sk-estimator-id-131\" type=\"checkbox\" ><label for=\"sk-estimator-id-131\" class=\"sk-toggleable__label sk-toggleable__label-arrow\">BinaryEncoder</label><div class=\"sk-toggleable__content\"><pre>BinaryEncoder()</pre></div></div></div></div></div></div><div class=\"sk-parallel-item\"><div class=\"sk-item\"><div class=\"sk-label-container\"><div class=\"sk-label sk-toggleable\"><input class=\"sk-toggleable__control sk-hidden--visually\" id=\"sk-estimator-id-132\" type=\"checkbox\" ><label for=\"sk-estimator-id-132\" class=\"sk-toggleable__label sk-toggleable__label-arrow\">remainder</label><div class=\"sk-toggleable__content\"><pre>[]</pre></div></div></div><div class=\"sk-serial\"><div class=\"sk-item\"><div class=\"sk-estimator sk-toggleable\"><input class=\"sk-toggleable__control sk-hidden--visually\" id=\"sk-estimator-id-133\" type=\"checkbox\" ><label for=\"sk-estimator-id-133\" class=\"sk-toggleable__label sk-toggleable__label-arrow\">passthrough</label><div class=\"sk-toggleable__content\"><pre>passthrough</pre></div></div></div></div></div></div></div></div><div class=\"sk-item\"><div class=\"sk-estimator sk-toggleable\"><input class=\"sk-toggleable__control sk-hidden--visually\" id=\"sk-estimator-id-134\" type=\"checkbox\" ><label for=\"sk-estimator-id-134\" class=\"sk-toggleable__label sk-toggleable__label-arrow\">SMOTE</label><div class=\"sk-toggleable__content\"><pre>SMOTE(random_state=0)</pre></div></div></div><div class=\"sk-item\"><div class=\"sk-estimator sk-toggleable\"><input class=\"sk-toggleable__control sk-hidden--visually\" id=\"sk-estimator-id-135\" type=\"checkbox\" ><label for=\"sk-estimator-id-135\" class=\"sk-toggleable__label sk-toggleable__label-arrow\">DecisionTreeClassifier</label><div class=\"sk-toggleable__content\"><pre>DecisionTreeClassifier(max_depth=6, max_features=9, min_samples_leaf=80,\n",
       "                       min_samples_split=32, random_state=0)</pre></div></div></div></div></div></div></div>"
      ],
      "text/plain": [
       "Pipeline(steps=[('tansformer',\n",
       "                 ColumnTransformer(remainder='passthrough',\n",
       "                                   transformers=[('pipe_poly_scaling',\n",
       "                                                  Pipeline(steps=[('poly',\n",
       "                                                                   PolynomialFeatures(degree=1)),\n",
       "                                                                  ('scaling',\n",
       "                                                                   RobustScaler())]),\n",
       "                                                  ['previous_cancellations',\n",
       "                                                   'booking_changes',\n",
       "                                                   'days_in_waiting_list',\n",
       "                                                   'required_car_parking_spaces',\n",
       "                                                   'total_of_special_requests']),\n",
       "                                                 ('onehot',\n",
       "                                                  OneHotEncoder(drop='first'),\n",
       "                                                  ['market_segment',\n",
       "                                                   'deposit_type',\n",
       "                                                   'customer_type',\n",
       "                                                   'reserved_room_type']),\n",
       "                                                 ('binary', BinaryEncoder(),\n",
       "                                                  ['country'])])),\n",
       "                ('resampler', SMOTE(random_state=0)),\n",
       "                ('model',\n",
       "                 DecisionTreeClassifier(max_depth=6, max_features=9,\n",
       "                                        min_samples_leaf=80,\n",
       "                                        min_samples_split=32,\n",
       "                                        random_state=0))])"
      ]
     },
     "execution_count": 118,
     "metadata": {},
     "output_type": "execute_result"
    }
   ],
   "source": [
    "dtc_tuning"
   ]
  },
  {
   "cell_type": "code",
   "execution_count": 122,
   "metadata": {},
   "outputs": [
    {
     "data": {
      "text/plain": [
       "32"
      ]
     },
     "execution_count": 122,
     "metadata": {},
     "output_type": "execute_result"
    }
   ],
   "source": [
    "# melihat nilai dari features importance\n",
    "len(dtc_tuning['model'].feature_importances_)"
   ]
  },
  {
   "cell_type": "code",
   "execution_count": 206,
   "metadata": {},
   "outputs": [
    {
     "data": {
      "text/plain": [
       "6"
      ]
     },
     "execution_count": 206,
     "metadata": {},
     "output_type": "execute_result"
    }
   ],
   "source": [
    "feat_cat = list(transformer.transformers_[0][1][0].get_feature_names_out())\n",
    "len(feat_cat)"
   ]
  },
  {
   "cell_type": "code",
   "execution_count": 235,
   "metadata": {},
   "outputs": [
    {
     "data": {
      "text/plain": [
       "6"
      ]
     },
     "execution_count": 235,
     "metadata": {},
     "output_type": "execute_result"
    }
   ],
   "source": [
    "col_robust = list(transformer.transformers_[0][1][1].get_feature_names_out())\n",
    "len(col_robust)"
   ]
  },
  {
   "cell_type": "code",
   "execution_count": 208,
   "metadata": {},
   "outputs": [
    {
     "data": {
      "text/plain": [
       "19"
      ]
     },
     "execution_count": 208,
     "metadata": {},
     "output_type": "execute_result"
    }
   ],
   "source": [
    "col_onehot = list(transformer.transformers_[1][1].get_feature_names_out())\n",
    "len(col_onehot)"
   ]
  },
  {
   "cell_type": "code",
   "execution_count": 204,
   "metadata": {},
   "outputs": [
    {
     "data": {
      "text/plain": [
       "1"
      ]
     },
     "execution_count": 204,
     "metadata": {},
     "output_type": "execute_result"
    }
   ],
   "source": [
    "col_binary = list(transformer.transformers_[2][2])\n",
    "len(col_binary)"
   ]
  },
  {
   "cell_type": "code",
   "execution_count": 210,
   "metadata": {},
   "outputs": [],
   "source": [
    "feat_all = feat_cat + col_robust + col_onehot + col_binary"
   ]
  },
  {
   "cell_type": "code",
   "execution_count": 251,
   "metadata": {},
   "outputs": [
    {
     "data": {
      "text/html": [
       "<div>\n",
       "<style scoped>\n",
       "    .dataframe tbody tr th:only-of-type {\n",
       "        vertical-align: middle;\n",
       "    }\n",
       "\n",
       "    .dataframe tbody tr th {\n",
       "        vertical-align: top;\n",
       "    }\n",
       "\n",
       "    .dataframe thead th {\n",
       "        text-align: right;\n",
       "    }\n",
       "</style>\n",
       "<table border=\"1\" class=\"dataframe\">\n",
       "  <thead>\n",
       "    <tr style=\"text-align: right;\">\n",
       "      <th></th>\n",
       "      <th>feature importance</th>\n",
       "    </tr>\n",
       "  </thead>\n",
       "  <tbody>\n",
       "    <tr>\n",
       "      <th>market_segment_Complementary</th>\n",
       "      <td>0.215625</td>\n",
       "    </tr>\n",
       "    <tr>\n",
       "      <th>market_segment_Offline TA/TO</th>\n",
       "      <td>0.147157</td>\n",
       "    </tr>\n",
       "    <tr>\n",
       "      <th>x3</th>\n",
       "      <td>0.141356</td>\n",
       "    </tr>\n",
       "    <tr>\n",
       "      <th>required_car_parking_spaces</th>\n",
       "      <td>0.115749</td>\n",
       "    </tr>\n",
       "    <tr>\n",
       "      <th>reserved_room_type_Other</th>\n",
       "      <td>0.102927</td>\n",
       "    </tr>\n",
       "    <tr>\n",
       "      <th>country</th>\n",
       "      <td>0.089774</td>\n",
       "    </tr>\n",
       "    <tr>\n",
       "      <th>x5</th>\n",
       "      <td>0.076164</td>\n",
       "    </tr>\n",
       "    <tr>\n",
       "      <th>x4</th>\n",
       "      <td>0.053641</td>\n",
       "    </tr>\n",
       "    <tr>\n",
       "      <th>previous_cancellations</th>\n",
       "      <td>0.024921</td>\n",
       "    </tr>\n",
       "    <tr>\n",
       "      <th>reserved_room_type_F</th>\n",
       "      <td>0.015651</td>\n",
       "    </tr>\n",
       "    <tr>\n",
       "      <th>booking_changes</th>\n",
       "      <td>0.010105</td>\n",
       "    </tr>\n",
       "    <tr>\n",
       "      <th>market_segment_Groups</th>\n",
       "      <td>0.004301</td>\n",
       "    </tr>\n",
       "    <tr>\n",
       "      <th>market_segment_Direct</th>\n",
       "      <td>0.002623</td>\n",
       "    </tr>\n",
       "    <tr>\n",
       "      <th>deposit_type_Refundable</th>\n",
       "      <td>0.000004</td>\n",
       "    </tr>\n",
       "    <tr>\n",
       "      <th>days_in_waiting_list</th>\n",
       "      <td>0.000001</td>\n",
       "    </tr>\n",
       "  </tbody>\n",
       "</table>\n",
       "</div>"
      ],
      "text/plain": [
       "                              feature importance\n",
       "market_segment_Complementary            0.215625\n",
       "market_segment_Offline TA/TO            0.147157\n",
       "x3                                      0.141356\n",
       "required_car_parking_spaces             0.115749\n",
       "reserved_room_type_Other                0.102927\n",
       "country                                 0.089774\n",
       "x5                                      0.076164\n",
       "x4                                      0.053641\n",
       "previous_cancellations                  0.024921\n",
       "reserved_room_type_F                    0.015651\n",
       "booking_changes                         0.010105\n",
       "market_segment_Groups                   0.004301\n",
       "market_segment_Direct                   0.002623\n",
       "deposit_type_Refundable                 0.000004\n",
       "days_in_waiting_list                    0.000001"
      ]
     },
     "execution_count": 251,
     "metadata": {},
     "output_type": "execute_result"
    }
   ],
   "source": [
    "# data frame feature importance yang telah diurutkan dari nilai importance yang paling tinggi\n",
    "feat_imp = pd.DataFrame({\n",
    "    'feature importance' : dtc_tuning['model'].feature_importances_\n",
    "}, index = feat_all).sort_values('feature importance',ascending=False).head(15)\n",
    "\n",
    "feat_imp"
   ]
  },
  {
   "cell_type": "code",
   "execution_count": 252,
   "metadata": {},
   "outputs": [
    {
     "data": {
      "text/plain": [
       "Text(0.5, 1.0, 'Feature Importance')"
      ]
     },
     "execution_count": 252,
     "metadata": {},
     "output_type": "execute_result"
    },
    {
     "data": {
      "image/png": "[encoded data removed]",
      "text/plain": [
       "<Figure size 640x480 with 1 Axes>"
      ]
     },
     "metadata": {},
     "output_type": "display_data"
    }
   ],
   "source": [
    "# membuat barplot untuk melakukan visualisasi terhadap feature importance\n",
    "feat_imp.plot(kind='barh')\n",
    "plt.title('Feature Importance')"
   ]
  },
  {
   "attachments": {},
   "cell_type": "markdown",
   "metadata": {},
   "source": [
    "3 Features dengan nilai importance tertinggi atau memiliki pengaruh penting terhadap customer dalam melakukan cancel atau tidak berdasarkan feature importance:\n",
    "- market segment complementary\n",
    "- market segment offline TA/TO\n",
    "- required car parking space"
   ]
  },
  {
   "attachments": {},
   "cell_type": "markdown",
   "metadata": {},
   "source": [
    "## Save Model Pickle"
   ]
  },
  {
   "cell_type": "markdown",
   "metadata": {},
   "source": [
    "Pickle adalah sebuah modul pada bahasa pemrograman Python yang digunakan untuk menyimpan model Machine Learning yang sudah dibuat."
   ]
  },
  {
   "cell_type": "code",
   "execution_count": 249,
   "metadata": {},
   "outputs": [],
   "source": [
    "import pickle"
   ]
  },
  {
   "cell_type": "code",
   "execution_count": 256,
   "metadata": {},
   "outputs": [],
   "source": [
    "pickle.dump( dtc_tuning, open('hotel_booking_model.sav', 'wb'))"
   ]
  },
  {
   "attachments": {},
   "cell_type": "markdown",
   "metadata": {},
   "source": [
    "## Prediction to Customer with Final Model"
   ]
  },
  {
   "cell_type": "code",
   "execution_count": 257,
   "metadata": {},
   "outputs": [
    {
     "data": {
      "text/html": [
       "<style>#sk-container-id-33 {color: black;background-color: white;}#sk-container-id-33 pre{padding: 0;}#sk-container-id-33 div.sk-toggleable {background-color: white;}#sk-container-id-33 label.sk-toggleable__label {cursor: pointer;display: block;width: 100%;margin-bottom: 0;padding: 0.3em;box-sizing: border-box;text-align: center;}#sk-container-id-33 label.sk-toggleable__label-arrow:before {content: \"▸\";float: left;margin-right: 0.25em;color: #696969;}#sk-container-id-33 label.sk-toggleable__label-arrow:hover:before {color: black;}#sk-container-id-33 div.sk-estimator:hover label.sk-toggleable__label-arrow:before {color: black;}#sk-container-id-33 div.sk-toggleable__content {max-height: 0;max-width: 0;overflow: hidden;text-align: left;background-color: #f0f8ff;}#sk-container-id-33 div.sk-toggleable__content pre {margin: 0.2em;color: black;border-radius: 0.25em;background-color: #f0f8ff;}#sk-container-id-33 input.sk-toggleable__control:checked~div.sk-toggleable__content {max-height: 200px;max-width: 100%;overflow: auto;}#sk-container-id-33 input.sk-toggleable__control:checked~label.sk-toggleable__label-arrow:before {content: \"▾\";}#sk-container-id-33 div.sk-estimator input.sk-toggleable__control:checked~label.sk-toggleable__label {background-color: #d4ebff;}#sk-container-id-33 div.sk-label input.sk-toggleable__control:checked~label.sk-toggleable__label {background-color: #d4ebff;}#sk-container-id-33 input.sk-hidden--visually {border: 0;clip: rect(1px 1px 1px 1px);clip: rect(1px, 1px, 1px, 1px);height: 1px;margin: -1px;overflow: hidden;padding: 0;position: absolute;width: 1px;}#sk-container-id-33 div.sk-estimator {font-family: monospace;background-color: #f0f8ff;border: 1px dotted black;border-radius: 0.25em;box-sizing: border-box;margin-bottom: 0.5em;}#sk-container-id-33 div.sk-estimator:hover {background-color: #d4ebff;}#sk-container-id-33 div.sk-parallel-item::after {content: \"\";width: 100%;border-bottom: 1px solid gray;flex-grow: 1;}#sk-container-id-33 div.sk-label:hover label.sk-toggleable__label {background-color: #d4ebff;}#sk-container-id-33 div.sk-serial::before {content: \"\";position: absolute;border-left: 1px solid gray;box-sizing: border-box;top: 0;bottom: 0;left: 50%;z-index: 0;}#sk-container-id-33 div.sk-serial {display: flex;flex-direction: column;align-items: center;background-color: white;padding-right: 0.2em;padding-left: 0.2em;position: relative;}#sk-container-id-33 div.sk-item {position: relative;z-index: 1;}#sk-container-id-33 div.sk-parallel {display: flex;align-items: stretch;justify-content: center;background-color: white;position: relative;}#sk-container-id-33 div.sk-item::before, #sk-container-id-33 div.sk-parallel-item::before {content: \"\";position: absolute;border-left: 1px solid gray;box-sizing: border-box;top: 0;bottom: 0;left: 50%;z-index: -1;}#sk-container-id-33 div.sk-parallel-item {display: flex;flex-direction: column;z-index: 1;position: relative;background-color: white;}#sk-container-id-33 div.sk-parallel-item:first-child::after {align-self: flex-end;width: 50%;}#sk-container-id-33 div.sk-parallel-item:last-child::after {align-self: flex-start;width: 50%;}#sk-container-id-33 div.sk-parallel-item:only-child::after {width: 0;}#sk-container-id-33 div.sk-dashed-wrapped {border: 1px dashed gray;margin: 0 0.4em 0.5em 0.4em;box-sizing: border-box;padding-bottom: 0.4em;background-color: white;}#sk-container-id-33 div.sk-label label {font-family: monospace;font-weight: bold;display: inline-block;line-height: 1.2em;}#sk-container-id-33 div.sk-label-container {text-align: center;}#sk-container-id-33 div.sk-container {/* jupyter's `normalize.less` sets `[hidden] { display: none; }` but bootstrap.min.css set `[hidden] { display: none !important; }` so we also need the `!important` here to be able to override the default hidden behavior on the sphinx rendered scikit-learn.org. See: https://github.com/scikit-learn/scikit-learn/issues/21755 */display: inline-block !important;position: relative;}#sk-container-id-33 div.sk-text-repr-fallback {display: none;}</style><div id=\"sk-container-id-33\" class=\"sk-top-container\"><div class=\"sk-text-repr-fallback\"><pre>Pipeline(steps=[(&#x27;tansformer&#x27;,\n",
       "                 ColumnTransformer(remainder=&#x27;passthrough&#x27;,\n",
       "                                   transformers=[(&#x27;pipe_poly_scaling&#x27;,\n",
       "                                                  Pipeline(steps=[(&#x27;poly&#x27;,\n",
       "                                                                   PolynomialFeatures(degree=1)),\n",
       "                                                                  (&#x27;scaling&#x27;,\n",
       "                                                                   RobustScaler())]),\n",
       "                                                  [&#x27;previous_cancellations&#x27;,\n",
       "                                                   &#x27;booking_changes&#x27;,\n",
       "                                                   &#x27;days_in_waiting_list&#x27;,\n",
       "                                                   &#x27;required_car_parking_spaces&#x27;,\n",
       "                                                   &#x27;total_of_special_requests&#x27;]),\n",
       "                                                 (&#x27;onehot&#x27;,\n",
       "                                                  OneHotEncoder(drop=&#x27;first&#x27;),\n",
       "                                                  [&#x27;market_segment&#x27;,\n",
       "                                                   &#x27;deposit_type&#x27;,\n",
       "                                                   &#x27;customer_type&#x27;,\n",
       "                                                   &#x27;reserved_room_type&#x27;]),\n",
       "                                                 (&#x27;binary&#x27;, BinaryEncoder(),\n",
       "                                                  [&#x27;country&#x27;])])),\n",
       "                (&#x27;resampler&#x27;, SMOTE(random_state=0)),\n",
       "                (&#x27;model&#x27;,\n",
       "                 DecisionTreeClassifier(max_depth=6, max_features=9,\n",
       "                                        min_samples_leaf=80,\n",
       "                                        min_samples_split=32,\n",
       "                                        random_state=0))])</pre><b>In a Jupyter environment, please rerun this cell to show the HTML representation or trust the notebook. <br />On GitHub, the HTML representation is unable to render, please try loading this page with nbviewer.org.</b></div><div class=\"sk-container\" hidden><div class=\"sk-item sk-dashed-wrapped\"><div class=\"sk-label-container\"><div class=\"sk-label sk-toggleable\"><input class=\"sk-toggleable__control sk-hidden--visually\" id=\"sk-estimator-id-218\" type=\"checkbox\" ><label for=\"sk-estimator-id-218\" class=\"sk-toggleable__label sk-toggleable__label-arrow\">Pipeline</label><div class=\"sk-toggleable__content\"><pre>Pipeline(steps=[(&#x27;tansformer&#x27;,\n",
       "                 ColumnTransformer(remainder=&#x27;passthrough&#x27;,\n",
       "                                   transformers=[(&#x27;pipe_poly_scaling&#x27;,\n",
       "                                                  Pipeline(steps=[(&#x27;poly&#x27;,\n",
       "                                                                   PolynomialFeatures(degree=1)),\n",
       "                                                                  (&#x27;scaling&#x27;,\n",
       "                                                                   RobustScaler())]),\n",
       "                                                  [&#x27;previous_cancellations&#x27;,\n",
       "                                                   &#x27;booking_changes&#x27;,\n",
       "                                                   &#x27;days_in_waiting_list&#x27;,\n",
       "                                                   &#x27;required_car_parking_spaces&#x27;,\n",
       "                                                   &#x27;total_of_special_requests&#x27;]),\n",
       "                                                 (&#x27;onehot&#x27;,\n",
       "                                                  OneHotEncoder(drop=&#x27;first&#x27;),\n",
       "                                                  [&#x27;market_segment&#x27;,\n",
       "                                                   &#x27;deposit_type&#x27;,\n",
       "                                                   &#x27;customer_type&#x27;,\n",
       "                                                   &#x27;reserved_room_type&#x27;]),\n",
       "                                                 (&#x27;binary&#x27;, BinaryEncoder(),\n",
       "                                                  [&#x27;country&#x27;])])),\n",
       "                (&#x27;resampler&#x27;, SMOTE(random_state=0)),\n",
       "                (&#x27;model&#x27;,\n",
       "                 DecisionTreeClassifier(max_depth=6, max_features=9,\n",
       "                                        min_samples_leaf=80,\n",
       "                                        min_samples_split=32,\n",
       "                                        random_state=0))])</pre></div></div></div><div class=\"sk-serial\"><div class=\"sk-item sk-dashed-wrapped\"><div class=\"sk-label-container\"><div class=\"sk-label sk-toggleable\"><input class=\"sk-toggleable__control sk-hidden--visually\" id=\"sk-estimator-id-219\" type=\"checkbox\" ><label for=\"sk-estimator-id-219\" class=\"sk-toggleable__label sk-toggleable__label-arrow\">tansformer: ColumnTransformer</label><div class=\"sk-toggleable__content\"><pre>ColumnTransformer(remainder=&#x27;passthrough&#x27;,\n",
       "                  transformers=[(&#x27;pipe_poly_scaling&#x27;,\n",
       "                                 Pipeline(steps=[(&#x27;poly&#x27;,\n",
       "                                                  PolynomialFeatures(degree=1)),\n",
       "                                                 (&#x27;scaling&#x27;, RobustScaler())]),\n",
       "                                 [&#x27;previous_cancellations&#x27;, &#x27;booking_changes&#x27;,\n",
       "                                  &#x27;days_in_waiting_list&#x27;,\n",
       "                                  &#x27;required_car_parking_spaces&#x27;,\n",
       "                                  &#x27;total_of_special_requests&#x27;]),\n",
       "                                (&#x27;onehot&#x27;, OneHotEncoder(drop=&#x27;first&#x27;),\n",
       "                                 [&#x27;market_segment&#x27;, &#x27;deposit_type&#x27;,\n",
       "                                  &#x27;customer_type&#x27;, &#x27;reserved_room_type&#x27;]),\n",
       "                                (&#x27;binary&#x27;, BinaryEncoder(), [&#x27;country&#x27;])])</pre></div></div></div><div class=\"sk-parallel\"><div class=\"sk-parallel-item\"><div class=\"sk-item\"><div class=\"sk-label-container\"><div class=\"sk-label sk-toggleable\"><input class=\"sk-toggleable__control sk-hidden--visually\" id=\"sk-estimator-id-220\" type=\"checkbox\" ><label for=\"sk-estimator-id-220\" class=\"sk-toggleable__label sk-toggleable__label-arrow\">pipe_poly_scaling</label><div class=\"sk-toggleable__content\"><pre>[&#x27;previous_cancellations&#x27;, &#x27;booking_changes&#x27;, &#x27;days_in_waiting_list&#x27;, &#x27;required_car_parking_spaces&#x27;, &#x27;total_of_special_requests&#x27;]</pre></div></div></div><div class=\"sk-serial\"><div class=\"sk-item\"><div class=\"sk-serial\"><div class=\"sk-item\"><div class=\"sk-estimator sk-toggleable\"><input class=\"sk-toggleable__control sk-hidden--visually\" id=\"sk-estimator-id-221\" type=\"checkbox\" ><label for=\"sk-estimator-id-221\" class=\"sk-toggleable__label sk-toggleable__label-arrow\">PolynomialFeatures</label><div class=\"sk-toggleable__content\"><pre>PolynomialFeatures(degree=1)</pre></div></div></div><div class=\"sk-item\"><div class=\"sk-estimator sk-toggleable\"><input class=\"sk-toggleable__control sk-hidden--visually\" id=\"sk-estimator-id-222\" type=\"checkbox\" ><label for=\"sk-estimator-id-222\" class=\"sk-toggleable__label sk-toggleable__label-arrow\">RobustScaler</label><div class=\"sk-toggleable__content\"><pre>RobustScaler()</pre></div></div></div></div></div></div></div></div><div class=\"sk-parallel-item\"><div class=\"sk-item\"><div class=\"sk-label-container\"><div class=\"sk-label sk-toggleable\"><input class=\"sk-toggleable__control sk-hidden--visually\" id=\"sk-estimator-id-223\" type=\"checkbox\" ><label for=\"sk-estimator-id-223\" class=\"sk-toggleable__label sk-toggleable__label-arrow\">onehot</label><div class=\"sk-toggleable__content\"><pre>[&#x27;market_segment&#x27;, &#x27;deposit_type&#x27;, &#x27;customer_type&#x27;, &#x27;reserved_room_type&#x27;]</pre></div></div></div><div class=\"sk-serial\"><div class=\"sk-item\"><div class=\"sk-estimator sk-toggleable\"><input class=\"sk-toggleable__control sk-hidden--visually\" id=\"sk-estimator-id-224\" type=\"checkbox\" ><label for=\"sk-estimator-id-224\" class=\"sk-toggleable__label sk-toggleable__label-arrow\">OneHotEncoder</label><div class=\"sk-toggleable__content\"><pre>OneHotEncoder(drop=&#x27;first&#x27;)</pre></div></div></div></div></div></div><div class=\"sk-parallel-item\"><div class=\"sk-item\"><div class=\"sk-label-container\"><div class=\"sk-label sk-toggleable\"><input class=\"sk-toggleable__control sk-hidden--visually\" id=\"sk-estimator-id-225\" type=\"checkbox\" ><label for=\"sk-estimator-id-225\" class=\"sk-toggleable__label sk-toggleable__label-arrow\">binary</label><div class=\"sk-toggleable__content\"><pre>[&#x27;country&#x27;]</pre></div></div></div><div class=\"sk-serial\"><div class=\"sk-item\"><div class=\"sk-estimator sk-toggleable\"><input class=\"sk-toggleable__control sk-hidden--visually\" id=\"sk-estimator-id-226\" type=\"checkbox\" ><label for=\"sk-estimator-id-226\" class=\"sk-toggleable__label sk-toggleable__label-arrow\">BinaryEncoder</label><div class=\"sk-toggleable__content\"><pre>BinaryEncoder()</pre></div></div></div></div></div></div><div class=\"sk-parallel-item\"><div class=\"sk-item\"><div class=\"sk-label-container\"><div class=\"sk-label sk-toggleable\"><input class=\"sk-toggleable__control sk-hidden--visually\" id=\"sk-estimator-id-227\" type=\"checkbox\" ><label for=\"sk-estimator-id-227\" class=\"sk-toggleable__label sk-toggleable__label-arrow\">remainder</label><div class=\"sk-toggleable__content\"><pre>[]</pre></div></div></div><div class=\"sk-serial\"><div class=\"sk-item\"><div class=\"sk-estimator sk-toggleable\"><input class=\"sk-toggleable__control sk-hidden--visually\" id=\"sk-estimator-id-228\" type=\"checkbox\" ><label for=\"sk-estimator-id-228\" class=\"sk-toggleable__label sk-toggleable__label-arrow\">passthrough</label><div class=\"sk-toggleable__content\"><pre>passthrough</pre></div></div></div></div></div></div></div></div><div class=\"sk-item\"><div class=\"sk-estimator sk-toggleable\"><input class=\"sk-toggleable__control sk-hidden--visually\" id=\"sk-estimator-id-229\" type=\"checkbox\" ><label for=\"sk-estimator-id-229\" class=\"sk-toggleable__label sk-toggleable__label-arrow\">SMOTE</label><div class=\"sk-toggleable__content\"><pre>SMOTE(random_state=0)</pre></div></div></div><div class=\"sk-item\"><div class=\"sk-estimator sk-toggleable\"><input class=\"sk-toggleable__control sk-hidden--visually\" id=\"sk-estimator-id-230\" type=\"checkbox\" ><label for=\"sk-estimator-id-230\" class=\"sk-toggleable__label sk-toggleable__label-arrow\">DecisionTreeClassifier</label><div class=\"sk-toggleable__content\"><pre>DecisionTreeClassifier(max_depth=6, max_features=9, min_samples_leaf=80,\n",
       "                       min_samples_split=32, random_state=0)</pre></div></div></div></div></div></div></div>"
      ],
      "text/plain": [
       "Pipeline(steps=[('tansformer',\n",
       "                 ColumnTransformer(remainder='passthrough',\n",
       "                                   transformers=[('pipe_poly_scaling',\n",
       "                                                  Pipeline(steps=[('poly',\n",
       "                                                                   PolynomialFeatures(degree=1)),\n",
       "                                                                  ('scaling',\n",
       "                                                                   RobustScaler())]),\n",
       "                                                  ['previous_cancellations',\n",
       "                                                   'booking_changes',\n",
       "                                                   'days_in_waiting_list',\n",
       "                                                   'required_car_parking_spaces',\n",
       "                                                   'total_of_special_requests']),\n",
       "                                                 ('onehot',\n",
       "                                                  OneHotEncoder(drop='first'),\n",
       "                                                  ['market_segment',\n",
       "                                                   'deposit_type',\n",
       "                                                   'customer_type',\n",
       "                                                   'reserved_room_type']),\n",
       "                                                 ('binary', BinaryEncoder(),\n",
       "                                                  ['country'])])),\n",
       "                ('resampler', SMOTE(random_state=0)),\n",
       "                ('model',\n",
       "                 DecisionTreeClassifier(max_depth=6, max_features=9,\n",
       "                                        min_samples_leaf=80,\n",
       "                                        min_samples_split=32,\n",
       "                                        random_state=0))])"
      ]
     },
     "execution_count": 257,
     "metadata": {},
     "output_type": "execute_result"
    }
   ],
   "source": [
    "model = pickle.load(open('hotel_booking_model.sav', 'rb'))\n",
    "model"
   ]
  },
  {
   "attachments": {},
   "cell_type": "markdown",
   "metadata": {},
   "source": [
    "### Prediction to Customer in Dataset"
   ]
  },
  {
   "cell_type": "code",
   "execution_count": 258,
   "metadata": {},
   "outputs": [
    {
     "data": {
      "text/html": [
       "<div>\n",
       "<style scoped>\n",
       "    .dataframe tbody tr th:only-of-type {\n",
       "        vertical-align: middle;\n",
       "    }\n",
       "\n",
       "    .dataframe tbody tr th {\n",
       "        vertical-align: top;\n",
       "    }\n",
       "\n",
       "    .dataframe thead th {\n",
       "        text-align: right;\n",
       "    }\n",
       "</style>\n",
       "<table border=\"1\" class=\"dataframe\">\n",
       "  <thead>\n",
       "    <tr style=\"text-align: right;\">\n",
       "      <th></th>\n",
       "      <th>country</th>\n",
       "      <th>market_segment</th>\n",
       "      <th>previous_cancellations</th>\n",
       "      <th>booking_changes</th>\n",
       "      <th>deposit_type</th>\n",
       "      <th>days_in_waiting_list</th>\n",
       "      <th>customer_type</th>\n",
       "      <th>reserved_room_type</th>\n",
       "      <th>required_car_parking_spaces</th>\n",
       "      <th>total_of_special_requests</th>\n",
       "    </tr>\n",
       "  </thead>\n",
       "  <tbody>\n",
       "    <tr>\n",
       "      <th>7</th>\n",
       "      <td>PRT</td>\n",
       "      <td>Groups</td>\n",
       "      <td>0</td>\n",
       "      <td>0</td>\n",
       "      <td>Non Refund</td>\n",
       "      <td>0</td>\n",
       "      <td>Transient</td>\n",
       "      <td>A</td>\n",
       "      <td>0</td>\n",
       "      <td>0</td>\n",
       "    </tr>\n",
       "  </tbody>\n",
       "</table>\n",
       "</div>"
      ],
      "text/plain": [
       "  country market_segment  previous_cancellations  booking_changes  \\\n",
       "7     PRT         Groups                       0                0   \n",
       "\n",
       "  deposit_type  days_in_waiting_list customer_type reserved_room_type  \\\n",
       "7   Non Refund                     0     Transient                  A   \n",
       "\n",
       "   required_car_parking_spaces  total_of_special_requests  \n",
       "7                            0                          0  "
      ]
     },
     "execution_count": 258,
     "metadata": {},
     "output_type": "execute_result"
    }
   ],
   "source": [
    "# customer index 7 yang akan diprediksi\n",
    "X.iloc[[7], :]"
   ]
  },
  {
   "cell_type": "code",
   "execution_count": 265,
   "metadata": {},
   "outputs": [
    {
     "data": {
      "text/plain": [
       "array([1], dtype=int64)"
      ]
     },
     "execution_count": 265,
     "metadata": {},
     "output_type": "execute_result"
    }
   ],
   "source": [
    "# melakukan predict pada seorang customer\n",
    "\n",
    "model.predict(X.iloc[[3], :])\n",
    "\n",
    "# customer index 3 diprediksi akan melakukan cancel"
   ]
  },
  {
   "cell_type": "code",
   "execution_count": 266,
   "metadata": {},
   "outputs": [
    {
     "data": {
      "text/plain": [
       "1"
      ]
     },
     "execution_count": 266,
     "metadata": {},
     "output_type": "execute_result"
    }
   ],
   "source": [
    "# y actual = 1 (cancel)\n",
    "# prediksi di atas ternyata benar. Customer index 3 melakukan cancel (TP)\n",
    "y[3]"
   ]
  },
  {
   "cell_type": "markdown",
   "metadata": {},
   "source": [
    "### Prediction to New Customer"
   ]
  },
  {
   "cell_type": "code",
   "execution_count": 269,
   "metadata": {},
   "outputs": [
    {
     "data": {
      "text/html": [
       "<div>\n",
       "<style scoped>\n",
       "    .dataframe tbody tr th:only-of-type {\n",
       "        vertical-align: middle;\n",
       "    }\n",
       "\n",
       "    .dataframe tbody tr th {\n",
       "        vertical-align: top;\n",
       "    }\n",
       "\n",
       "    .dataframe thead th {\n",
       "        text-align: right;\n",
       "    }\n",
       "</style>\n",
       "<table border=\"1\" class=\"dataframe\">\n",
       "  <thead>\n",
       "    <tr style=\"text-align: right;\">\n",
       "      <th></th>\n",
       "      <th>country</th>\n",
       "      <th>market_segment</th>\n",
       "      <th>previous_cancellations</th>\n",
       "      <th>booking_changes</th>\n",
       "      <th>deposit_type</th>\n",
       "      <th>days_in_waiting_list</th>\n",
       "      <th>customer_type</th>\n",
       "      <th>reserved_room_type</th>\n",
       "      <th>required_car_parking_spaces</th>\n",
       "      <th>total_of_special_requests</th>\n",
       "    </tr>\n",
       "  </thead>\n",
       "  <tbody>\n",
       "    <tr>\n",
       "      <th>0</th>\n",
       "      <td>FRA</td>\n",
       "      <td>Complementary</td>\n",
       "      <td>2</td>\n",
       "      <td>1</td>\n",
       "      <td>Non Refund</td>\n",
       "      <td>10</td>\n",
       "      <td>Transient-Party</td>\n",
       "      <td>A</td>\n",
       "      <td>1</td>\n",
       "      <td>1</td>\n",
       "    </tr>\n",
       "  </tbody>\n",
       "</table>\n",
       "</div>"
      ],
      "text/plain": [
       "  country market_segment  previous_cancellations  booking_changes  \\\n",
       "0     FRA  Complementary                       2                1   \n",
       "\n",
       "  deposit_type  days_in_waiting_list    customer_type reserved_room_type  \\\n",
       "0   Non Refund                    10  Transient-Party                  A   \n",
       "\n",
       "   required_car_parking_spaces  total_of_special_requests  \n",
       "0                            1                          1  "
      ]
     },
     "execution_count": 269,
     "metadata": {},
     "output_type": "execute_result"
    }
   ],
   "source": [
    "df_test = pd.DataFrame({\n",
    "    'country': ['FRA'],\n",
    "    'market_segment': ['Complementary'],\n",
    "    'previous_cancellations': [2],\n",
    "    'booking_changes': [1],\n",
    "    'deposit_type': ['Non Refund'],\n",
    "    'days_in_waiting_list':[10],\n",
    "    'customer_type':['Transient-Party'],\n",
    "    'reserved_room_type':['A'],\n",
    "    'required_car_parking_spaces':[1],\n",
    "    'total_of_special_requests':[1]\n",
    "})\n",
    "\n",
    "df_test"
   ]
  },
  {
   "cell_type": "code",
   "execution_count": 270,
   "metadata": {},
   "outputs": [
    {
     "data": {
      "text/plain": [
       "array([0], dtype=int64)"
      ]
     },
     "execution_count": 270,
     "metadata": {},
     "output_type": "execute_result"
    }
   ],
   "source": [
    "# melakukan predict pada seorang customer baru \n",
    "model.predict(df_test)\n",
    "\n",
    "# customer baru diprediksi tidak akan melakukan cancel"
   ]
  },
  {
   "attachments": {},
   "cell_type": "markdown",
   "metadata": {},
   "source": [
    "### Conclusion and Recomendation"
   ]
  },
  {
   "cell_type": "code",
   "execution_count": 276,
   "metadata": {},
   "outputs": [
    {
     "name": "stdout",
     "output_type": "stream",
     "text": [
      "              precision    recall  f1-score   support\n",
      "\n",
      "           0       0.92      0.48      0.63     10559\n",
      "           1       0.51      0.93      0.66      6156\n",
      "\n",
      "    accuracy                           0.65     16715\n",
      "   macro avg       0.72      0.71      0.65     16715\n",
      "weighted avg       0.77      0.65      0.64     16715\n",
      "\n"
     ]
    }
   ],
   "source": [
    "print(classification_report(y_test, y_pred_dtc_tuning))"
   ]
  },
  {
   "cell_type": "code",
   "execution_count": 302,
   "metadata": {},
   "outputs": [
    {
     "data": {
      "image/png": "[encoded data removed]",
      "text/plain": [
       "<Figure size 640x480 with 2 Axes>"
      ]
     },
     "metadata": {},
     "output_type": "display_data"
    }
   ],
   "source": [
    "sns.heatmap(confusion_matrix(y,y_pred_dtc_all),annot=True,fmt='.0f')\n",
    "plt.title('Cofusion Matrix After Tuning')\n",
    "plt.xlabel('y Prediksi')\n",
    "plt.ylabel('y Aktual');"
   ]
  },
  {
   "cell_type": "code",
   "execution_count": 304,
   "metadata": {},
   "outputs": [
    {
     "data": {
      "text/plain": [
       "0    10559\n",
       "1     6156\n",
       "Name: is_canceled, dtype: int64"
      ]
     },
     "execution_count": 304,
     "metadata": {},
     "output_type": "execute_result"
    }
   ],
   "source": [
    "y_test.value_counts()"
   ]
  },
  {
   "cell_type": "code",
   "execution_count": 305,
   "metadata": {},
   "outputs": [
    {
     "data": {
      "text/plain": [
       "array([[5100, 5459],\n",
       "       [ 441, 5715]], dtype=int64)"
      ]
     },
     "execution_count": 305,
     "metadata": {},
     "output_type": "execute_result"
    }
   ],
   "source": [
    "confusion_matrix(y_test, y_pred_dtc_tuning)"
   ]
  },
  {
   "attachments": {},
   "cell_type": "markdown",
   "metadata": {},
   "source": [
    "Berdasarkan hasil classification report dari model kita, kita dapat menyimpulkan/mengambil konklusi bahwa bila seandainya nanti kita menggunakan model kita untuk memfilter/menyaring list customer yang kita coba tawarkan, maka model kita dapat memprediksi 93% customer benar akan melakukan cancel pada hotel tersebut. \n",
    "\n",
    "Model kita ini memiliki ketepatan prediksi kandidat yang akan cancel sebesar 93% (recallnyanya), jadi setiap model kita memprediksi bahwa seorang kandidat itu akan cancel, maka kemungkinan tebakannya benar itu sebesar 93% kurang lebih. \n",
    "\n",
    "Jumlah kandidat customer yang kita miliki untuk suatu kurun waktu sebanyak 16.715 orang\n",
    "maka hitungannya kurang lebih akan seperti ini :\n",
    "\n",
    "persentase tebakan benar \n",
    "sebelum menggunakan machine learning:6156/(6156+10559) *100 % = 37,5% \n",
    "setelah menggunakan machine learning: 5715/5715+5459 = 51% \n",
    "\n",
    "sehingga, jika dianggap biaya kerugian 100$ maka tanpa menggunakan machine learning kita bisa mengurangi kerugian sebesar 3750$, \n",
    "sedangkan dengan menggunakan machine learning kita bisa mengurangi kerugian sebesar 5100$. \n",
    "\n",
    "Berdasarkan contoh hitungan tersebut, terlihat bahwa dengan menggunakan model kita, maka perusahaan tersebut akan menghemat biaya yang cukup besar."
   ]
  },
  {
   "attachments": {},
   "cell_type": "markdown",
   "metadata": {},
   "source": [
    "### Recomendation"
   ]
  },
  {
   "attachments": {},
   "cell_type": "markdown",
   "metadata": {},
   "source": [
    "Hal-hal yang bisa dilakukan untuk mengembangkan project dan modelnya lebih baik lagi :\n",
    "- Membuat sistem dimana hotel akan memprediksi customer yang akan melakukan cancel sehingga kamar dari orng yang bener-bener akan cancel dapat diberikan kepada orang yang tidak cancel. \n",
    "- menambahkan lebih banyak feature pada modelnya. \n",
    "- Menganalisa data-data yang model kita masih salah tebak untuk mengetahui alasannya dan karakteristiknya bagaimana."
   ]
  }
 ],
 "metadata": {
  "kernelspec": {
   "display_name": "base",
   "language": "python",
   "name": "python3"
  },
  "language_info": {
   "codemirror_mode": {
    "name": "ipython",
    "version": 3
   },
   "file_extension": ".py",
   "mimetype": "text/x-python",
   "name": "python",
   "nbconvert_exporter": "python",
   "pygments_lexer": "ipython3",
   "version": "3.9.16"
  },
  "orig_nbformat": 4,
  "vscode": {
   "interpreter": {
    "hash": "a077222d77dfe082b8f1dd562ad70e458ac2ab76993a0b248ab0476e32e9e8dd"
   }
  }
 },
 "nbformat": 4,
 "nbformat_minor": 2
}
